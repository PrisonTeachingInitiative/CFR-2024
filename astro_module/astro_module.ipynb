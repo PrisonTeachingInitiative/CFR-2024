{
 "cells": [
  {
   "cell_type": "markdown",
   "id": "e57356b0-a59b-46b9-b3cb-9adc3ef1e023",
   "metadata": {},
   "source": [
    "# Intro to Galaxies"
   ]
  },
  {
   "cell_type": "markdown",
   "id": "9687d29d-fb8c-4e95-982e-9c28272db5e3",
   "metadata": {},
   "source": [
    "# Intro to Galaxy Zoo"
   ]
  },
  {
   "cell_type": "markdown",
   "id": "f6057ac5-8472-4598-bc81-4ce88ba65faa",
   "metadata": {},
   "source": [
    "# Math for Astronomy"
   ]
  },
  {
   "cell_type": "markdown",
   "id": "815f00c1-43e3-402e-a35b-7fb755977350",
   "metadata": {},
   "source": [
    "# Python for Astronomy"
   ]
  }
 ],
 "metadata": {
  "kernelspec": {
   "display_name": "Python 3 (ipykernel)",
   "language": "python",
   "name": "python3"
  },
  "language_info": {
   "codemirror_mode": {
    "name": "ipython",
    "version": 3
   },
   "file_extension": ".py",
   "mimetype": "text/x-python",
   "name": "python",
   "nbconvert_exporter": "python",
   "pygments_lexer": "ipython3",
   "version": "3.11.5"
  }
 },
 "nbformat": 4,
 "nbformat_minor": 5
}
