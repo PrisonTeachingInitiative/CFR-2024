{
 "cells": [
  {
   "cell_type": "markdown",
   "id": "979fb7a6-8cb4-41ea-98ba-d995df217c73",
   "metadata": {},
   "source": [
    "# Data Visualization Tips and Tricks"
   ]
  },
  {
   "cell_type": "markdown",
   "id": "9f5d3a27-0127-4238-918b-f92ddefbc883",
   "metadata": {},
   "source": [
    "Hopefully this can be a supplement for your data visualization notes from the bootcamp! Feel free to refer back to this during our Astronomy module."
   ]
  },
  {
   "cell_type": "markdown",
   "id": "cbcaab8a-fe90-4000-8051-eb502c6b3a51",
   "metadata": {},
   "source": [
    "## Loading modules"
   ]
  },
  {
   "cell_type": "markdown",
   "id": "3616ef70-3729-42e6-b503-6f90b10c129d",
   "metadata": {},
   "source": [
    "The main modules we'll use are $\\texttt{numpy}$, $\\texttt{pandas}$, and $\\texttt{matplotlib}$. There are other plotting modules we could potentially use, but $\\texttt{matplotlib}$ is the most common."
   ]
  },
  {
   "cell_type": "code",
   "execution_count": 4,
   "id": "03de6983-72c0-4335-8782-c3c22abc8b87",
   "metadata": {},
   "outputs": [],
   "source": [
    "import numpy as np\n",
    "import matplotlib.pyplot as plt\n",
    "import pandas as pd\n",
    "#this line is show I can show mathematical symbols\n",
    "plt.rcParams.update({\"text.usetex\": True,  \"axes.formatter.use_mathtext\": True}) "
   ]
  },
  {
   "cell_type": "markdown",
   "id": "0409ba8f-561a-48ca-9b0d-3bc0fff894ee",
   "metadata": {},
   "source": [
    "## Reading in data\n",
    "\n",
    "In order to visualize any data, we need to read it into our code! Most data is in some kind of tabular format, like what you would see in Excel or Google Sheets. It is typically 1D (a list) or 2D (a sheet, with columns and rows), though if you have time series data, you might have 3D or higher-dimension data set. Let's just focus on 1D and 2D cases for now though. "
   ]
  },
  {
   "cell_type": "markdown",
   "id": "f6095428-dfdd-4506-85bf-7cb1e5447983",
   "metadata": {},
   "source": [
    "### $\\color{green}{\\texttt{numpy}}$\n",
    "To read data with $\\texttt{numpy}$, it helps to have it in what's known as a \"comma-separated values\" or CSV format. Your files will have the \".csv\" extension if they are in this format, and you can save Google Sheets or Excels files in this way. \n",
    "\n",
    "Let's read in a 1D file, a list of galaxies:"
   ]
  },
  {
   "cell_type": "code",
   "execution_count": null,
   "id": "8ffeae65-3fd2-430f-9e8f-91c831d7af59",
   "metadata": {},
   "outputs": [],
   "source": [
    "galaxies = np.loadtxt('galaxies.csv', delimiter=',', dtype='str')\n",
    "print(galaxies)"
   ]
  },
  {
   "cell_type": "markdown",
   "id": "dce783f9-5a97-424e-bb20-73d386ef97f8",
   "metadata": {},
   "source": [
    "We've called the module $\\texttt{loadtext}$ from the $\\texttt{numpy}$ library and specified the file path, the delimiter (the thing that is separating the values), and the type of data in this file (in this case, text strings). The default assumes that the delimiter is a comma and that teh type of data is a float (numbers), so we'll be specific here to a) get good habits in reading in data and b) make sure we don't throw any errors.\n",
    "\n",
    "But we can't really do much visualization with this 1D set of names. What if we now introduce a numerical amount for our ecological study of galaxy populations, and read in a 2D table:"
   ]
  },
  {
   "cell_type": "code",
   "execution_count": null,
   "id": "51979364-4a6e-4034-9a46-751174e8db00",
   "metadata": {},
   "outputs": [],
   "source": [
    "galaxies_inventory = np.loadtxt('galaxy_inventory.csv', usecols=[0,1], delimiter=',', dtype={'names':('Name','Mass', 'Distance', 'Size', 'Luminosity', 'Type'), 'formats':('U15', float, float, float, float, 'U15')})\n",
    "\n",
    "print(galaxies_inventory)"
   ]
  },
  {
   "cell_type": "markdown",
   "id": "bbf08931-c7c2-4069-8ad9-da2308b92c76",
   "metadata": {},
   "source": [
    "We had to specify the different data types in order to make sure the names and numbers were read in correctly (something we wouldn't have to do in $\\texttt{pandas}$!), but now we have some quantitative data we can plot. If you want to explore the data though, and pull out specific information, we can call it by index number. Note, $\\color{green}{\\texttt{python}}$ is a zero-index language, meaning it starts counting at 0 instead of 1. So if we wanted to look at the first row of data in this table, we would type:"
   ]
  },
  {
   "cell_type": "code",
   "execution_count": null,
   "id": "bbef109e-ec4d-4442-9cfc-60f611286588",
   "metadata": {},
   "outputs": [],
   "source": [
    "galaxy_inventory[0]"
   ]
  },
  {
   "cell_type": "markdown",
   "id": "c865563e-667d-4763-883d-f79984389cad",
   "metadata": {},
   "source": [
    "If we wanted to look at one or the other column we would type:"
   ]
  },
  {
   "cell_type": "code",
   "execution_count": null,
   "id": "d2e53c32-a83d-4af7-850b-f1b245390938",
   "metadata": {},
   "outputs": [],
   "source": [
    "galaxy_inventory['Name']"
   ]
  },
  {
   "cell_type": "code",
   "execution_count": null,
   "id": "36cdfbd2-6173-4f60-a70f-b47804bf9ba4",
   "metadata": {},
   "outputs": [],
   "source": [
    "galaxy_inventory['Mass']"
   ]
  },
  {
   "cell_type": "markdown",
   "id": "a9b61650-f778-4529-9e59-f887cdcd6c02",
   "metadata": {},
   "source": [
    "### $\\color{green}{\\texttt{pandas}}$"
   ]
  },
  {
   "cell_type": "markdown",
   "id": "5a0dbefe-99b9-42f2-9209-2382960ed92e",
   "metadata": {},
   "source": [
    "Using $\\texttt{pandas}$ is much better, in my opinion. It can figure out what your data looks like much without as much input, and it has additional functionality that makes reading and interpreting data a breeze compared to $\\texttt{numpy}$. Plus, its user interface for tables is much nicer on the eye. It similarly likes CSV files, but it can read other data formats just as easily. $\\texttt{pandas}$ creates objects known as \"dataframes\" as opposed to arrays. There are several ways you can create dataframes, either from your data files or from scratch within $\\texttt{python}$. Lets first load in that 2D galaxies table:"
   ]
  },
  {
   "cell_type": "code",
   "execution_count": null,
   "id": "cbe84740-0aa6-40ba-b81a-5813013e949f",
   "metadata": {},
   "outputs": [],
   "source": [
    "galaxy_inventory_pd = pd.read_csv('galaxy_inventory.csv', names=['Name', 'Mass', 'Distance', 'Size', 'Luminosity', 'Type'])\n",
    "galaxy_inventory_pd"
   ]
  },
  {
   "cell_type": "markdown",
   "id": "0a776a42-f4e3-4157-9da0-644e4fe8acc0",
   "metadata": {},
   "source": [
    "Look at that! Didn't even have to specify the delimiter or the data type. It just knows. We can even convert $\\texttt{numpy}$ tables into $\\texttt{pandas}$ tables pretty easily:"
   ]
  },
  {
   "cell_type": "code",
   "execution_count": null,
   "id": "e42ebecb-b842-4b7e-8a18-2e1238b67444",
   "metadata": {},
   "outputs": [],
   "source": [
    "pd.DataFrame(galaxy_inventory)"
   ]
  },
  {
   "cell_type": "markdown",
   "id": "a49d9a90-9f07-4ac6-a569-d9f82f933f77",
   "metadata": {},
   "source": [
    "## Plotting"
   ]
  },
  {
   "cell_type": "markdown",
   "id": "70401365-f04e-4138-95f4-695b1bfe49d5",
   "metadata": {},
   "source": [
    "### Scatter plots"
   ]
  },
  {
   "cell_type": "markdown",
   "id": "23759f9a-7682-4cef-92ba-b0375f486886",
   "metadata": {},
   "source": [
    "Scatter plots are good for visualizing data that might 'cluster' or follow a trend."
   ]
  },
  {
   "cell_type": "code",
   "execution_count": null,
   "id": "9a41210d-c0e9-484f-8612-5e9a847d5d00",
   "metadata": {},
   "outputs": [],
   "source": [
    "plt.scatter(galaxy_inventory['Mass'], galaxies_inventory['Luminosity'])\n",
    "\n",
    "plt.xlabel('Mass (M$_{\\odot}$')\n",
    "plt.ylabel('Luminosity (L$_{\\odot}$')\n",
    "plt.title('Galactic Mass-Luminosity Relationship')\n",
    "plt.savefig('mass_luminosity.png', transparent=False, bbox_inches='tight', dpi=300)\n",
    "plt.show()"
   ]
  }
 ],
 "metadata": {
  "kernelspec": {
   "display_name": "Python 3 (ipykernel)",
   "language": "python",
   "name": "python3"
  },
  "language_info": {
   "codemirror_mode": {
    "name": "ipython",
    "version": 3
   },
   "file_extension": ".py",
   "mimetype": "text/x-python",
   "name": "python",
   "nbconvert_exporter": "python",
   "pygments_lexer": "ipython3",
   "version": "3.11.5"
  }
 },
 "nbformat": 4,
 "nbformat_minor": 5
}
