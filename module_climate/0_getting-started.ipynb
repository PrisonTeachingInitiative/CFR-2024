{
 "cells": [
  {
   "cell_type": "markdown",
   "id": "2da0ff0e-c478-4055-8fa2-a528bbb468a4",
   "metadata": {},
   "source": [
    "# Getting Started\n",
    "Welcome to the Coding Foundations of Research (CFR) module on Climate! In the next three weeks we'll learn about the climate and working with multi-demensional datasets. But before we dig in, we'll make sure we're properly set up."
   ]
  },
  {
   "cell_type": "code",
   "execution_count": null,
   "id": "07df0ea5-810a-4595-a6d7-34d737c749ff",
   "metadata": {},
   "outputs": [],
   "source": []
  }
 ],
 "metadata": {
  "kernelspec": {
   "display_name": "Python 3 (ipykernel)",
   "language": "python",
   "name": "python3"
  },
  "language_info": {
   "codemirror_mode": {
    "name": "ipython",
    "version": 3
   },
   "file_extension": ".py",
   "mimetype": "text/x-python",
   "name": "python",
   "nbconvert_exporter": "python",
   "pygments_lexer": "ipython3",
   "version": "3.11.7"
  }
 },
 "nbformat": 4,
 "nbformat_minor": 5
}
