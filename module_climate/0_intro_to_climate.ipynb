{
 "cells": [
  {
   "cell_type": "markdown",
   "id": "2da0ff0e-c478-4055-8fa2-a528bbb468a4",
   "metadata": {},
   "source": [
    "# Introduction to Climate Science and Earth's Energy Budget\n",
    "Welcome to the Coding Foundations of Research (CFR) module on Climate Science! In the next three weeks we'll learn about Earth's climate system, climate modeling, and working with multi-demensional datasets."
   ]
  },
  {
   "cell_type": "markdown",
   "id": "66fce718-a250-4a26-a4aa-c7407fbeb8a0",
   "metadata": {},
   "source": [
    "## What is Climate Science?\n",
    "Climate science is the study of the climate system of the earth with emphasis on the physical, dynamical, and chemical interactions of the atmosphere, ocean, land, ice, and the terrestrial and marine biospheres. The field encompasses changes on seasonal to interannual time scales and those induced by human activities, as well as paleoclimatic changes on time scales from centuries to millions of years.\n",
    "\n",
    "### Weather vs. Climate\n",
    "**Weather** refers to atmospheric conditions that occur locally over short periods of time—from minutes to hours or days. Familiar examples include rain, snow, clouds, winds, floods, or thunderstorms.\n",
    "\n",
    "**Climate**, refers to the long-term (usually at least 30 years) regional or even global average of temperature, humidity, and rainfall patterns over seasons, years, or decades."
   ]
  },
  {
   "cell_type": "markdown",
   "id": "fbb27840-cfb2-4276-ab56-26da4c32fa9e",
   "metadata": {},
   "source": [
    "## Why study Earth's climate?\n",
    "\n",
    "*Poll the class*"
   ]
  },
  {
   "cell_type": "markdown",
   "id": "21b6e1a6-1777-4509-9d1d-dc82d5958af2",
   "metadata": {},
   "source": [
    "## How do we study Earth's Climate?\n",
    "\n",
    "* **Direct measurements**\n",
    "    * in-situ measurements (i.e. on the ground, in the air, in the ocean, on/in ice)\n",
    "    * data from satellites in space\n",
    "    * instruments on the International Space Station\n",
    "* **In-direct measurements**\n",
    "    * *Biological proxies*: geologically preserved organisms (such as diatoms, forams, and coral), tree rings\n",
    "    * *Physcial proxies*: ice cores, sediment cores\n",
    "    * *Chemical proxies*: isotope ratios, elemental analyses, biomarkers, biogenic silica\n",
    "* **Theory and Simple Models**\n",
    "* **Complex Models (Computer Simulations)**\n",
    "* **Laboratory Experiments**"
   ]
  },
  {
   "cell_type": "markdown",
   "id": "e0e6e19b-cc62-4192-ba81-77ad36974a96",
   "metadata": {},
   "source": [
    "## Earth's mean surface temperature, a key climate indicator\n",
    "\n",
    "The average temperature of the surface of the Earth is a powerful tool for quantifying Earth's climate and has profound impacts on human, biological, and physical systems. So what sets the mean surface temperature of the Earth?"
   ]
  },
  {
   "cell_type": "markdown",
   "id": "4525710e-0405-4a66-a43f-86d71e129058",
   "metadata": {},
   "source": [
    "## [Earth's Energy Balance](https://earthobservatory.nasa.gov/features/EnergyBalance)\n",
    "\n",
    "Earth's climate is powered by incoming energy from the sun. For Earth to maintain a stable temperature, the same ammount of energy needs to radiate back out to space as is incoming from the Sun.  This net flow of energy into and out of the Earth system is Earth’s energy budget.\n",
    "\n",
    "### Incoming Sunlight (Solar Radiation)\n",
    "At Earth’s average distance from the Sun (about 150 million kilometers), the average intensity of solar energy reaching the top of the atmosphere directly facing the Sun is about 1,360 watts per square meter, according to measurements made by the most recent NASA satellite missions. This amount of power is known as the total solar irradiance. \n",
    "\n",
    "Energy from sunlight is not spread evenly over Earth. One hemisphere is always dark, receiving no solar radiation at all. On the daylight side, only the point directly under the Sun receives full-intensity solar radiation. From the equator to the poles, the Sun’ rays meet Earth at smaller and smaller angles, and the light gets spread over larger and larger surface areas (red lines). (NASA illustration by Robert Simmon.)\n",
    "\n",
    "![NASA schematic of solar irradiance over Earth](https://assets.science.nasa.gov/content/dam/science/esd/eo/content-feature/energybalance/images/sunlight_angle.png)\n",
    "\n",
    "Averaged over the entire planet, the amount of sunlight arriving at the top of Earth’s atmosphere is only one-fourth of the total solar irradiance, or approximately **340 watts per square meter**.\n",
    "\n",
    "### Earth's Energy Budget (Stable Surface Temperature)\n",
    "For Earth’s temperature to be stable over long periods of time, incoming energy and outgoing energy have to be equal. In other words, the energy budget at the top of the atmosphere must balance. This state of balance is called radiative equilibrium.\n",
    "\n",
    "About 29 percent of the solar energy that arrives at the top of the atmosphere is reflected back to space by clouds, atmospheric particles, or bright ground surfaces like sea ice and snow. This energy plays no role in Earth’s climate system. About 23 percent of incoming solar energy is absorbed in the atmosphere by water vapor, dust, and ozone, and 48 percent passes through the atmosphere and is absorbed by the surface. Thus, about 71 percent of the total incoming solar energy is absorbed by the Earth system.\n",
    "\n",
    "Temperature doesn’t infinitely rise, however, because atoms and molecules on Earth are not just absorbing sunlight, they are also radiating thermal infrared energy (heat). The amount of heat a surface radiates is proportional to the fourth power of its temperature. If temperature doubles, radiated energy increases by a factor of 16 (2 to the 4th power).\n",
    "\n",
    "To understand how the Earth’s climate system balances the energy budget, we have to consider processes occurring at the three levels: the surface of the Earth, where most solar heating takes place; the edge of Earth’s atmosphere, where sunlight enters the system; and the atmosphere in between. At each level, the amount of incoming and outgoing energy, or net flux, must be equal.\n",
    "\n",
    "![NASA schematic of Earth's energy balance](https://assets.science.nasa.gov/content/dam/science/esd/eo/content-feature/energybalance/images/global_energy_budget_components.png)\n",
    "\n",
    "We'll revisit this budget in more detail in the coming sessions, but for now, let's look at a record of Earth's surface temperature to see what Earth's climate has been like."
   ]
  },
  {
   "cell_type": "markdown",
   "id": "cf3881d2-16e8-4b15-8367-288855c904d3",
   "metadata": {},
   "source": [
    "## Earth's Global Average Surface Temperature (1850-2023)"
   ]
  },
  {
   "cell_type": "code",
   "execution_count": 1,
   "id": "b7e8cd88-8dc5-464f-ab06-622b9a017d45",
   "metadata": {},
   "outputs": [],
   "source": [
    "# import packages\n",
    "import pandas as pd\n",
    "import matplotlib.pyplot as plt"
   ]
  },
  {
   "cell_type": "code",
   "execution_count": 2,
   "id": "ba1ba018-e094-4283-894a-96432638ce34",
   "metadata": {},
   "outputs": [],
   "source": [
    "# load data\n",
    "fname_in = '../data/GAST_BerkeleyEarth_1850-2023.csv'\n",
    "gast = pd.read_csv(fname_in)"
   ]
  },
  {
   "cell_type": "code",
   "execution_count": 3,
   "id": "1e50a878-1c4a-4f02-b968-8eb6dee80f8e",
   "metadata": {},
   "outputs": [
    {
     "data": {
      "text/html": [
       "<div>\n",
       "<style scoped>\n",
       "    .dataframe tbody tr th:only-of-type {\n",
       "        vertical-align: middle;\n",
       "    }\n",
       "\n",
       "    .dataframe tbody tr th {\n",
       "        vertical-align: top;\n",
       "    }\n",
       "\n",
       "    .dataframe thead th {\n",
       "        text-align: right;\n",
       "    }\n",
       "</style>\n",
       "<table border=\"1\" class=\"dataframe\">\n",
       "  <thead>\n",
       "    <tr style=\"text-align: right;\">\n",
       "      <th></th>\n",
       "      <th>Year</th>\n",
       "      <th>Month</th>\n",
       "      <th>Monthly Average</th>\n",
       "      <th>Monthly Anomaly Uncertainty</th>\n",
       "    </tr>\n",
       "  </thead>\n",
       "  <tbody>\n",
       "    <tr>\n",
       "      <th>0</th>\n",
       "      <td>1850</td>\n",
       "      <td>1</td>\n",
       "      <td>11.440</td>\n",
       "      <td>0.404</td>\n",
       "    </tr>\n",
       "    <tr>\n",
       "      <th>1</th>\n",
       "      <td>1850</td>\n",
       "      <td>2</td>\n",
       "      <td>12.197</td>\n",
       "      <td>0.524</td>\n",
       "    </tr>\n",
       "    <tr>\n",
       "      <th>2</th>\n",
       "      <td>1850</td>\n",
       "      <td>3</td>\n",
       "      <td>12.666</td>\n",
       "      <td>0.449</td>\n",
       "    </tr>\n",
       "    <tr>\n",
       "      <th>3</th>\n",
       "      <td>1850</td>\n",
       "      <td>4</td>\n",
       "      <td>13.345</td>\n",
       "      <td>0.304</td>\n",
       "    </tr>\n",
       "    <tr>\n",
       "      <th>4</th>\n",
       "      <td>1850</td>\n",
       "      <td>5</td>\n",
       "      <td>14.288</td>\n",
       "      <td>0.249</td>\n",
       "    </tr>\n",
       "    <tr>\n",
       "      <th>...</th>\n",
       "      <td>...</td>\n",
       "      <td>...</td>\n",
       "      <td>...</td>\n",
       "      <td>...</td>\n",
       "    </tr>\n",
       "    <tr>\n",
       "      <th>2083</th>\n",
       "      <td>2023</td>\n",
       "      <td>8</td>\n",
       "      <td>17.092</td>\n",
       "      <td>0.047</td>\n",
       "    </tr>\n",
       "    <tr>\n",
       "      <th>2084</th>\n",
       "      <td>2023</td>\n",
       "      <td>9</td>\n",
       "      <td>16.736</td>\n",
       "      <td>0.040</td>\n",
       "    </tr>\n",
       "    <tr>\n",
       "      <th>2085</th>\n",
       "      <td>2023</td>\n",
       "      <td>10</td>\n",
       "      <td>15.644</td>\n",
       "      <td>0.046</td>\n",
       "    </tr>\n",
       "    <tr>\n",
       "      <th>2086</th>\n",
       "      <td>2023</td>\n",
       "      <td>11</td>\n",
       "      <td>14.642</td>\n",
       "      <td>0.050</td>\n",
       "    </tr>\n",
       "    <tr>\n",
       "      <th>2087</th>\n",
       "      <td>2023</td>\n",
       "      <td>12</td>\n",
       "      <td>13.929</td>\n",
       "      <td>0.045</td>\n",
       "    </tr>\n",
       "  </tbody>\n",
       "</table>\n",
       "<p>2088 rows × 4 columns</p>\n",
       "</div>"
      ],
      "text/plain": [
       "      Year  Month  Monthly Average  Monthly Anomaly Uncertainty\n",
       "0     1850      1           11.440                        0.404\n",
       "1     1850      2           12.197                        0.524\n",
       "2     1850      3           12.666                        0.449\n",
       "3     1850      4           13.345                        0.304\n",
       "4     1850      5           14.288                        0.249\n",
       "...    ...    ...              ...                          ...\n",
       "2083  2023      8           17.092                        0.047\n",
       "2084  2023      9           16.736                        0.040\n",
       "2085  2023     10           15.644                        0.046\n",
       "2086  2023     11           14.642                        0.050\n",
       "2087  2023     12           13.929                        0.045\n",
       "\n",
       "[2088 rows x 4 columns]"
      ]
     },
     "execution_count": 3,
     "metadata": {},
     "output_type": "execute_result"
    }
   ],
   "source": [
    "gast"
   ]
  },
  {
   "cell_type": "code",
   "execution_count": 4,
   "id": "d390aa50-2bb0-479a-9a36-b4fb7257adf7",
   "metadata": {},
   "outputs": [],
   "source": [
    "gast['Time'] = pd.to_datetime(gast[['Year','Month']].assign(Day=1))"
   ]
  },
  {
   "cell_type": "code",
   "execution_count": 5,
   "id": "a719680e-914f-484c-8f8e-eecdc9d66f76",
   "metadata": {},
   "outputs": [],
   "source": [
    "df = gast.set_index('Time')[['Monthly Average','Monthly Anomaly Uncertainty']]"
   ]
  },
  {
   "cell_type": "code",
   "execution_count": null,
   "id": "36e36ca9-d1af-4c55-9896-8c3a2033ceb8",
   "metadata": {},
   "outputs": [],
   "source": []
  }
 ],
 "metadata": {
  "kernelspec": {
   "display_name": "Python 3 (ipykernel)",
   "language": "python",
   "name": "python3"
  },
  "language_info": {
   "codemirror_mode": {
    "name": "ipython",
    "version": 3
   },
   "file_extension": ".py",
   "mimetype": "text/x-python",
   "name": "python",
   "nbconvert_exporter": "python",
   "pygments_lexer": "ipython3",
   "version": "3.11.7"
  }
 },
 "nbformat": 4,
 "nbformat_minor": 5
}
