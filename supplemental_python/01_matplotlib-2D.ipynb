{
 "cells": [
  {
   "cell_type": "markdown",
   "id": "84a93165-7f74-4a34-9565-ac8af64ee6e5",
   "metadata": {},
   "source": [
    "# Visualizing 2D data with `matplotlib`\n",
    "Please use this notebook to develop a 1.5 hr module to:\n",
    "- thing 1"
   ]
  },
  {
   "cell_type": "code",
   "execution_count": null,
   "id": "8b78bb95-2bf3-42fb-9a48-87afe854e01e",
   "metadata": {},
   "outputs": [],
   "source": []
  }
 ],
 "metadata": {
  "kernelspec": {
   "display_name": "Python 3 (ipykernel)",
   "language": "python",
   "name": "python3"
  },
  "language_info": {
   "codemirror_mode": {
    "name": "ipython",
    "version": 3
   },
   "file_extension": ".py",
   "mimetype": "text/x-python",
   "name": "python",
   "nbconvert_exporter": "python",
   "pygments_lexer": "ipython3",
   "version": "3.11.7"
  }
 },
 "nbformat": 4,
 "nbformat_minor": 5
}
