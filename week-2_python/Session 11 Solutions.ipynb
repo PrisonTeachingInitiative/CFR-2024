{
 "cells": [
  {
   "cell_type": "markdown",
   "metadata": {},
   "source": [
    "# Session 11: Practical (Computational Biology)\n",
    "\n",
    "## Introduction\n",
    "\n",
    "In this practical, you will apply your knowledge of Python concepts including dictionaries, lists, arrays, conditionals, loops, functions, and variables to perform a computational analysis of protein data. This exercise will involve reading protein data, processing it, and extracting meaningful insights.\n",
    "\n",
    "### Objectives\n",
    "\n",
    "- Use dictionaries to store protein data\n",
    "- Use lists and arrays to manage and process data\n",
    "- Apply loops and conditionals to analyze the data\n",
    "- Write functions to modularize the tasks\n",
    "- Use variables to store intermediate results and perform calculations\n",
    "\n",
    "**Estimated Time:** 1.5 hours\n",
    "\n",
    "## Part 1: Reading and Storing Protein Data (30 minutes)\n",
    "\n",
    "### Task 1.1: Create a Protein Data Dictionary\n",
    "\n",
    "You will start by creating a dictionary to store protein data. Each protein will have an identifier, sequence, and length.\n",
    "\n",
    "**Instructions:**\n",
    "\n",
    "Create a dictionary where the keys are protein identifiers and the values are dictionaries containing the sequence and length of each protein.\n",
    "\n",
    "Use the following sample data to populate your dictionary:\n",
    "\n",
    "Protein Data:\n",
    "- ID: P1, Sequence: MVLTIYPDELVQIVSDKK, Length: 19\n",
    "- ID: P2, Sequence: QLVQIVSDLKLLV, Length: 13\n",
    "- ID: P3, Sequence: MVLTIY, Length: 6\n",
    "- ID: P4, Sequence: KLLVSDKKQIV, Length: 11\n",
    "\n",
    "**Hints:**\n",
    "\n",
    "- Use nested dictionaries to store sequence and length.\n",
    "- Use the len() function to calculate the length of the sequences.\n",
    "\n",
    "**Solution:**"
   ]
  },
  {
   "cell_type": "code",
   "execution_count": 2,
   "metadata": {},
   "outputs": [
    {
     "name": "stdout",
     "output_type": "stream",
     "text": [
      "{'P1': {'sequence': 'MVLTIYPDELVQIVSDKK', 'length': 19}, 'P2': {'sequence': 'QLVQIVSDLKLLV', 'length': 13}, 'P3': {'sequence': 'MVLTIY', 'length': 6}, 'P4': {'sequence': 'KLLVSDKKQIV', 'length': 11}}\n"
     ]
    }
   ],
   "source": [
    "# Creating the protein data dictionary\n",
    "proteins = {\n",
    "    \"P1\": {\"sequence\": \"MVLTIYPDELVQIVSDKK\", \"length\": 19},\n",
    "    \"P2\": {\"sequence\": \"QLVQIVSDLKLLV\", \"length\": 13},\n",
    "    \"P3\": {\"sequence\": \"MVLTIY\", \"length\": 6},\n",
    "    \"P4\": {\"sequence\": \"KLLVSDKKQIV\", \"length\": 11}\n",
    "}\n",
    "\n",
    "# Printing the protein data dictionary\n",
    "print(proteins)\n"
   ]
  },
  {
   "cell_type": "markdown",
   "metadata": {},
   "source": [
    "# Part 2: Analyzing Protein Sequences (30 minutes)\n",
    "\n",
    "## Task 2.1: Counting Amino Acid Occurrences\n",
    "\n",
    "Write a function `count_amino_acids` that takes a protein sequence as input and returns a dictionary with the count of each amino acid.\n",
    "\n",
    "**Instructions:**\n",
    "\n",
    "1. Define the function `count_amino_acids`.\n",
    "2. Use a loop to iterate through the sequence and count each amino acid.\n",
    "3. Store the counts in a dictionary where keys are amino acids and values are their counts.\n",
    "\n",
    "**Hints:**\n",
    "\n",
    "- Initialize an empty dictionary to store counts.\n",
    "- Use if statements to check if an amino acid is already in the dictionary and update the count accordingly.\n",
    "\n",
    "**Solution:**"
   ]
  },
  {
   "cell_type": "code",
   "execution_count": 3,
   "metadata": {},
   "outputs": [
    {
     "name": "stdout",
     "output_type": "stream",
     "text": [
      "{'M': 1, 'V': 3, 'L': 2, 'T': 1, 'I': 2, 'Y': 1, 'P': 1, 'D': 2, 'E': 1, 'Q': 1, 'S': 1, 'K': 2}\n"
     ]
    }
   ],
   "source": [
    "def count_amino_acids(sequence):\n",
    "    counts = {}\n",
    "    for amino_acid in sequence:\n",
    "        if amino_acid in counts:\n",
    "            counts[amino_acid] += 1\n",
    "        else:\n",
    "            counts[amino_acid] = 1\n",
    "    return counts\n",
    "\n",
    "# Test the function\n",
    "sequence = \"MVLTIYPDELVQIVSDKK\"\n",
    "print(count_amino_acids(sequence))\n"
   ]
  },
  {
   "cell_type": "markdown",
   "metadata": {},
   "source": [
    "## Task 2.2: Calculate Amino Acid Frequencies\n",
    "\n",
    "Write a function `calculate_frequencies` that takes the amino acid counts and the length of the sequence and returns a dictionary with the frequency of each amino acid.\n",
    "\n",
    "**Instructions:**\n",
    "\n",
    "1. Define the function `calculate_frequencies`.\n",
    "2. Use a loop to iterate through the counts dictionary.\n",
    "3. Calculate the frequency by dividing the count by the total length.\n",
    "4. Store the frequencies in a new dictionary.\n",
    "\n",
    "**Hints:**\n",
    "\n",
    "- Use a dictionary comprehension to create the frequencies dictionary.\n",
    "\n",
    "**Solution:**"
   ]
  },
  {
   "cell_type": "code",
   "execution_count": 4,
   "metadata": {},
   "outputs": [
    {
     "name": "stdout",
     "output_type": "stream",
     "text": [
      "{'M': 0.05555555555555555, 'V': 0.16666666666666666, 'L': 0.1111111111111111, 'T': 0.05555555555555555, 'I': 0.1111111111111111, 'Y': 0.05555555555555555, 'P': 0.05555555555555555, 'D': 0.1111111111111111, 'E': 0.05555555555555555, 'Q': 0.05555555555555555, 'S': 0.05555555555555555, 'K': 0.1111111111111111}\n"
     ]
    }
   ],
   "source": [
    "def calculate_frequencies(counts, length):\n",
    "    frequencies = {amino_acid: count / length for amino_acid, count in counts.items()}\n",
    "    return frequencies\n",
    "\n",
    "# Test the function\n",
    "counts = count_amino_acids(sequence)\n",
    "length = len(sequence)\n",
    "print(calculate_frequencies(counts, length))\n"
   ]
  },
  {
   "cell_type": "markdown",
   "metadata": {},
   "source": [
    "# Part 3: Comparing Protein Sequences (30 minutes)\n",
    "\n",
    "## Task 3.1: Find Common Amino Acids\n",
    "\n",
    "Write a function `find_common_amino_acids` that takes two protein sequences and returns a set of common amino acids.\n",
    "\n",
    "**Instructions:**\n",
    "\n",
    "1. Define the function `find_common_amino_acids`.\n",
    "2. Convert each sequence to a set of amino acids.\n",
    "3. Find the intersection of the two sets to get the common amino acids.\n",
    "\n",
    "**Hints:**\n",
    "\n",
    "- Use the `set()` function to convert sequences to sets.\n",
    "- Use the `&` operator to find the intersection of two sets.\n",
    "\n",
    "**Solution:**"
   ]
  },
  {
   "cell_type": "code",
   "execution_count": 5,
   "metadata": {},
   "outputs": [
    {
     "name": "stdout",
     "output_type": "stream",
     "text": [
      "{'L', 'S', 'D', 'K', 'Q', 'I', 'V'}\n"
     ]
    }
   ],
   "source": [
    "def find_common_amino_acids(seq1, seq2):\n",
    "    set1 = set(seq1)\n",
    "    set2 = set(seq2)\n",
    "    common_amino_acids = set1 & set2\n",
    "    return common_amino_acids\n",
    "\n",
    "# Test the function\n",
    "seq1 = \"MVLTIYPDELVQIVSDKK\"\n",
    "seq2 = \"QLVQIVSDLKLLV\"\n",
    "print(find_common_amino_acids(seq1, seq2))\n"
   ]
  },
  {
   "cell_type": "markdown",
   "metadata": {},
   "source": [
    "## Task 3.2: Compare Protein Lengths\n",
    "\n",
    "Write a function `compare_lengths` that takes a list of protein lengths and returns the longest and shortest lengths.\n",
    "\n",
    "**Instructions:**\n",
    "\n",
    "1. Define the function `compare_lengths`.\n",
    "2. Use the `max()` and `min()` functions to find the longest and shortest lengths.\n",
    "3. Return the longest and shortest lengths.\n",
    "\n",
    "**Hints:**\n",
    "\n",
    "- You can use the `max()` and `min()` functions directly on a list of numbers.\n",
    "\n",
    "**Solution:**"
   ]
  },
  {
   "cell_type": "code",
   "execution_count": 6,
   "metadata": {},
   "outputs": [
    {
     "name": "stdout",
     "output_type": "stream",
     "text": [
      "(19, 6)\n"
     ]
    }
   ],
   "source": [
    "def compare_lengths(lengths):\n",
    "    longest = max(lengths)\n",
    "    shortest = min(lengths)\n",
    "    return longest, shortest\n",
    "\n",
    "# Test the function\n",
    "lengths = [19, 13, 6, 11]\n",
    "print(compare_lengths(lengths))\n"
   ]
  },
  {
   "cell_type": "markdown",
   "metadata": {},
   "source": [
    "## Conclusion\n",
    "\n",
    "In this practical, you have applied various Python concepts to perform a computational analysis of protein data. You have learned to:\n",
    "\n",
    "- Create and manipulate dictionaries to store protein data\n",
    "- Count and calculate frequencies of amino acids in protein sequences\n",
    "- Find common amino acids between sequences\n",
    "- Compare protein lengths\n",
    "\n",
    "### Additional Practice Problems\n",
    "\n",
    "**Identify Unique Amino Acids:**\n",
    "\n",
    "Write a function `identify_unique_amino_acids` that takes a list of protein sequences and returns a set of amino acids that appear in only one sequence.\n",
    "\n",
    "**Solution:**"
   ]
  },
  {
   "cell_type": "code",
   "execution_count": 7,
   "metadata": {},
   "outputs": [
    {
     "name": "stdout",
     "output_type": "stream",
     "text": [
      "{'L', 'S', 'Y', 'D', 'P', 'T', 'K', 'Q', 'I', 'M', 'E', 'V'}\n"
     ]
    }
   ],
   "source": [
    "def identify_unique_amino_acids(sequences):\n",
    "    unique_amino_acids = set()\n",
    "    common_amino_acids = set()\n",
    "    \n",
    "    for sequence in sequences:\n",
    "        sequence_set = set(sequence)\n",
    "        unique_amino_acids |= (sequence_set - common_amino_acids)\n",
    "        common_amino_acids |= sequence_set\n",
    "    \n",
    "    return unique_amino_acids\n",
    "\n",
    "# Example usage:\n",
    "protein_sequences = [\"MVLTIYPDELVQIVSDKK\", \"QLVQIVSDLKLLV\", \"MVLTIY\", \"KLLVSDKKQIV\"]\n",
    "print(identify_unique_amino_acids(protein_sequences))\n"
   ]
  },
  {
   "cell_type": "markdown",
   "metadata": {},
   "source": [
    "**Calculate Average Protein Length:**\n",
    "\n",
    "Write a function `average_length` that takes a list of protein lengths and returns the average length.\n",
    "\n",
    "**Solution:**"
   ]
  },
  {
   "cell_type": "code",
   "execution_count": 8,
   "metadata": {},
   "outputs": [
    {
     "name": "stdout",
     "output_type": "stream",
     "text": [
      "12.25\n"
     ]
    }
   ],
   "source": [
    "def average_length(lengths):\n",
    "    if not lengths:\n",
    "        return 0\n",
    "    return sum(lengths) / len(lengths)\n",
    "\n",
    "# Example usage:\n",
    "protein_lengths = [19, 13, 6, 11]\n",
    "print(average_length(protein_lengths))\n"
   ]
  },
  {
   "cell_type": "markdown",
   "metadata": {},
   "source": [
    "**Find Proteins with Specific Amino Acid:**\n",
    "\n",
    "Write a function `find_proteins_with_amino_acid` that takes a list of protein sequences and an amino acid, and returns a list of protein IDs that contain the specified amino acid.\n",
    "\n",
    "**Solution:**"
   ]
  },
  {
   "cell_type": "code",
   "execution_count": 9,
   "metadata": {},
   "outputs": [
    {
     "name": "stdout",
     "output_type": "stream",
     "text": [
      "['P1', 'P2', 'P4']\n"
     ]
    }
   ],
   "source": [
    "def find_proteins_with_amino_acid(sequences, amino_acid):\n",
    "    proteins_with_amino_acid = []\n",
    "    \n",
    "    for protein_id, sequence in sequences.items():\n",
    "        if amino_acid in sequence:\n",
    "            proteins_with_amino_acid.append(protein_id)\n",
    "    \n",
    "    return proteins_with_amino_acid\n",
    "\n",
    "# Example usage:\n",
    "protein_sequences = {\n",
    "    \"P1\": \"MVLTIYPDELVQIVSDKK\",\n",
    "    \"P2\": \"QLVQIVSDLKLLV\",\n",
    "    \"P3\": \"MVLTIY\",\n",
    "    \"P4\": \"KLLVSDKKQIV\"\n",
    "}\n",
    "amino_acid = \"K\"\n",
    "print(find_proteins_with_amino_acid(protein_sequences, amino_acid))\n"
   ]
  },
  {
   "cell_type": "code",
   "execution_count": null,
   "metadata": {},
   "outputs": [],
   "source": []
  }
 ],
 "metadata": {
  "kernelspec": {
   "display_name": "Python 3",
   "language": "python",
   "name": "python3"
  },
  "language_info": {
   "codemirror_mode": {
    "name": "ipython",
    "version": 3
   },
   "file_extension": ".py",
   "mimetype": "text/x-python",
   "name": "python",
   "nbconvert_exporter": "python",
   "pygments_lexer": "ipython3",
   "version": "3.11.5"
  }
 },
 "nbformat": 4,
 "nbformat_minor": 2
}
