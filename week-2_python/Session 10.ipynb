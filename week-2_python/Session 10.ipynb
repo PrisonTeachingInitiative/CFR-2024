{
 "cells": [
  {
   "cell_type": "markdown",
   "metadata": {},
   "source": [
    "# Session 10: Dictionaries\n",
    "\n",
    "## Introduction\n",
    "\n",
    "In this tutorial, you will learn about dictionaries in Python, a powerful data structure that allows you to store and manipulate key-value pairs. Dictionaries are used when you need to associate values with unique keys and quickly retrieve them. This tutorial will cover the basics of dictionaries, their operations, and how to use them effectively with loops, conditionals, and functions.\n",
    "\n",
    "### Objectives\n",
    "\n",
    "- Understand the basics of dictionaries and how they differ from lists\n",
    "- Learn how to create and manipulate dictionaries\n",
    "- Use loops and conditionals to process dictionaries\n",
    "- Implement functions that operate on dictionaries\n",
    "- Solve practice problems to reinforce your understanding\n",
    "\n",
    "### Prerequisites\n",
    "\n",
    "Knowledge of Python variables, functions, conditionals, arrays, loops, and lists\n",
    "\n",
    "**Estimated Time:** 1.5 hours\n",
    "\n",
    "## 1. Basics of Dictionaries (20 minutes)\n",
    "\n",
    "### 1.1 What are Dictionaries? (5 minutes)\n",
    "\n",
    "Dictionaries are unordered collections of key-value pairs. Each key in a dictionary must be unique and immutable (such as strings, numbers, or tuples), while values can be of any data type and can be duplicated.\n",
    "\n",
    "**Example:**"
   ]
  },
  {
   "cell_type": "code",
   "execution_count": null,
   "metadata": {},
   "outputs": [],
   "source": [
    "\n"
   ]
  },
  {
   "cell_type": "markdown",
   "metadata": {},
   "source": [
    "### 1.2 Creating Dictionaries (5 minutes)\n",
    "\n",
    "You can create dictionaries using curly braces `{}` with key-value pairs separated by colons `:` and pairs separated by commas `,`.\n",
    "\n",
    "**Examples:**"
   ]
  },
  {
   "cell_type": "code",
   "execution_count": null,
   "metadata": {},
   "outputs": [],
   "source": []
  },
  {
   "cell_type": "markdown",
   "metadata": {},
   "source": [
    "### 1.3 Accessing Dictionary Elements (5 minutes)\n",
    "\n",
    "You can access values in a dictionary by using their keys inside square brackets `[]`.\n",
    "\n",
    "**Example:**"
   ]
  },
  {
   "cell_type": "code",
   "execution_count": null,
   "metadata": {},
   "outputs": [],
   "source": []
  },
  {
   "cell_type": "markdown",
   "metadata": {},
   "source": [
    "### Practice Problem 1: Dictionary Creation and Access (5 minutes)\n",
    "\n",
    "Create a dictionary representing a book with keys title, author, and year. Access and print each value.\n",
    "\n",
    "**Solution:**"
   ]
  },
  {
   "cell_type": "code",
   "execution_count": null,
   "metadata": {},
   "outputs": [],
   "source": []
  },
  {
   "cell_type": "markdown",
   "metadata": {},
   "source": [
    "## 2. Manipulating Dictionaries (30 minutes)\n",
    "\n",
    "### 2.1 Adding and Modifying Elements (10 minutes)\n",
    "\n",
    "You can add new key-value pairs to a dictionary or modify existing ones by using the assignment operator `=`.\n",
    "\n",
    "**Examples:**"
   ]
  },
  {
   "cell_type": "code",
   "execution_count": null,
   "metadata": {},
   "outputs": [],
   "source": [
    "\n"
   ]
  },
  {
   "cell_type": "markdown",
   "metadata": {},
   "source": [
    "### Practice Problem 2: Adding and Modifying Elements (5 minutes)\n",
    "\n",
    "Create a dictionary representing a car with keys make, model, and year. Add a new key color and modify the value of year.\n",
    "\n",
    "**Solution:**"
   ]
  },
  {
   "cell_type": "code",
   "execution_count": null,
   "metadata": {},
   "outputs": [],
   "source": [
    "\n"
   ]
  },
  {
   "cell_type": "markdown",
   "metadata": {},
   "source": [
    "### 2.2 Removing Elements from Dictionaries (10 minutes)\n",
    "\n",
    "You can remove key-value pairs from a dictionary using the `del` keyword or the `pop()` method.\n",
    "\n",
    "**Examples:**"
   ]
  },
  {
   "cell_type": "code",
   "execution_count": null,
   "metadata": {},
   "outputs": [],
   "source": []
  },
  {
   "cell_type": "markdown",
   "metadata": {},
   "source": [
    "### Practice Problem 3: Removing Elements (5 minutes)\n",
    "\n",
    "Create a dictionary representing a laptop with keys brand, model, year, and price. Remove the price key using pop() and print the removed value and the modified dictionary.\n",
    "\n",
    "**Solution:**"
   ]
  },
  {
   "cell_type": "code",
   "execution_count": null,
   "metadata": {},
   "outputs": [],
   "source": [
    "\n"
   ]
  },
  {
   "cell_type": "markdown",
   "metadata": {},
   "source": [
    "### 2.3 Checking for Keys in Dictionaries (5 minutes)\n",
    "\n",
    "You can check if a key exists in a dictionary using the `in` keyword.\n",
    "\n",
    "**Example:**"
   ]
  },
  {
   "cell_type": "code",
   "execution_count": null,
   "metadata": {},
   "outputs": [],
   "source": []
  },
  {
   "cell_type": "markdown",
   "metadata": {},
   "source": [
    "### Practice Problem 4: Checking for Keys (5 minutes)\n",
    "\n",
    "Create a dictionary representing a smartphone with keys brand, model, and storage. Check if the key battery exists in the dictionary.\n",
    "\n",
    "**Solution:**"
   ]
  },
  {
   "cell_type": "code",
   "execution_count": null,
   "metadata": {},
   "outputs": [],
   "source": []
  },
  {
   "cell_type": "markdown",
   "metadata": {},
   "source": [
    "## 3. Using Loops with Dictionaries (30 minutes)\n",
    "\n",
    "### 3.1 Iterating Over Keys (10 minutes)\n",
    "\n",
    "You can use a for loop to iterate over the keys in a dictionary.\n",
    "\n",
    "**Example:**"
   ]
  },
  {
   "cell_type": "code",
   "execution_count": null,
   "metadata": {},
   "outputs": [],
   "source": []
  },
  {
   "cell_type": "markdown",
   "metadata": {},
   "source": [
    "### Practice Problem 5: Iterating Over Keys (5 minutes)\n",
    "\n",
    "Create a dictionary representing a movie with keys title, director, year, and rating. Use a for loop to print each key and its value.\n",
    "\n",
    "**Solution:**"
   ]
  },
  {
   "cell_type": "code",
   "execution_count": null,
   "metadata": {},
   "outputs": [],
   "source": []
  },
  {
   "cell_type": "markdown",
   "metadata": {},
   "source": [
    "### 3.2 Iterating Over Key-Value Pairs (10 minutes)\n",
    "\n",
    "You can use the items() method to iterate over key-value pairs in a dictionary.\n",
    "\n",
    "**Example:**"
   ]
  },
  {
   "cell_type": "code",
   "execution_count": null,
   "metadata": {},
   "outputs": [],
   "source": []
  },
  {
   "cell_type": "markdown",
   "metadata": {},
   "source": [
    "### Practice Problem 6: Iterating Over Key-Value Pairs (5 minutes)\n",
    "\n",
    "Create a dictionary representing a song with keys title, artist, album, and year. Use a for loop to iterate over key-value pairs and print them.\n",
    "\n",
    "**Solution:**"
   ]
  },
  {
   "cell_type": "code",
   "execution_count": null,
   "metadata": {},
   "outputs": [],
   "source": []
  },
  {
   "cell_type": "markdown",
   "metadata": {},
   "source": [
    "## 4. Dictionaries and Functions (20 minutes)\n",
    "\n",
    "### 4.1 Passing Dictionaries to Functions (10 minutes)\n",
    "\n",
    "You can pass dictionaries as arguments to functions and perform operations on them.\n",
    "\n",
    "**Example:**"
   ]
  },
  {
   "cell_type": "code",
   "execution_count": null,
   "metadata": {},
   "outputs": [],
   "source": [
    "\n"
   ]
  },
  {
   "cell_type": "markdown",
   "metadata": {},
   "source": [
    "### Practice Problem 7: Functions with Dictionaries (10 minutes)\n",
    "\n",
    "Write a function `calculate_average_rating` that takes a dictionary of movie ratings (movie title as key and rating as value) and returns the average rating.\n",
    "\n",
    "**Solution:**"
   ]
  },
  {
   "cell_type": "code",
   "execution_count": null,
   "metadata": {},
   "outputs": [],
   "source": [
    "\n"
   ]
  },
  {
   "cell_type": "markdown",
   "metadata": {},
   "source": [
    "## Conclusion\n",
    "\n",
    "In this tutorial, you learned about:\n",
    "- The basics of dictionaries and how they differ from lists\n",
    "- Creating, accessing, and modifying dictionaries\n",
    "- Removing elements and checking for keys in dictionaries\n",
    "- Iterating over dictionaries using loops\n",
    "- Using dictionaries with functions\n",
    "\n",
    "By working through these examples and practice problems, you now have a solid understanding of dictionaries in Python.\n",
    "\n",
    "### Additional Practice Problems\n",
    "\n",
    "#### Merging Dictionaries\n",
    "\n",
    "Write a function `merge_dictionaries` that takes two dictionaries and merges them into a single dictionary.\n",
    "\n",
    "**Solution:**"
   ]
  },
  {
   "cell_type": "code",
   "execution_count": null,
   "metadata": {},
   "outputs": [],
   "source": []
  },
  {
   "cell_type": "markdown",
   "metadata": {},
   "source": [
    "## Finding Key with Maximum Value:\n",
    "\n",
    "Write a function `find_max_value_key` that takes a dictionary and returns the key with the highest value.\n",
    "\n",
    "**Solution:**"
   ]
  },
  {
   "cell_type": "code",
   "execution_count": null,
   "metadata": {},
   "outputs": [],
   "source": []
  },
  {
   "cell_type": "markdown",
   "metadata": {},
   "source": [
    "## Counting Occurrences:\n",
    "\n",
    "Write a function `count_occurrences` that takes a list of words and returns a dictionary with the words as keys and their occurrences as values.\n",
    "\n",
    "**Solution:**"
   ]
  },
  {
   "cell_type": "code",
   "execution_count": null,
   "metadata": {},
   "outputs": [],
   "source": [
    "\n"
   ]
  },
  {
   "cell_type": "code",
   "execution_count": null,
   "metadata": {},
   "outputs": [],
   "source": []
  }
 ],
 "metadata": {
  "kernelspec": {
   "display_name": "Python 3",
   "language": "python",
   "name": "python3"
  },
  "language_info": {
   "codemirror_mode": {
    "name": "ipython",
    "version": 3
   },
   "file_extension": ".py",
   "mimetype": "text/x-python",
   "name": "python",
   "nbconvert_exporter": "python",
   "pygments_lexer": "ipython3",
   "version": "3.11.5"
  }
 },
 "nbformat": 4,
 "nbformat_minor": 2
}
