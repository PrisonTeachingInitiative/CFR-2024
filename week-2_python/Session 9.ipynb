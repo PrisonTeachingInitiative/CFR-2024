{
 "cells": [
  {
   "cell_type": "markdown",
   "metadata": {},
   "source": [
    "# Session 9: Lists\n",
    "\n",
    "## Introduction\n",
    "\n",
    "In this tutorial, you will learn about lists in Python, an essential data structure that allows you to store and manipulate collections of items. Lists are more flexible than arrays, as they can store elements of different data types and can grow or shrink dynamically. This tutorial will cover the basics of lists, their operations, and how to use them effectively with loops, conditionals, and functions.\n",
    "\n",
    "### Objectives\n",
    "\n",
    "- Understand the basics of lists and how they differ from arrays\n",
    "- Learn how to create and manipulate lists\n",
    "- Use loops and conditionals to process lists\n",
    "- Implement functions that operate on lists\n",
    "- Solve practice problems to reinforce your understanding\n",
    "\n",
    "### Prerequisites\n",
    "\n",
    "Knowledge of Python variables, functions, conditionals, arrays, loops, and NumPy\n",
    "\n",
    "**Estimated Time:** 1.5 hours\n",
    "\n",
    "## 1. Basics of Lists (20 minutes)\n",
    "\n",
    "### 1.1 What are Lists? (5 minutes)\n",
    "\n",
    "Lists are ordered collections of items. They are mutable, meaning their elements can be changed after the list is created. Lists can contain elements of different data types, including other lists.\n",
    "\n",
    "**Example:**\n"
   ]
  },
  {
   "cell_type": "code",
   "execution_count": null,
   "metadata": {},
   "outputs": [],
   "source": [
    "\n"
   ]
  },
  {
   "cell_type": "markdown",
   "metadata": {},
   "source": [
    "### 1.2 Creating Lists (5 minutes)\n",
    "\n",
    "You can create lists using square brackets `[]` and separate elements with commas.\n",
    "\n",
    "**Examples:**"
   ]
  },
  {
   "cell_type": "code",
   "execution_count": null,
   "metadata": {},
   "outputs": [],
   "source": [
    "\n"
   ]
  },
  {
   "cell_type": "markdown",
   "metadata": {},
   "source": [
    "### 1.3 Accessing List Elements (5 minutes)\n",
    "\n",
    "You can access elements in a list using indexing. Lists are zero-indexed, meaning the first element has an index of 0.\n",
    "\n",
    "**Example:**"
   ]
  },
  {
   "cell_type": "code",
   "execution_count": null,
   "metadata": {},
   "outputs": [],
   "source": [
    "\n"
   ]
  },
  {
   "cell_type": "markdown",
   "metadata": {},
   "source": [
    "### Practice Problem 1: List Creation and Access (5 minutes)\n",
    "\n",
    "Create a list of your favorite movies and print the first and last movie in the list.\n",
    "\n",
    "**Solution:**"
   ]
  },
  {
   "cell_type": "code",
   "execution_count": null,
   "metadata": {},
   "outputs": [],
   "source": [
    "\n"
   ]
  },
  {
   "cell_type": "markdown",
   "metadata": {},
   "source": [
    "## 2. Manipulating Lists (30 minutes)\n",
    "\n",
    "### 2.1 Adding Elements to Lists (10 minutes)\n",
    "\n",
    "You can add elements to a list using the `append()`, `insert()`, and `extend()` methods.\n",
    "\n",
    "**Examples:**"
   ]
  },
  {
   "cell_type": "code",
   "execution_count": null,
   "metadata": {},
   "outputs": [],
   "source": [
    "\n"
   ]
  },
  {
   "cell_type": "markdown",
   "metadata": {},
   "source": [
    "### Practice Problem 2: Adding Elements (5 minutes)\n",
    "\n",
    "Create a list of your top 3 favorite books. Add another book to the end of the list, insert one at the second position, and extend the list with two more books.\n",
    "\n",
    "**Solution:**"
   ]
  },
  {
   "cell_type": "code",
   "execution_count": null,
   "metadata": {},
   "outputs": [],
   "source": []
  },
  {
   "cell_type": "markdown",
   "metadata": {},
   "source": [
    "### 2.2 Removing Elements from Lists (10 minutes)\n",
    "\n",
    "You can remove elements from a list using the `remove()`, `pop()`, and `del` methods.\n",
    "\n",
    "**Examples:**"
   ]
  },
  {
   "cell_type": "code",
   "execution_count": null,
   "metadata": {},
   "outputs": [],
   "source": [
    "\n"
   ]
  },
  {
   "cell_type": "markdown",
   "metadata": {},
   "source": [
    "### Practice Problem 3: Removing Elements (5 minutes)\n",
    "\n",
    "Create a list of 5 colors. Remove the third color by value, then remove the first color by index, and finally remove the last color using pop().\n",
    "\n",
    "**Solution:**"
   ]
  },
  {
   "cell_type": "code",
   "execution_count": null,
   "metadata": {},
   "outputs": [],
   "source": []
  },
  {
   "cell_type": "markdown",
   "metadata": {},
   "source": [
    "### 2.3 Modifying Elements in Lists (5 minutes)\n",
    "\n",
    "You can change the value of an element in a list by accessing it via its index.\n",
    "\n",
    "**Example:**"
   ]
  },
  {
   "cell_type": "code",
   "execution_count": null,
   "metadata": {},
   "outputs": [],
   "source": []
  },
  {
   "cell_type": "markdown",
   "metadata": {},
   "source": [
    "### Practice Problem 4: Modifying Elements (5 minutes)\n",
    "\n",
    "Create a list of 4 cities. Change the second city to a new city and the last city to another new city.\n",
    "\n",
    "**Solution:**"
   ]
  },
  {
   "cell_type": "code",
   "execution_count": null,
   "metadata": {},
   "outputs": [],
   "source": []
  },
  {
   "cell_type": "markdown",
   "metadata": {},
   "source": [
    "## 3. Using Loops with Lists (30 minutes)\n",
    "\n",
    "### 3.1 Iterating Over Lists with for Loops (10 minutes)\n",
    "\n",
    "You can use a for loop to iterate over each element in a list.\n",
    "\n",
    "**Example:**"
   ]
  },
  {
   "cell_type": "code",
   "execution_count": null,
   "metadata": {},
   "outputs": [],
   "source": []
  },
  {
   "cell_type": "markdown",
   "metadata": {},
   "source": [
    "### Practice Problem 5: Iterating Over Lists (5 minutes)\n",
    "\n",
    "Create a list of 5 animals and use a for loop to print each animal in the list.\n",
    "\n",
    "**Solution:**"
   ]
  },
  {
   "cell_type": "code",
   "execution_count": null,
   "metadata": {},
   "outputs": [],
   "source": []
  },
  {
   "cell_type": "markdown",
   "metadata": {},
   "source": [
    "### 3.2 Iterating Over Lists with while Loops (10 minutes)\n",
    "\n",
    "You can also use a while loop to iterate over a list, using an index to keep track of your position.\n",
    "\n",
    "**Example:**"
   ]
  },
  {
   "cell_type": "code",
   "execution_count": null,
   "metadata": {},
   "outputs": [],
   "source": [
    "\n"
   ]
  },
  {
   "cell_type": "markdown",
   "metadata": {},
   "source": [
    "### Practice Problem 6: Iterating with while Loops (5 minutes)\n",
    "\n",
    "Create a list of 4 car brands and use a while loop to print each brand in the list.\n",
    "\n",
    "**Solution:**"
   ]
  },
  {
   "cell_type": "code",
   "execution_count": null,
   "metadata": {},
   "outputs": [],
   "source": []
  },
  {
   "cell_type": "markdown",
   "metadata": {},
   "source": [
    "## 4. Lists and Functions (20 minutes)\n",
    "\n",
    "### 4.1 Passing Lists to Functions (10 minutes)\n",
    "\n",
    "You can pass lists as arguments to functions and perform operations on them.\n",
    "\n",
    "**Example:**"
   ]
  },
  {
   "cell_type": "code",
   "execution_count": null,
   "metadata": {},
   "outputs": [],
   "source": [
    "\n"
   ]
  },
  {
   "cell_type": "markdown",
   "metadata": {},
   "source": [
    "### Practice Problem 7: Functions with Lists (10 minutes)\n",
    "\n",
    "Write a function `sum_list` that takes a list of numbers as an argument and returns the sum of the numbers.\n",
    "\n",
    "**Solution:**"
   ]
  },
  {
   "cell_type": "code",
   "execution_count": null,
   "metadata": {},
   "outputs": [],
   "source": []
  },
  {
   "cell_type": "markdown",
   "metadata": {},
   "source": [
    "## Summary\n",
    "\n",
    "In this tutorial, you learned:\n",
    "- The basics of lists and how they differ from arrays\n",
    "- How to create, access, modify, and remove elements in lists\n",
    "- How to iterate over lists using for and while loops\n",
    "- How to use lists with functions\n",
    "\n",
    "By working through these examples and practice problems, you have gained a solid understanding of how to work with lists in Python.\n",
    "\n",
    "### Additional Practice Problems\n",
    "\n",
    "#### Filtering Even Numbers\n",
    "Write a function `filter_even_numbers` that takes a list of integers and returns a new list containing only the even numbers.\n",
    "\n",
    "**Solution:**"
   ]
  },
  {
   "cell_type": "code",
   "execution_count": null,
   "metadata": {},
   "outputs": [],
   "source": []
  },
  {
   "cell_type": "markdown",
   "metadata": {},
   "source": [
    "### Reversing a List\n",
    "\n",
    "Write a function `reverse_list` that takes a list and returns a new list with the elements in reverse order.\n",
    "\n",
    "**Solution:**"
   ]
  },
  {
   "cell_type": "code",
   "execution_count": null,
   "metadata": {},
   "outputs": [],
   "source": []
  },
  {
   "cell_type": "markdown",
   "metadata": {},
   "source": [
    "### Finding the Maximum Value\n",
    "\n",
    "Write a function `find_max_value` that takes a list of numbers and returns the maximum value in the list.\n",
    "\n",
    "**Solution:**"
   ]
  },
  {
   "cell_type": "code",
   "execution_count": null,
   "metadata": {},
   "outputs": [],
   "source": []
  },
  {
   "cell_type": "markdown",
   "metadata": {},
   "source": []
  }
 ],
 "metadata": {
  "kernelspec": {
   "display_name": "Python 3",
   "language": "python",
   "name": "python3"
  },
  "language_info": {
   "codemirror_mode": {
    "name": "ipython",
    "version": 3
   },
   "file_extension": ".py",
   "mimetype": "text/x-python",
   "name": "python",
   "nbconvert_exporter": "python",
   "pygments_lexer": "ipython3",
   "version": "3.11.5"
  }
 },
 "nbformat": 4,
 "nbformat_minor": 2
}
