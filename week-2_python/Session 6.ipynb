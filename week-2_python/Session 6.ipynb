{
 "cells": [
  {
   "cell_type": "markdown",
   "metadata": {},
   "source": [
    "# Practical Exercise: DNA Sequence Analysis\n",
    "\n",
    "### Scenario\n",
    "You are a bioinformatician analyzing DNA sequences. You need to write a Python program to calculate various properties of DNA sequences and perform some common bioinformatics tasks using variables, functions, and NumPy.\n",
    "\n",
    "### Objectives\n",
    "- Store DNA sequences in variables\n",
    "- Write functions to compute the GC content of a DNA sequence\n",
    "- Use NumPy to perform statistical analysis on sequence lengths\n",
    "- Solve a simple biological equation related to DNA sequence analysis\n",
    "\n",
    "---\n",
    "\n",
    "## Step 1: Define Variables\n",
    "\n",
    "**Task**: Store multiple DNA sequences and their names using variables.\n"
   ]
  },
  {
   "cell_type": "code",
   "execution_count": null,
   "metadata": {},
   "outputs": [],
   "source": []
  },
  {
   "cell_type": "markdown",
   "metadata": {},
   "source": [
    "---\n",
    "\n",
    "## Step 2: Write Functions\n",
    "\n",
    "### Task 1: Calculate GC Content\n",
    "\n",
    "Write a function to calculate the GC content of a DNA sequence. The GC content is the percentage of bases that are either G or C.\n"
   ]
  },
  {
   "cell_type": "code",
   "execution_count": null,
   "metadata": {},
   "outputs": [],
   "source": [
    "\n"
   ]
  },
  {
   "cell_type": "markdown",
   "metadata": {},
   "source": [
    "### Task 2: Calculate AT Content\n",
    "\n",
    "Write a function to calculate the AT content of a DNA sequence. The AT content is the percentage of bases that are either A or T.\n"
   ]
  },
  {
   "cell_type": "code",
   "execution_count": null,
   "metadata": {},
   "outputs": [],
   "source": []
  },
  {
   "cell_type": "markdown",
   "metadata": {},
   "source": [
    "---\n",
    "\n",
    "## Step 3: Statistical Analysis with NumPy\n",
    "\n",
    "**Task**: Calculate Mean and Standard Deviation\n",
    "\n",
    "Use NumPy to calculate the mean and standard deviation of the lengths of the DNA sequences.\n"
   ]
  },
  {
   "cell_type": "code",
   "execution_count": null,
   "metadata": {},
   "outputs": [],
   "source": []
  },
  {
   "cell_type": "markdown",
   "metadata": {},
   "source": [
    "---\n",
    "\n",
    "## Step 4: Solve a Biological Equation\n",
    "\n",
    "**Task**: Calculate DNA Concentration Over Time\n",
    "\n",
    "In a DNA sample, the concentration of a DNA fragment can be modeled using the equation:\n",
    "`C(t) = C_0 * e^(-kt)`\n",
    "where `C(t)` is the concentration at time `t`, `C_0` is the initial concentration, and `k` is the decay constant.\n"
   ]
  },
  {
   "cell_type": "code",
   "execution_count": null,
   "metadata": {},
   "outputs": [],
   "source": []
  },
  {
   "cell_type": "markdown",
   "metadata": {},
   "source": [
    "---\n",
    "\n",
    "# Conclusion\n",
    "By completing this exercise, you have:\n",
    "- Stored and manipulated DNA sequences using variables\n",
    "- Written functions to calculate GC content and AT content of DNA sequences\n",
    "- Used NumPy for statistical analysis and solving equations\n"
   ]
  },
  {
   "cell_type": "markdown",
   "metadata": {},
   "source": []
  }
 ],
 "metadata": {
  "kernelspec": {
   "display_name": "Python 3",
   "language": "python",
   "name": "python3"
  },
  "language_info": {
   "codemirror_mode": {
    "name": "ipython",
    "version": 3
   },
   "file_extension": ".py",
   "mimetype": "text/x-python",
   "name": "python",
   "nbconvert_exporter": "python",
   "pygments_lexer": "ipython3",
   "version": "3.11.5"
  }
 },
 "nbformat": 4,
 "nbformat_minor": 2
}
