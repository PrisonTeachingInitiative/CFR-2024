{
 "cells": [
  {
   "cell_type": "markdown",
   "metadata": {},
   "source": [
    "# Session 2: Variables and Assignments\n",
    "\n",
    "## Introduction\n",
    "Understanding variables and assignments is fundamental to learning Python programming. This tutorial will provide a comprehensive guide on how to work with variables and assignments in Python. By the end of this tutorial, you'll be comfortable declaring variables, assigning values, and manipulating these values.\n",
    "\n",
    "### Objectives\n",
    "- Understand what variables are and how they are used in Python.\n",
    "- Learn the rules for naming variables.\n",
    "- Practice assigning values to variables and manipulating these values.\n",
    "\n",
    "### Prerequisites\n",
    "- Basic knowledge of Python syntax and structure.\n",
    "\n",
    "### Estimated Time: 1.5 hours\n",
    "\n",
    "---\n",
    "\n",
    "## Part 1: Introduction to Variables (20 minutes)\n",
    "\n",
    "### What is a Variable?\n",
    "A variable is a name that refers to a value. In Python, you can think of a variable as a container for storing data values. Once a value is stored in a variable, you can use the variable name to refer to that value throughout your code.\n",
    "\n",
    "### Declaring Variables\n",
    "To declare a variable in Python, simply assign a value to a variable name using the equals sign (=).\n"
   ]
  },
  {
   "cell_type": "code",
   "execution_count": null,
   "metadata": {},
   "outputs": [],
   "source": []
  },
  {
   "cell_type": "markdown",
   "metadata": {},
   "source": [
    "### Rules for Naming Variables\n",
    "- Variable names must start with a letter or an underscore (_).\n",
    "- Variable names can contain letters, numbers, and underscores.\n",
    "- Variable names are case-sensitive.\n",
    "- Avoid using Python reserved keywords as variable names (e.g., if, while, for).\n",
    "\n",
    "### Example 1: Declaring Variables"
   ]
  },
  {
   "cell_type": "code",
   "execution_count": null,
   "metadata": {},
   "outputs": [],
   "source": []
  },
  {
   "cell_type": "markdown",
   "metadata": {},
   "source": [
    "### Practice Problem 1: Declare Your Own Variables\n",
    "Declare variables for the following information:\n",
    "- A person's name\n",
    "- Their age\n",
    "- Their favorite color\n",
    "\n",
    "### Solution:\n"
   ]
  },
  {
   "cell_type": "code",
   "execution_count": null,
   "metadata": {},
   "outputs": [],
   "source": []
  },
  {
   "cell_type": "markdown",
   "metadata": {},
   "source": [
    "## Part 2: Assignments and Operations (40 minutes)\n",
    "\n",
    "### Assigning Values to Variables\n",
    "You can change the value of a variable by assigning a new value to it. This is called reassignment.\n",
    "\n",
    "### Example 2: Reassigning Variables\n"
   ]
  },
  {
   "cell_type": "code",
   "execution_count": null,
   "metadata": {},
   "outputs": [],
   "source": []
  },
  {
   "cell_type": "markdown",
   "metadata": {},
   "source": [
    "### Arithmetic Operations\n",
    "You can perform arithmetic operations on variables. The common arithmetic operators are:\n",
    "\n",
    "- `+` (addition)\n",
    "- `-` (subtraction)\n",
    "- `*` (multiplication)\n",
    "- `/` (division)\n",
    "\n",
    "### Example 3: Arithmetic Operations\n"
   ]
  },
  {
   "cell_type": "code",
   "execution_count": null,
   "metadata": {},
   "outputs": [],
   "source": []
  },
  {
   "cell_type": "markdown",
   "metadata": {},
   "source": [
    "### Practice Problem 2: Perform Arithmetic Operations\n",
    "Declare two variables x and y with values 12 and 5.\n",
    "Calculate and print the sum, difference, product, and quotient.\n",
    "\n",
    "### Solution:\n"
   ]
  },
  {
   "cell_type": "code",
   "execution_count": null,
   "metadata": {},
   "outputs": [],
   "source": []
  },
  {
   "cell_type": "markdown",
   "metadata": {},
   "source": [
    "### String Operations\n",
    "You can also perform operations on strings, such as concatenation and repetition.\n",
    "\n",
    "### Example 4: String Operations\n"
   ]
  },
  {
   "cell_type": "code",
   "execution_count": null,
   "metadata": {},
   "outputs": [],
   "source": []
  },
  {
   "cell_type": "markdown",
   "metadata": {},
   "source": [
    "### Practice Problem 3: Perform String Operations\n",
    "Declare a variable first_name with your first name and last_name with your last name.\n",
    "Concatenate the first and last names to form the full name and print it.\n",
    "Print your first name three times.\n",
    "\n",
    "### Solution:\n"
   ]
  },
  {
   "cell_type": "code",
   "execution_count": null,
   "metadata": {},
   "outputs": [],
   "source": []
  },
  {
   "cell_type": "markdown",
   "metadata": {},
   "source": [
    "## Conclusion\n",
    "In this tutorial, you have learned about:\n",
    "- Declaring variables and understanding variable naming rules.\n",
    "- Assigning and reassigning values to variables.\n",
    "- Performing arithmetic and string operations.\n"
   ]
  },
  {
   "cell_type": "markdown",
   "metadata": {},
   "source": []
  }
 ],
 "metadata": {
  "kernelspec": {
   "display_name": "Python 3",
   "language": "python",
   "name": "python3"
  },
  "language_info": {
   "codemirror_mode": {
    "name": "ipython",
    "version": 3
   },
   "file_extension": ".py",
   "mimetype": "text/x-python",
   "name": "python",
   "nbconvert_exporter": "python",
   "pygments_lexer": "ipython3",
   "version": "3.11.5"
  }
 },
 "nbformat": 4,
 "nbformat_minor": 2
}
