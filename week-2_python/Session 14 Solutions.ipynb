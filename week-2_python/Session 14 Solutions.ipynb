{
 "cells": [
  {
   "cell_type": "markdown",
   "metadata": {},
   "source": [
    "# Session 14: Diving Deeper into Pandas and DataFrames\n",
    "\n",
    "## Introduction\n",
    "\n",
    "This tutorial dives deeper into the Pandas library, focusing on advanced DataFrame operations such as grouping, slicing, and selecting values. By the end of this tutorial, you will have a comprehensive understanding of how to manipulate and analyze data using Pandas.\n",
    "\n",
    "## Objectives\n",
    "\n",
    "- Advanced DataFrame manipulation techniques\n",
    "- Grouping and aggregating data\n",
    "- Slicing and selecting specific values\n",
    "\n",
    "## Prerequisites\n",
    "\n",
    "- Basic knowledge of Pandas and DataFrames\n",
    "- Understanding of Python functions, arrays, lists, NumPy, loops, and conditionals\n",
    "\n",
    "## Estimated Time\n",
    "\n",
    "1.5 hours\n",
    "\n",
    "## Part 1: Advanced DataFrame Manipulation (30 minutes)\n",
    "\n",
    "### Slicing DataFrames\n",
    "\n",
    "#### Example 1: Slicing Rows and Columns\n",
    "\n",
    "Instructions:\n",
    "- Use loc for label-based indexing.\n",
    "- Use iloc for position-based indexing.\n"
   ]
  },
  {
   "cell_type": "code",
   "execution_count": 17,
   "metadata": {},
   "outputs": [
    {
     "name": "stdout",
     "output_type": "stream",
     "text": [
      "      Name  Age         City\n",
      "1      Bob   27  Los Angeles\n",
      "2  Charlie   22      Chicago\n",
      "3    David   32      Houston\n",
      "      Name         City\n",
      "1      Bob  Los Angeles\n",
      "2  Charlie      Chicago\n",
      "3    David      Houston\n",
      "      Name  Age         City\n",
      "1      Bob   27  Los Angeles\n",
      "2  Charlie   22      Chicago\n",
      "      Name  Age\n",
      "1      Bob   27\n",
      "2  Charlie   22\n"
     ]
    }
   ],
   "source": [
    "import pandas as pd\n",
    "\n",
    "# Sample data\n",
    "data = {\n",
    "    'Name': ['Alice', 'Bob', 'Charlie', 'David', 'Eve'],\n",
    "    'Age': [24, 27, 22, 32, 29],\n",
    "    'City': ['New York', 'Los Angeles', 'Chicago', 'Houston', 'Phoenix']\n",
    "}\n",
    "df = pd.DataFrame(data)\n",
    "\n",
    "# Slicing rows using loc\n",
    "print(df.loc[1:3])\n",
    "\n",
    "# Slicing rows and columns using loc\n",
    "print(df.loc[1:3, ['Name', 'City']])\n",
    "\n",
    "# Slicing rows using iloc\n",
    "print(df.iloc[1:3])\n",
    "\n",
    "# Slicing rows and columns using iloc\n",
    "print(df.iloc[1:3, 0:2])\n"
   ]
  },
  {
   "cell_type": "markdown",
   "metadata": {},
   "source": [
    "### Practice Problem 1: Slice Your DataFrame\n",
    "\n",
    "Create a DataFrame and practice slicing rows and columns using `loc` and `iloc`.\n",
    "\n",
    "**Solution:** \n"
   ]
  },
  {
   "cell_type": "code",
   "execution_count": 18,
   "metadata": {},
   "outputs": [
    {
     "name": "stdout",
     "output_type": "stream",
     "text": [
      "  Product  Price  Quantity\n",
      "2       C     30       200\n",
      "3       D     40       250\n",
      "4       E     50       300\n",
      "  Product  Quantity\n",
      "1       B       150\n",
      "2       C       200\n",
      "3       D       250\n",
      "  Product  Price  Quantity\n",
      "2       C     30       200\n",
      "3       D     40       250\n",
      "  Product  Price\n",
      "1       B     20\n",
      "2       C     30\n"
     ]
    }
   ],
   "source": [
    "# Sample data\n",
    "data = {\n",
    "    'Product': ['A', 'B', 'C', 'D', 'E'],\n",
    "    'Price': [10, 20, 30, 40, 50],\n",
    "    'Quantity': [100, 150, 200, 250, 300]\n",
    "}\n",
    "df = pd.DataFrame(data)\n",
    "\n",
    "# Slicing rows using loc\n",
    "print(df.loc[2:4])\n",
    "\n",
    "# Slicing rows and columns using loc\n",
    "print(df.loc[1:3, ['Product', 'Quantity']])\n",
    "\n",
    "# Slicing rows using iloc\n",
    "print(df.iloc[2:4])\n",
    "\n",
    "# Slicing rows and columns using iloc\n",
    "print(df.iloc[1:3, 0:2])\n"
   ]
  },
  {
   "cell_type": "markdown",
   "metadata": {},
   "source": [
    "### Selecting Specific Values\n",
    "#### Example 2: Selecting Specific Values\n",
    "\n",
    "**Instructions:**\n",
    "- Select a single value using `at` (label-based).\n",
    "- Select a single value using `iat` (position-based).\n"
   ]
  },
  {
   "cell_type": "code",
   "execution_count": 19,
   "metadata": {},
   "outputs": [
    {
     "name": "stdout",
     "output_type": "stream",
     "text": [
      "B\n",
      "B\n"
     ]
    }
   ],
   "source": [
    "# Selecting a single value using at\n",
    "value = df.at[1, 'Product']\n",
    "print(value)\n",
    "\n",
    "# Selecting a single value using iat\n",
    "value = df.iat[1, 0]\n",
    "print(value)\n"
   ]
  },
  {
   "cell_type": "markdown",
   "metadata": {},
   "source": [
    "### Practice Problem 2: Explore Your DataFrame\n",
    "Explore the DataFrame you created in Practice Problem 1 using head(), info(), and describe().\n",
    "\n",
    "**Solution:**\n"
   ]
  },
  {
   "cell_type": "code",
   "execution_count": 20,
   "metadata": {},
   "outputs": [
    {
     "name": "stdout",
     "output_type": "stream",
     "text": [
      "  Product  Price  Quantity\n",
      "0       A     10       100\n",
      "1       B     20       150\n",
      "2       C     30       200\n",
      "3       D     40       250\n",
      "4       E     50       300\n",
      "<class 'pandas.core.frame.DataFrame'>\n",
      "RangeIndex: 5 entries, 0 to 4\n",
      "Data columns (total 3 columns):\n",
      " #   Column    Non-Null Count  Dtype \n",
      "---  ------    --------------  ----- \n",
      " 0   Product   5 non-null      object\n",
      " 1   Price     5 non-null      int64 \n",
      " 2   Quantity  5 non-null      int64 \n",
      "dtypes: int64(2), object(1)\n",
      "memory usage: 252.0+ bytes\n",
      "None\n",
      "           Price    Quantity\n",
      "count   5.000000    5.000000\n",
      "mean   30.000000  200.000000\n",
      "std    15.811388   79.056942\n",
      "min    10.000000  100.000000\n",
      "25%    20.000000  150.000000\n",
      "50%    30.000000  200.000000\n",
      "75%    40.000000  250.000000\n",
      "max    50.000000  300.000000\n"
     ]
    }
   ],
   "source": [
    "# Viewing the first few rows\n",
    "print(df.head())\n",
    "\n",
    "# Getting a concise summary\n",
    "print(df.info())\n",
    "\n",
    "# Getting a statistical summary\n",
    "print(df.describe())\n"
   ]
  },
  {
   "cell_type": "markdown",
   "metadata": {},
   "source": [
    "## Part 2: Data Manipulation with Pandas (30 minutes)\n",
    "\n",
    "### Selecting Data\n",
    "\n",
    "#### Example 3: Selecting Columns and Rows\n",
    "**Instructions**:\n",
    "Select a single column using `df['column_name']`.\n",
    "Select multiple columns using `df[['column1', 'column2']]`.\n",
    "Select rows using `df.iloc[]` for integer-location based indexing.\n"
   ]
  },
  {
   "cell_type": "code",
   "execution_count": 21,
   "metadata": {},
   "outputs": [
    {
     "name": "stdout",
     "output_type": "stream",
     "text": [
      "0    A\n",
      "1    B\n",
      "2    C\n",
      "3    D\n",
      "4    E\n",
      "Name: Product, dtype: object\n",
      "  Product  Price\n",
      "0       A     10\n",
      "1       B     20\n",
      "2       C     30\n",
      "3       D     40\n",
      "4       E     50\n",
      "Product       A\n",
      "Price        10\n",
      "Quantity    100\n",
      "Name: 0, dtype: object\n",
      "  Product\n",
      "0       A\n"
     ]
    }
   ],
   "source": [
    "# Selecting a single column\n",
    "products = df['Product']\n",
    "print(products)\n",
    "\n",
    "# Selecting multiple columns\n",
    "product_price = df[['Product', 'Price']]\n",
    "print(product_price)\n",
    "\n",
    "# Selecting rows by index\n",
    "first_row = df.iloc[0]\n",
    "print(first_row)\n",
    "\n",
    "# Selecting a subset of rows and columns\n",
    "subset = df.iloc[0:1, 0:1]\n",
    "print(subset)\n"
   ]
  },
  {
   "cell_type": "markdown",
   "metadata": {},
   "source": [
    "### Practice Problem 3: Select Data from Your DataFrame\n",
    "Select the 'Product' and 'Price' columns from your DataFrame. Also, select the first two rows.\n",
    "\n",
    "\n",
    "**Solution:**\n"
   ]
  },
  {
   "cell_type": "code",
   "execution_count": 22,
   "metadata": {},
   "outputs": [
    {
     "name": "stdout",
     "output_type": "stream",
     "text": [
      "  Product  Price\n",
      "0       A     10\n",
      "1       B     20\n",
      "2       C     30\n",
      "3       D     40\n",
      "4       E     50\n",
      "  Product  Price  Quantity\n",
      "0       A     10       100\n",
      "1       B     20       150\n"
     ]
    }
   ],
   "source": [
    "# Selecting the 'Product' and 'Price' columns\n",
    "product_price = df[['Product', 'Price']]\n",
    "print(product_price)\n",
    "\n",
    "# Selecting the first two rows\n",
    "first_two_rows = df.iloc[0:2]\n",
    "print(first_two_rows)\n"
   ]
  },
  {
   "cell_type": "markdown",
   "metadata": {},
   "source": [
    "### Filtering Data\n",
    "\n",
    "#### Example 4: Filtering Data Based on Conditions\n",
    "\n",
    "**Instructions:**\n",
    "\n",
    "- Filter rows where a column meets a condition using boolean indexing.\n",
    "- Combine multiple conditions using & (and) and | (or).\n"
   ]
  },
  {
   "cell_type": "code",
   "execution_count": 23,
   "metadata": {},
   "outputs": [
    {
     "name": "stdout",
     "output_type": "stream",
     "text": [
      "  Product  Price  Quantity\n",
      "2       C     30       200\n",
      "3       D     40       250\n",
      "4       E     50       300\n",
      "  Product  Price  Quantity\n",
      "1       B     20       150\n"
     ]
    }
   ],
   "source": [
    "# Filtering rows where Price is more than 20\n",
    "more_than_20 = df[df['Price'] > 20]\n",
    "print(more_than_20)\n",
    "\n",
    "# Filtering rows where Price is more than 10 and Quantity is 150\n",
    "filtered_df = df[(df['Price'] > 10) & (df['Quantity'] == 150)]\n",
    "print(filtered_df)\n"
   ]
  },
  {
   "cell_type": "markdown",
   "metadata": {},
   "source": [
    "### Practice Problem 4: Filter Data in Your DataFrame\n",
    "\n",
    "\n",
    "Filter rows where the 'Price' is greater than 600 and 'Quantity' is less than 100.\n",
    "\n",
    "**Solution:**\n"
   ]
  },
  {
   "cell_type": "code",
   "execution_count": 24,
   "metadata": {},
   "outputs": [
    {
     "name": "stdout",
     "output_type": "stream",
     "text": [
      "Empty DataFrame\n",
      "Columns: [Product, Price, Quantity]\n",
      "Index: []\n"
     ]
    }
   ],
   "source": [
    "# Filtering rows based on conditions\n",
    "filtered_df = df[(df['Price'] > 600) & (df['Quantity'] < 100)]\n",
    "print(filtered_df)\n"
   ]
  },
  {
   "cell_type": "markdown",
   "metadata": {},
   "source": [
    "### Adding and Removing Data\n",
    "#### Example 5: Adding and Removing Columns\n",
    "\n",
    "**Instructions**\n",
    "- Add a new column to the DataFrame.\n",
    "- Remove a column using df.drop().\n"
   ]
  },
  {
   "cell_type": "code",
   "execution_count": 25,
   "metadata": {},
   "outputs": [
    {
     "name": "stdout",
     "output_type": "stream",
     "text": [
      "  Product  Price  Quantity  Storage\n",
      "0       A     10       100    70000\n",
      "1       B     20       150    80000\n",
      "2       C     30       200    60000\n",
      "3       D     40       250    90000\n",
      "4       E     50       300    75000\n",
      "  Product  Price  Quantity\n",
      "0       A     10       100\n",
      "1       B     20       150\n",
      "2       C     30       200\n",
      "3       D     40       250\n",
      "4       E     50       300\n"
     ]
    }
   ],
   "source": [
    "# Adding a new column\n",
    "df['Storage'] = [70000, 80000, 60000, 90000, 75000]\n",
    "print(df)\n",
    "\n",
    "# Removing a column\n",
    "df = df.drop('Storage', axis=1)\n",
    "print(df)\n"
   ]
  },
  {
   "cell_type": "markdown",
   "metadata": {},
   "source": [
    "### Practice Problem 5: Add and Remove Columns in Your DataFrame\n",
    "Add a 'Discount' column to your DataFrame with values [10, 15, 20]. Then, remove the 'Quantity' column.\n",
    "\n",
    "**Solution:**\n"
   ]
  },
  {
   "cell_type": "code",
   "execution_count": 26,
   "metadata": {},
   "outputs": [
    {
     "name": "stdout",
     "output_type": "stream",
     "text": [
      "  Product  Price  Quantity  Discount\n",
      "0       A     10       100        10\n",
      "1       B     20       150        15\n",
      "2       C     30       200        20\n",
      "3       D     40       250        10\n",
      "4       E     50       300        20\n",
      "  Product  Price  Discount\n",
      "0       A     10        10\n",
      "1       B     20        15\n",
      "2       C     30        20\n",
      "3       D     40        10\n",
      "4       E     50        20\n"
     ]
    }
   ],
   "source": [
    "# Adding a new column 'Discount'\n",
    "df['Discount'] = [10, 15, 20, 10, 20]\n",
    "print(df)\n",
    "\n",
    "# Removing the 'Quantity' column\n",
    "df = df.drop('Quantity', axis=1)\n",
    "print(df)\n"
   ]
  },
  {
   "cell_type": "markdown",
   "metadata": {},
   "source": [
    "## Part 3: Advanced DataFrame Operations (40 minutes)\n",
    "\n",
    "### Handling Missing Data\n",
    "\n",
    "#### Example 6: Identifying and Handling Missing Data\n",
    "\n",
    "**Instructions**\n",
    "- Identify missing data using df.isnull().\n",
    "- Drop rows with missing data using df.dropna().\n",
    "- Fill missing data using df.fillna().\n",
    "\n"
   ]
  },
  {
   "cell_type": "code",
   "execution_count": 27,
   "metadata": {},
   "outputs": [
    {
     "name": "stdout",
     "output_type": "stream",
     "text": [
      "  Product  Price  Discount  Age\n",
      "0       A     10        10  NaN\n",
      "1       B     20        15  NaN\n",
      "2       C     30        20  NaN\n",
      "3       D     40        10  NaN\n",
      "4       E     50        20  NaN\n",
      "   Product  Price  Discount   Age\n",
      "0    False  False     False  True\n",
      "1    False  False     False  True\n",
      "2    False  False     False  True\n",
      "3    False  False     False  True\n",
      "4    False  False     False  True\n",
      "Empty DataFrame\n",
      "Columns: [Product, Price, Discount, Age]\n",
      "Index: []\n",
      "  Product  Price  Discount  Age\n",
      "0       A     10        10  0.0\n",
      "1       B     20        15  0.0\n",
      "2       C     30        20  0.0\n",
      "3       D     40        10  0.0\n",
      "4       E     50        20  0.0\n"
     ]
    }
   ],
   "source": [
    "import numpy as np\n",
    "\n",
    "# Adding missing data\n",
    "df.loc[2, 'Age'] = np.nan\n",
    "print(df)\n",
    "\n",
    "# Identifying missing data\n",
    "print(df.isnull())\n",
    "\n",
    "# Dropping rows with missing data\n",
    "df_dropped = df.dropna()\n",
    "print(df_dropped)\n",
    "\n",
    "# Filling missing data\n",
    "df_filled = df.fillna(0)\n",
    "print(df_filled)\n"
   ]
  },
  {
   "cell_type": "markdown",
   "metadata": {},
   "source": [
    "### Practice Problem 6: Handle Missing Data in Your DataFrame\n",
    "\n",
    "Introduce missing data into your DataFrame and practice dropping rows and filling missing values.\n",
    "\n",
    "**Solution:**\n"
   ]
  },
  {
   "cell_type": "code",
   "execution_count": 28,
   "metadata": {},
   "outputs": [
    {
     "name": "stdout",
     "output_type": "stream",
     "text": [
      "  Product  Price  Discount  Age\n",
      "0       A   10.0        10  NaN\n",
      "1       B    NaN        15  NaN\n",
      "2       C   30.0        20  NaN\n",
      "3       D   40.0        10  NaN\n",
      "4       E   50.0        20  NaN\n",
      "   Product  Price  Discount   Age\n",
      "0    False  False     False  True\n",
      "1    False   True     False  True\n",
      "2    False  False     False  True\n",
      "3    False  False     False  True\n",
      "4    False  False     False  True\n",
      "Empty DataFrame\n",
      "Columns: [Product, Price, Discount, Age]\n",
      "Index: []\n",
      "  Product  Price  Discount  Age\n",
      "0       A   10.0        10  0.0\n",
      "1       B    0.0        15  0.0\n",
      "2       C   30.0        20  0.0\n",
      "3       D   40.0        10  0.0\n",
      "4       E   50.0        20  0.0\n"
     ]
    }
   ],
   "source": [
    "import numpy as np\n",
    "\n",
    "# Introducing missing data\n",
    "df.loc[1, 'Price'] = np.nan\n",
    "print(df)\n",
    "\n",
    "# Identifying missing data\n",
    "print(df.isnull())\n",
    "\n",
    "# Dropping rows with missing data\n",
    "df_dropped = df.dropna()\n",
    "print(df_dropped)\n",
    "\n",
    "# Filling missing data\n",
    "df_filled = df.fillna(0)\n",
    "print(df_filled)\n"
   ]
  },
  {
   "cell_type": "markdown",
   "metadata": {},
   "source": [
    "### Grouping and Aggregating Data\n",
    "\n",
    "#### Example 7: Grouping and Aggregating Data\n",
    "\n",
    "**Instructions:**\n",
    "- Group data using df.groupby().\n",
    "- Perform aggregation functions such as sum(), mean(), etc.\n",
    "\n"
   ]
  },
  {
   "cell_type": "code",
   "execution_count": 29,
   "metadata": {},
   "outputs": [
    {
     "name": "stdout",
     "output_type": "stream",
     "text": [
      "          Value\n",
      "Category       \n",
      "A            90\n",
      "B            60\n",
      "          Value\n",
      "Category       \n",
      "A          30.0\n",
      "B          30.0\n"
     ]
    }
   ],
   "source": [
    "# Sample data\n",
    "data = {\n",
    "    'Category': ['A', 'B', 'A', 'B', 'A'],\n",
    "    'Value': [10, 20, 30, 40, 50]\n",
    "}\n",
    "df = pd.DataFrame(data)\n",
    "\n",
    "# Grouping data by 'Category'\n",
    "grouped = df.groupby('Category')\n",
    "\n",
    "# Aggregating data\n",
    "sum_values = grouped.sum()\n",
    "print(sum_values)\n",
    "\n",
    "mean_values = grouped.mean()\n",
    "print(mean_values)\n"
   ]
  },
  {
   "cell_type": "markdown",
   "metadata": {},
   "source": [
    "### Practice Problem 7: Group and Aggregate Data in Your DataFrame\n",
    "\n",
    "Group your DataFrame by 'Product' and calculate the total and average price for each product.\n",
    "\n",
    "`# Sample data\n",
    "data = {\n",
    "    'Product': ['Laptop', 'Tablet', 'Smartphone', 'Laptop', 'Tablet'],\n",
    "    'Price': [1000, 500, 800, 1200, 450],\n",
    "    'Quantity': [50, 30, 100, 70, 20]\n",
    "}`\n",
    "\n",
    "**Solution:**\n"
   ]
  },
  {
   "cell_type": "code",
   "execution_count": 30,
   "metadata": {},
   "outputs": [
    {
     "name": "stdout",
     "output_type": "stream",
     "text": [
      "Product\n",
      "Laptop        2200\n",
      "Smartphone     800\n",
      "Tablet         950\n",
      "Name: Price, dtype: int64\n",
      "Product\n",
      "Laptop        1100.0\n",
      "Smartphone     800.0\n",
      "Tablet         475.0\n",
      "Name: Price, dtype: float64\n"
     ]
    }
   ],
   "source": [
    "# Sample data\n",
    "data = {\n",
    "    'Product': ['Laptop', 'Tablet', 'Smartphone', 'Laptop', 'Tablet'],\n",
    "    'Price': [1000, 500, 800, 1200, 450],\n",
    "    'Quantity': [50, 30, 100, 70, 20]\n",
    "}\n",
    "df = pd.DataFrame(data)\n",
    "\n",
    "# Grouping data by 'Product'\n",
    "grouped = df.groupby('Product')\n",
    "\n",
    "# Aggregating data\n",
    "total_price = grouped['Price'].sum()\n",
    "average_price = grouped['Price'].mean()\n",
    "\n",
    "print(total_price)\n",
    "print(average_price)\n",
    "\n"
   ]
  },
  {
   "cell_type": "markdown",
   "metadata": {},
   "source": [
    "### Merging and Joining DataFrames\n",
    "\n",
    "#### Example 8: Merging DataFrames\n",
    "\n",
    "**Instructions:**\n",
    "\n",
    "- Merge two DataFrames using pd.merge().\n",
    "- Perform different types of merges: inner, outer, left, right.\n"
   ]
  },
  {
   "cell_type": "code",
   "execution_count": 31,
   "metadata": {},
   "outputs": [
    {
     "name": "stdout",
     "output_type": "stream",
     "text": [
      "   ID   Name  Age\n",
      "0   1  Alice   24\n",
      "1   2    Bob   27\n"
     ]
    }
   ],
   "source": [
    "# Sample data\n",
    "data1 = {\n",
    "    'ID': [1, 2, 3],\n",
    "    'Name': ['Alice', 'Bob', 'Charlie']\n",
    "}\n",
    "df1 = pd.DataFrame(data1)\n",
    "\n",
    "data2 = {\n",
    "    'ID': [1, 2, 4],\n",
    "    'Age': [24, 27, 30]\n",
    "}\n",
    "df2 = pd.DataFrame(data2)\n",
    "\n",
    "# Merging DataFrames\n",
    "merged_df = pd.merge(df1, df2, on='ID', how='inner')\n",
    "print(merged_df)\n"
   ]
  },
  {
   "cell_type": "markdown",
   "metadata": {},
   "source": [
    "### Practice Problem 8: Merge DataFrames\n",
    "\n",
    "Create two DataFrames with some common columns and merge them using different merge types.\n",
    "\n",
    "**Solution:**\n"
   ]
  },
  {
   "cell_type": "code",
   "execution_count": 32,
   "metadata": {},
   "outputs": [
    {
     "name": "stdout",
     "output_type": "stream",
     "text": [
      "   ID   Name  Age\n",
      "0   1  Alice   24\n",
      "1   2    Bob   27\n",
      "   ID     Name   Age\n",
      "0   1    Alice  24.0\n",
      "1   2      Bob  27.0\n",
      "2   3  Charlie   NaN\n",
      "3   4      NaN  30.0\n",
      "   ID     Name   Age\n",
      "0   1    Alice  24.0\n",
      "1   2      Bob  27.0\n",
      "2   3  Charlie   NaN\n",
      "   ID   Name  Age\n",
      "0   1  Alice   24\n",
      "1   2    Bob   27\n",
      "2   4    NaN   30\n"
     ]
    }
   ],
   "source": [
    "# Sample data for first DataFrame\n",
    "data1 = {\n",
    "    'ID': [1, 2, 3],\n",
    "    'Name': ['Alice', 'Bob', 'Charlie']\n",
    "}\n",
    "df1 = pd.DataFrame(data1)\n",
    "\n",
    "# Sample data for second DataFrame\n",
    "data2 = {\n",
    "    'ID': [1, 2, 4],\n",
    "    'Age': [24, 27, 30]\n",
    "}\n",
    "df2 = pd.DataFrame(data2)\n",
    "\n",
    "# Inner merge\n",
    "inner_merged_df = pd.merge(df1, df2, on='ID', how='inner')\n",
    "print(inner_merged_df)\n",
    "\n",
    "# Outer merge\n",
    "outer_merged_df = pd.merge(df1, df2, on='ID', how='outer')\n",
    "print(outer_merged_df)\n",
    "\n",
    "# Left merge\n",
    "left_merged_df = pd.merge(df1, df2, on='ID', how='left')\n",
    "print(left_merged_df)\n",
    "\n",
    "# Right merge\n",
    "right_merged_df = pd.merge(df1, df2, on='ID', how='right')\n",
    "print(right_merged_df)\n"
   ]
  },
  {
   "cell_type": "markdown",
   "metadata": {},
   "source": [
    "#### Conclusion\n",
    "\n",
    "In this tutorial, you have learned how to:\n",
    "\n",
    "- Create and manipulate DataFrames using Pandas\n",
    "- Select, filter, add, and remove data\n",
    "- Handle missing data\n",
    "- Group and aggregate data\n",
    "- Merge and join DataFrames\n"
   ]
  },
  {
   "cell_type": "markdown",
   "metadata": {},
   "source": []
  }
 ],
 "metadata": {
  "kernelspec": {
   "display_name": "Python 3",
   "language": "python",
   "name": "python3"
  },
  "language_info": {
   "codemirror_mode": {
    "name": "ipython",
    "version": 3
   },
   "file_extension": ".py",
   "mimetype": "text/x-python",
   "name": "python",
   "nbconvert_exporter": "python",
   "pygments_lexer": "ipython3",
   "version": "3.11.5"
  }
 },
 "nbformat": 4,
 "nbformat_minor": 2
}
