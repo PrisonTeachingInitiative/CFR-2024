{
 "cells": [
  {
   "cell_type": "markdown",
   "metadata": {},
   "source": [
    "# Session 2: Variables and Assignments\n",
    "\n",
    "## Introduction\n",
    "Understanding variables and assignments is fundamental to learning Python programming. This tutorial will provide a comprehensive guide on how to work with variables and assignments in Python. By the end of this tutorial, you'll be comfortable declaring variables, assigning values, and manipulating these values.\n",
    "\n",
    "### Objectives\n",
    "- Understand what variables are and how they are used in Python.\n",
    "- Learn the rules for naming variables.\n",
    "- Practice assigning values to variables and manipulating these values.\n",
    "\n",
    "### Prerequisites\n",
    "- Basic knowledge of Python syntax and structure.\n",
    "\n",
    "### Estimated Time: 1.5 hours\n",
    "\n",
    "---\n",
    "\n",
    "## Part 1: Introduction to Variables (20 minutes)\n",
    "\n",
    "### What is a Variable?\n",
    "A variable is a name that refers to a value. In Python, you can think of a variable as a container for storing data values. Once a value is stored in a variable, you can use the variable name to refer to that value throughout your code.\n",
    "\n",
    "### Declaring Variables\n",
    "To declare a variable in Python, simply assign a value to a variable name using the equals sign (=).\n"
   ]
  },
  {
   "cell_type": "code",
   "execution_count": 2,
   "metadata": {},
   "outputs": [],
   "source": [
    "# Example of variable declaration\n",
    "name = \"Alice\"\n",
    "age = 25\n",
    "height = 5.5"
   ]
  },
  {
   "cell_type": "markdown",
   "metadata": {},
   "source": [
    "### Rules for Naming Variables\n",
    "- Variable names must start with a letter or an underscore (_).\n",
    "- Variable names can contain letters, numbers, and underscores.\n",
    "- Variable names are case-sensitive.\n",
    "- Avoid using Python reserved keywords as variable names (e.g., if, while, for).\n",
    "\n",
    "### Example 1: Declaring Variables"
   ]
  },
  {
   "cell_type": "code",
   "execution_count": 3,
   "metadata": {},
   "outputs": [
    {
     "name": "stdout",
     "output_type": "stream",
     "text": [
      "Bob\n",
      "30\n",
      "55000.75\n"
     ]
    }
   ],
   "source": [
    " # Declaring variables\n",
    "name = \"Bob\"\n",
    "age = 30\n",
    "salary = 55000.75\n",
    "\n",
    "# Printing variables\n",
    "print(name)\n",
    "print(age)\n",
    "print(salary)"
   ]
  },
  {
   "cell_type": "markdown",
   "metadata": {},
   "source": [
    "### Practice Problem 1: Declare Your Own Variables\n",
    "Declare variables for the following information:\n",
    "- A person's name\n",
    "- Their age\n",
    "- Their favorite color\n",
    "\n",
    "### Solution:\n"
   ]
  },
  {
   "cell_type": "code",
   "execution_count": 4,
   "metadata": {},
   "outputs": [
    {
     "name": "stdout",
     "output_type": "stream",
     "text": [
      "Charlie\n",
      "28\n",
      "blue\n"
     ]
    }
   ],
   "source": [
    "# Declaring variables\n",
    "person_name = \"Charlie\"\n",
    "person_age = 28\n",
    "favorite_color = \"blue\"\n",
    "\n",
    "# Printing variables\n",
    "print(person_name)\n",
    "print(person_age)\n",
    "print(favorite_color)"
   ]
  },
  {
   "cell_type": "markdown",
   "metadata": {},
   "source": [
    "## Part 2: Assignments and Operations (40 minutes)\n",
    "\n",
    "### Assigning Values to Variables\n",
    "You can change the value of a variable by assigning a new value to it. This is called reassignment.\n",
    "\n",
    "### Example 2: Reassigning Variables\n"
   ]
  },
  {
   "cell_type": "code",
   "execution_count": 5,
   "metadata": {},
   "outputs": [
    {
     "name": "stdout",
     "output_type": "stream",
     "text": [
      "10\n",
      "20\n"
     ]
    }
   ],
   "source": [
    "# Initial assignment\n",
    "x = 10\n",
    "print(x)\n",
    "\n",
    "# Reassignment\n",
    "x = 20\n",
    "print(x)\n"
   ]
  },
  {
   "cell_type": "markdown",
   "metadata": {},
   "source": [
    "### Arithmetic Operations\n",
    "You can perform arithmetic operations on variables. The common arithmetic operators are:\n",
    "\n",
    "- `+` (addition)\n",
    "- `-` (subtraction)\n",
    "- `*` (multiplication)\n",
    "- `/` (division)\n",
    "\n",
    "### Example 3: Arithmetic Operations\n"
   ]
  },
  {
   "cell_type": "code",
   "execution_count": 6,
   "metadata": {},
   "outputs": [
    {
     "name": "stdout",
     "output_type": "stream",
     "text": [
      "Sum: 19\n",
      "Difference: 11\n",
      "Product: 60\n",
      "Quotient: 3.75\n"
     ]
    }
   ],
   "source": [
    "# Variables\n",
    "a = 15\n",
    "b = 4\n",
    "\n",
    "# Addition\n",
    "sum = a + b\n",
    "print(\"Sum:\", sum)\n",
    "\n",
    "# Subtraction\n",
    "difference = a - b\n",
    "print(\"Difference:\", difference)\n",
    "\n",
    "# Multiplication\n",
    "product = a * b\n",
    "print(\"Product:\", product)\n",
    "\n",
    "# Division\n",
    "quotient = a / b\n",
    "print(\"Quotient:\", quotient)\n"
   ]
  },
  {
   "cell_type": "markdown",
   "metadata": {},
   "source": [
    "### Practice Problem 2: Perform Arithmetic Operations\n",
    "Declare two variables x and y with values 12 and 5.\n",
    "Calculate and print the sum, difference, product, and quotient.\n",
    "\n",
    "### Solution:\n"
   ]
  },
  {
   "cell_type": "code",
   "execution_count": 7,
   "metadata": {},
   "outputs": [
    {
     "name": "stdout",
     "output_type": "stream",
     "text": [
      "Sum: 17\n",
      "Difference: 7\n",
      "Product: 60\n",
      "Quotient: 2.4\n"
     ]
    }
   ],
   "source": [
    "# Variables\n",
    "x = 12\n",
    "y = 5\n",
    "\n",
    "# Addition\n",
    "sum_result = x + y\n",
    "print(\"Sum:\", sum_result)\n",
    "\n",
    "# Subtraction\n",
    "difference_result = x - y\n",
    "print(\"Difference:\", difference_result)\n",
    "\n",
    "# Multiplication\n",
    "product_result = x * y\n",
    "print(\"Product:\", product_result)\n",
    "\n",
    "# Division\n",
    "quotient_result = x / y\n",
    "print(\"Quotient:\", quotient_result)\n"
   ]
  },
  {
   "cell_type": "markdown",
   "metadata": {},
   "source": [
    "### String Operations\n",
    "You can also perform operations on strings, such as concatenation and repetition.\n",
    "\n",
    "### Example 4: String Operations\n"
   ]
  },
  {
   "cell_type": "code",
   "execution_count": 8,
   "metadata": {},
   "outputs": [
    {
     "name": "stdout",
     "output_type": "stream",
     "text": [
      "Hello Alice\n",
      "HelloHelloHello\n"
     ]
    }
   ],
   "source": [
    "# Variables\n",
    "greeting = \"Hello\"\n",
    "name = \"Alice\"\n",
    "\n",
    "# Concatenation\n",
    "full_greeting = greeting + \" \" + name\n",
    "print(full_greeting)\n",
    "\n",
    "# Repetition\n",
    "repeat_greeting = greeting * 3\n",
    "print(repeat_greeting)\n"
   ]
  },
  {
   "cell_type": "markdown",
   "metadata": {},
   "source": [
    "### Practice Problem 3: Perform String Operations\n",
    "Declare a variable first_name with your first name and last_name with your last name.\n",
    "Concatenate the first and last names to form the full name and print it.\n",
    "Print your first name three times.\n",
    "\n",
    "### Solution:\n"
   ]
  },
  {
   "cell_type": "code",
   "execution_count": 9,
   "metadata": {},
   "outputs": [
    {
     "name": "stdout",
     "output_type": "stream",
     "text": [
      "John Doe\n",
      "JohnJohnJohn\n"
     ]
    }
   ],
   "source": [
    "# Variables\n",
    "first_name = \"John\"\n",
    "last_name = \"Doe\"\n",
    "\n",
    "# Concatenation\n",
    "full_name = first_name + \" \" + last_name\n",
    "print(full_name)\n",
    "\n",
    "# Repetition\n",
    "repeat_name = first_name * 3\n",
    "print(repeat_name)\n"
   ]
  },
  {
   "cell_type": "markdown",
   "metadata": {},
   "source": [
    "## Conclusion\n",
    "In this tutorial, you have learned about:\n",
    "- Declaring variables and understanding variable naming rules.\n",
    "- Assigning and reassigning values to variables.\n",
    "- Performing arithmetic and string operations.\n"
   ]
  },
  {
   "cell_type": "markdown",
   "metadata": {},
   "source": []
  }
 ],
 "metadata": {
  "kernelspec": {
   "display_name": "Python 3",
   "language": "python",
   "name": "python3"
  },
  "language_info": {
   "name": "python",
   "version": "3.11.5"
  }
 },
 "nbformat": 4,
 "nbformat_minor": 2
}
