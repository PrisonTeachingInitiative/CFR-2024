{
 "cells": [
  {
   "cell_type": "markdown",
   "metadata": {},
   "source": [
    "# Session 11: Practical (Computational Biology)\n",
    "\n",
    "## Introduction\n",
    "\n",
    "In this practical, you will apply your knowledge of Python concepts including dictionaries, lists, arrays, conditionals, loops, functions, and variables to perform a computational analysis of protein data. This exercise will involve reading protein data, processing it, and extracting meaningful insights.\n",
    "\n",
    "### Objectives\n",
    "\n",
    "- Use dictionaries to store protein data\n",
    "- Use lists and arrays to manage and process data\n",
    "- Apply loops and conditionals to analyze the data\n",
    "- Write functions to modularize the tasks\n",
    "- Use variables to store intermediate results and perform calculations\n",
    "\n",
    "**Estimated Time:** 1.5 hours\n",
    "\n",
    "## Part 1: Reading and Storing Protein Data (30 minutes)\n",
    "\n",
    "### Task 1.1: Create a Protein Data Dictionary\n",
    "\n",
    "You will start by creating a dictionary to store protein data. Each protein will have an identifier, sequence, and length.\n",
    "\n",
    "**Instructions:**\n",
    "\n",
    "Create a dictionary where the keys are protein identifiers and the values are dictionaries containing the sequence and length of each protein.\n",
    "\n",
    "Use the following sample data to populate your dictionary:\n",
    "\n",
    "Protein Data:\n",
    "- ID: P1, Sequence: MVLTIYPDELVQIVSDKK, Length: 19\n",
    "- ID: P2, Sequence: QLVQIVSDLKLLV, Length: 13\n",
    "- ID: P3, Sequence: MVLTIY, Length: 6\n",
    "- ID: P4, Sequence: KLLVSDKKQIV, Length: 11\n",
    "\n",
    "**Hints:**\n",
    "\n",
    "- Use nested dictionaries to store sequence and length.\n",
    "- Use the len() function to calculate the length of the sequences.\n",
    "\n",
    "**Solution:**"
   ]
  },
  {
   "cell_type": "code",
   "execution_count": null,
   "metadata": {},
   "outputs": [],
   "source": []
  },
  {
   "cell_type": "markdown",
   "metadata": {},
   "source": [
    "# Part 2: Analyzing Protein Sequences (30 minutes)\n",
    "\n",
    "## Task 2.1: Counting Amino Acid Occurrences\n",
    "\n",
    "Write a function `count_amino_acids` that takes a protein sequence as input and returns a dictionary with the count of each amino acid.\n",
    "\n",
    "**Instructions:**\n",
    "\n",
    "1. Define the function `count_amino_acids`.\n",
    "2. Use a loop to iterate through the sequence and count each amino acid.\n",
    "3. Store the counts in a dictionary where keys are amino acids and values are their counts.\n",
    "\n",
    "**Hints:**\n",
    "\n",
    "- Initialize an empty dictionary to store counts.\n",
    "- Use if statements to check if an amino acid is already in the dictionary and update the count accordingly.\n",
    "\n",
    "**Solution:**"
   ]
  },
  {
   "cell_type": "code",
   "execution_count": null,
   "metadata": {},
   "outputs": [],
   "source": []
  },
  {
   "cell_type": "markdown",
   "metadata": {},
   "source": [
    "## Task 2.2: Calculate Amino Acid Frequencies\n",
    "\n",
    "Write a function `calculate_frequencies` that takes the amino acid counts and the length of the sequence and returns a dictionary with the frequency of each amino acid.\n",
    "\n",
    "**Instructions:**\n",
    "\n",
    "1. Define the function `calculate_frequencies`.\n",
    "2. Use a loop to iterate through the counts dictionary.\n",
    "3. Calculate the frequency by dividing the count by the total length.\n",
    "4. Store the frequencies in a new dictionary.\n",
    "\n",
    "**Hints:**\n",
    "\n",
    "- Use a dictionary comprehension to create the frequencies dictionary.\n",
    "\n",
    "**Solution:**"
   ]
  },
  {
   "cell_type": "code",
   "execution_count": null,
   "metadata": {},
   "outputs": [],
   "source": []
  },
  {
   "cell_type": "markdown",
   "metadata": {},
   "source": [
    "# Part 3: Comparing Protein Sequences (30 minutes)\n",
    "\n",
    "## Task 3.1: Find Common Amino Acids\n",
    "\n",
    "Write a function `find_common_amino_acids` that takes two protein sequences and returns a set of common amino acids.\n",
    "\n",
    "**Instructions:**\n",
    "\n",
    "1. Define the function `find_common_amino_acids`.\n",
    "2. Convert each sequence to a set of amino acids.\n",
    "3. Find the intersection of the two sets to get the common amino acids.\n",
    "\n",
    "**Hints:**\n",
    "\n",
    "- Use the `set()` function to convert sequences to sets.\n",
    "- Use the `&` operator to find the intersection of two sets.\n",
    "\n",
    "**Solution:**"
   ]
  },
  {
   "cell_type": "code",
   "execution_count": null,
   "metadata": {},
   "outputs": [],
   "source": [
    "\n"
   ]
  },
  {
   "cell_type": "markdown",
   "metadata": {},
   "source": [
    "## Task 3.2: Compare Protein Lengths\n",
    "\n",
    "Write a function `compare_lengths` that takes a list of protein lengths and returns the longest and shortest lengths.\n",
    "\n",
    "**Instructions:**\n",
    "\n",
    "1. Define the function `compare_lengths`.\n",
    "2. Use the `max()` and `min()` functions to find the longest and shortest lengths.\n",
    "3. Return the longest and shortest lengths.\n",
    "\n",
    "**Hints:**\n",
    "\n",
    "- You can use the `max()` and `min()` functions directly on a list of numbers.\n",
    "\n",
    "**Solution:**"
   ]
  },
  {
   "cell_type": "code",
   "execution_count": null,
   "metadata": {},
   "outputs": [],
   "source": []
  },
  {
   "cell_type": "markdown",
   "metadata": {},
   "source": [
    "## Conclusion\n",
    "\n",
    "In this practical, you have applied various Python concepts to perform a computational analysis of protein data. You have learned to:\n",
    "\n",
    "- Create and manipulate dictionaries to store protein data\n",
    "- Count and calculate frequencies of amino acids in protein sequences\n",
    "- Find common amino acids between sequences\n",
    "- Compare protein lengths\n",
    "\n",
    "### Additional Practice Problems\n",
    "\n",
    "**Identify Unique Amino Acids:**\n",
    "\n",
    "Write a function `identify_unique_amino_acids` that takes a list of protein sequences and returns a set of amino acids that appear in only one sequence.\n",
    "\n",
    "**Solution:**"
   ]
  },
  {
   "cell_type": "code",
   "execution_count": null,
   "metadata": {},
   "outputs": [],
   "source": []
  },
  {
   "cell_type": "markdown",
   "metadata": {},
   "source": [
    "**Calculate Average Protein Length:**\n",
    "\n",
    "Write a function `average_length` that takes a list of protein lengths and returns the average length.\n",
    "\n",
    "**Solution:**"
   ]
  },
  {
   "cell_type": "code",
   "execution_count": null,
   "metadata": {},
   "outputs": [],
   "source": [
    "\n"
   ]
  },
  {
   "cell_type": "markdown",
   "metadata": {},
   "source": [
    "**Find Proteins with Specific Amino Acid:**\n",
    "\n",
    "Write a function `find_proteins_with_amino_acid` that takes a list of protein sequences and an amino acid, and returns a list of protein IDs that contain the specified amino acid.\n",
    "\n",
    "**Solution:**"
   ]
  },
  {
   "cell_type": "code",
   "execution_count": null,
   "metadata": {},
   "outputs": [],
   "source": [
    "\n"
   ]
  },
  {
   "cell_type": "code",
   "execution_count": null,
   "metadata": {},
   "outputs": [],
   "source": []
  }
 ],
 "metadata": {
  "kernelspec": {
   "display_name": "Python 3",
   "language": "python",
   "name": "python3"
  },
  "language_info": {
   "codemirror_mode": {
    "name": "ipython",
    "version": 3
   },
   "file_extension": ".py",
   "mimetype": "text/x-python",
   "name": "python",
   "nbconvert_exporter": "python",
   "pygments_lexer": "ipython3",
   "version": "3.11.5"
  }
 },
 "nbformat": 4,
 "nbformat_minor": 2
}
