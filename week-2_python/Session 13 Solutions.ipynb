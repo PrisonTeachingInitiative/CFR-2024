{
 "cells": [
  {
   "cell_type": "markdown",
   "metadata": {},
   "source": [
    "# Session 13: Introduction to Pandas and DataFrames\n",
    "\n",
    "## Introduction\n",
    "Pandas is a powerful data manipulation library in Python, providing data structures and functions needed to manipulate structured data seamlessly. In this tutorial, you will learn about Pandas and its core data structure, the DataFrame.\n",
    "\n",
    "## Objectives\n",
    "- Understand the basics of Pandas\n",
    "- Learn how to create and manipulate DataFrames\n",
    "- Perform data analysis with Pandas\n",
    "\n",
    "## Prerequisites\n",
    "- Knowledge of Python: functions, arrays, lists, NumPy, loops, conditionals\n",
    "- Basic understanding of data visualization with Matplotlib\n",
    "\n",
    "## Estimated Time\n",
    "1.5 hours\n",
    "\n",
    "## Part 1: Introduction to Pandas (20 minutes)\n",
    "\n",
    "**What is Pandas?**\n",
    "Pandas is an open-source library providing high-performance, easy-to-use data structures, and data analysis tools for Python. It is particularly useful for data manipulation and analysis.\n",
    "\n",
    "**Installing Pandas (should already be installed)**\n",
    "If you haven't installed Pandas yet, you can do so using pip: pip install pandas\n"
   ]
  },
  {
   "cell_type": "markdown",
   "metadata": {},
   "source": [
    "\n",
    "**Importing Pandas**\n",
    "```python\n",
    "import pandas as pd\n"
   ]
  },
  {
   "cell_type": "markdown",
   "metadata": {},
   "source": [
    "### Creating DataFrames**\n",
    "\n",
    "#### Example 1: Creating a DataFrame from a Dictionary\n",
    "\n",
    "**Instructions:**\n",
    "1. Create a dictionary with some sample data.\n",
    "2. Convert the dictionary to a DataFrame using `pd.DataFrame()`.\n"
   ]
  },
  {
   "cell_type": "code",
   "execution_count": 32,
   "metadata": {},
   "outputs": [
    {
     "name": "stdout",
     "output_type": "stream",
     "text": [
      "      Name  Age         City\n",
      "0    Alice   24     New York\n",
      "1      Bob   27  Los Angeles\n",
      "2  Charlie   22      Chicago\n",
      "3    David   32      Houston\n",
      "4      Eve   29      Phoenix\n"
     ]
    }
   ],
   "source": [
    "import pandas as pd\n",
    "\n",
    "# Sample data in a dictionary\n",
    "data = {\n",
    "    'Name': ['Alice', 'Bob', 'Charlie', 'David', 'Eve'],\n",
    "    'Age': [24, 27, 22, 32, 29],\n",
    "    'City': ['New York', 'Los Angeles', 'Chicago', 'Houston', 'Phoenix']\n",
    "}\n",
    "\n",
    "# Creating DataFrame\n",
    "df = pd.DataFrame(data)\n",
    "\n",
    "# Displaying DataFrame\n",
    "print(df)\n"
   ]
  },
  {
   "cell_type": "markdown",
   "metadata": {},
   "source": [
    "### Practice Problem 1: Create Your Own DataFrame\n",
    "\n",
    "Create a DataFrame for the following data:\n",
    "\n",
    "- **'Product'**: ['Laptop', 'Tablet', 'Smartphone']\n",
    "- **'Price'**: [1000, 500, 800]\n",
    "- **'Quantity'**: [50, 30, 100]\n",
    "\n",
    "**Solution:**\n"
   ]
  },
  {
   "cell_type": "code",
   "execution_count": 33,
   "metadata": {},
   "outputs": [
    {
     "name": "stdout",
     "output_type": "stream",
     "text": [
      "      Product  Price  Quantity\n",
      "0      Laptop   1000        50\n",
      "1      Tablet    500        30\n",
      "2  Smartphone    800       100\n"
     ]
    }
   ],
   "source": [
    "import pandas as pd\n",
    "\n",
    "# Sample data in a dictionary\n",
    "data = {\n",
    "    'Product': ['Laptop', 'Tablet', 'Smartphone'],\n",
    "    'Price': [1000, 500, 800],\n",
    "    'Quantity': [50, 30, 100]\n",
    "}\n",
    "\n",
    "# Creating DataFrame\n",
    "df = pd.DataFrame(data)\n",
    "\n",
    "# Displaying DataFrame\n",
    "print(df)\n"
   ]
  },
  {
   "cell_type": "markdown",
   "metadata": {},
   "source": [
    "### Exploring DataFrames\n",
    "\n",
    "#### Example 2: Basic DataFrame Operations\n",
    "\n",
    "**Instructions:**\n",
    "\n",
    "- Use `df.head()` to view the first few rows.\n",
    "- Use `df.info()` to get a concise summary of the DataFrame.\n",
    "- Use `df.describe()` to get a statistical summary.\n"
   ]
  },
  {
   "cell_type": "code",
   "execution_count": 34,
   "metadata": {},
   "outputs": [
    {
     "name": "stdout",
     "output_type": "stream",
     "text": [
      "      Product  Price  Quantity\n",
      "0      Laptop   1000        50\n",
      "1      Tablet    500        30\n",
      "2  Smartphone    800       100\n",
      "<class 'pandas.core.frame.DataFrame'>\n",
      "RangeIndex: 3 entries, 0 to 2\n",
      "Data columns (total 3 columns):\n",
      " #   Column    Non-Null Count  Dtype \n",
      "---  ------    --------------  ----- \n",
      " 0   Product   3 non-null      object\n",
      " 1   Price     3 non-null      int64 \n",
      " 2   Quantity  3 non-null      int64 \n",
      "dtypes: int64(2), object(1)\n",
      "memory usage: 204.0+ bytes\n",
      "None\n",
      "             Price    Quantity\n",
      "count     3.000000    3.000000\n",
      "mean    766.666667   60.000000\n",
      "std     251.661148   36.055513\n",
      "min     500.000000   30.000000\n",
      "25%     650.000000   40.000000\n",
      "50%     800.000000   50.000000\n",
      "75%     900.000000   75.000000\n",
      "max    1000.000000  100.000000\n"
     ]
    }
   ],
   "source": [
    "# Viewing the first few rows\n",
    "print(df.head())\n",
    "\n",
    "# Getting a concise summary\n",
    "print(df.info())\n",
    "\n",
    "# Getting a statistical summary\n",
    "print(df.describe())\n"
   ]
  },
  {
   "cell_type": "markdown",
   "metadata": {},
   "source": [
    "### Practice Problem 2: Explore Your DataFrame\n",
    "\n",
    "Explore the DataFrame you created in Practice Problem 1 using `head()`, `info()`, and `describe()`.\n",
    "\n",
    "\n",
    "**Solution:**"
   ]
  },
  {
   "cell_type": "code",
   "execution_count": 35,
   "metadata": {},
   "outputs": [
    {
     "name": "stdout",
     "output_type": "stream",
     "text": [
      "      Product  Price  Quantity\n",
      "0      Laptop   1000        50\n",
      "1      Tablet    500        30\n",
      "2  Smartphone    800       100\n",
      "<class 'pandas.core.frame.DataFrame'>\n",
      "RangeIndex: 3 entries, 0 to 2\n",
      "Data columns (total 3 columns):\n",
      " #   Column    Non-Null Count  Dtype \n",
      "---  ------    --------------  ----- \n",
      " 0   Product   3 non-null      object\n",
      " 1   Price     3 non-null      int64 \n",
      " 2   Quantity  3 non-null      int64 \n",
      "dtypes: int64(2), object(1)\n",
      "memory usage: 204.0+ bytes\n",
      "None\n",
      "             Price    Quantity\n",
      "count     3.000000    3.000000\n",
      "mean    766.666667   60.000000\n",
      "std     251.661148   36.055513\n",
      "min     500.000000   30.000000\n",
      "25%     650.000000   40.000000\n",
      "50%     800.000000   50.000000\n",
      "75%     900.000000   75.000000\n",
      "max    1000.000000  100.000000\n"
     ]
    }
   ],
   "source": [
    "# Viewing the first few rows\n",
    "print(df.head())\n",
    "\n",
    "# Getting a concise summary\n",
    "print(df.info())\n",
    "\n",
    "# Getting a statistical summary\n",
    "print(df.describe())\n"
   ]
  },
  {
   "cell_type": "markdown",
   "metadata": {},
   "source": [
    "Part 2: Data Manipulation with Pandas (30 minutes)\n",
    "\n",
    "### Selecting Data\n",
    "\n",
    "#### Example 3: Selecting Columns and Rows\n",
    "\n",
    "Instructions:\n",
    "- Select a single column using `df['column_name']`.\n",
    "- Select multiple columns using `df[['column1', 'column2']]`.\n",
    "- Select rows using `df.iloc[]` for integer-location based indexing.\n"
   ]
  },
  {
   "cell_type": "code",
   "execution_count": 36,
   "metadata": {},
   "outputs": [
    {
     "name": "stdout",
     "output_type": "stream",
     "text": [
      "0        Laptop\n",
      "1        Tablet\n",
      "2    Smartphone\n",
      "Name: Product, dtype: object\n",
      "      Product  Price\n",
      "0      Laptop   1000\n",
      "1      Tablet    500\n",
      "2  Smartphone    800\n",
      "Product     Laptop\n",
      "Price         1000\n",
      "Quantity        50\n",
      "Name: 0, dtype: object\n",
      "  Product  Price  Quantity\n",
      "0  Laptop   1000        50\n",
      "1  Tablet    500        30\n"
     ]
    }
   ],
   "source": [
    "# Selecting a single column\n",
    "products = df['Product']\n",
    "print(products)\n",
    "\n",
    "# Selecting multiple columns\n",
    "product_price = df[['Product', 'Price']]\n",
    "print(product_price)\n",
    "\n",
    "# Selecting rows by index\n",
    "first_row = df.iloc[0]\n",
    "print(first_row)\n",
    "\n",
    "# Selecting a subset of rows and columns\n",
    "subset = df.iloc[0:2, 0:3]\n",
    "print(subset)\n",
    "\n"
   ]
  },
  {
   "cell_type": "markdown",
   "metadata": {},
   "source": [
    "### Practice Problem 3: Select Data from Your DataFrame\n",
    "\n",
    "Select the 'Product' and 'Price' columns from your DataFrame. Also, select the first two rows.\n",
    "\n",
    "**Solution:**\n"
   ]
  },
  {
   "cell_type": "code",
   "execution_count": 37,
   "metadata": {},
   "outputs": [
    {
     "name": "stdout",
     "output_type": "stream",
     "text": [
      "      Product  Price\n",
      "0      Laptop   1000\n",
      "1      Tablet    500\n",
      "2  Smartphone    800\n",
      "  Product  Price  Quantity\n",
      "0  Laptop   1000        50\n",
      "1  Tablet    500        30\n"
     ]
    }
   ],
   "source": [
    "# Selecting the 'Product' and 'Price' columns\n",
    "product_price = df[['Product', 'Price']]\n",
    "print(product_price)\n",
    "\n",
    "# Selecting the first two rows\n",
    "first_two_rows = df.iloc[0:2]\n",
    "print(first_two_rows)\n"
   ]
  },
  {
   "cell_type": "markdown",
   "metadata": {},
   "source": [
    "### Filtering Data\n",
    "\n",
    "**Example 4: Filtering Data Based on Conditions**\n",
    "\n",
    "Instructions:\n",
    "- Filter rows where a column meets a condition using boolean indexing.\n",
    "- Combine multiple conditions using & (and) and | (or).\n"
   ]
  },
  {
   "cell_type": "code",
   "execution_count": 38,
   "metadata": {},
   "outputs": [
    {
     "name": "stdout",
     "output_type": "stream",
     "text": [
      "      Product  Price  Quantity\n",
      "0      Laptop   1000        50\n",
      "2  Smartphone    800       100\n",
      "  Product  Price  Quantity\n",
      "0  Laptop   1000        50\n"
     ]
    }
   ],
   "source": [
    "# Filter rows where 'Price' is greater than 600\n",
    "filtered_data = df[df['Price'] > 600]\n",
    "print(filtered_data)\n",
    "\n",
    "# Combine multiple conditions using & (and) and | (or)\n",
    "filtered_data = df[(df['Price'] > 600) & (df['Quantity'] < 80)]\n",
    "print(filtered_data)\n"
   ]
  },
  {
   "cell_type": "markdown",
   "metadata": {},
   "source": [
    "### Practice Problem 4: Filter Data in Your DataFrame\n",
    "\n",
    "Filter rows where the 'Price' is greater than 600 and 'Quantity' is less than 100.\n",
    "\n",
    "**Solution:**\n"
   ]
  },
  {
   "cell_type": "code",
   "execution_count": 39,
   "metadata": {},
   "outputs": [
    {
     "name": "stdout",
     "output_type": "stream",
     "text": [
      "  Product  Price  Quantity\n",
      "0  Laptop   1000        50\n"
     ]
    }
   ],
   "source": [
    "# Filtering rows based on conditions\n",
    "filtered_df = df[(df['Price'] > 600) & (df['Quantity'] < 100)]\n",
    "print(filtered_df)\n"
   ]
  },
  {
   "cell_type": "markdown",
   "metadata": {},
   "source": [
    "### Adding and Removing Data\n",
    "\n",
    "#### Example 5: Adding and Removing Columns\n",
    "\n",
    "Instructions:\n",
    "Add a new column to the DataFrame.\n",
    "Remove a column using df.drop().\n"
   ]
  },
  {
   "cell_type": "code",
   "execution_count": 40,
   "metadata": {},
   "outputs": [],
   "source": [
    "# Adding a new column\n",
    "df['Discount'] = [0.1, 0.2, 0.15]\n",
    "\n",
    "# Removing a column\n",
    "df.drop('Discount', axis=1, inplace=True)\n"
   ]
  },
  {
   "cell_type": "markdown",
   "metadata": {},
   "source": [
    "### Practice Problem 5: Add and Remove Columns in Your DataFrame\n",
    "\n",
    "Add a 'Discount' column to your DataFrame with values [10, 15, 20]. Then, remove the 'Quantity' column.\n",
    "\n",
    "**Solution:**\n"
   ]
  },
  {
   "cell_type": "code",
   "execution_count": 41,
   "metadata": {},
   "outputs": [
    {
     "name": "stdout",
     "output_type": "stream",
     "text": [
      "      Product  Price  Quantity  Discount\n",
      "0      Laptop   1000        50        10\n",
      "1      Tablet    500        30        15\n",
      "2  Smartphone    800       100        20\n",
      "      Product  Price  Discount\n",
      "0      Laptop   1000        10\n",
      "1      Tablet    500        15\n",
      "2  Smartphone    800        20\n"
     ]
    }
   ],
   "source": [
    "# Adding a new column 'Discount'\n",
    "df['Discount'] = [10, 15, 20]\n",
    "print(df)\n",
    "\n",
    "# Removing the 'Quantity' column\n",
    "df = df.drop('Quantity', axis=1)\n",
    "print(df)\n"
   ]
  },
  {
   "cell_type": "markdown",
   "metadata": {},
   "source": [
    "### Part 3: Advanced DataFrame Operations (40 minutes)\n",
    "\n",
    "**Handling Missing Data**\n",
    "\n",
    "#### Example 6: Identifying and Handling Missing Data*\n",
    "\n",
    "**Instructions:**\n",
    "\n",
    "- Identify missing data using `df.isnull()`.\n",
    "- Drop rows with missing data using `df.dropna()`.\n",
    "- Fill missing data using `df.fillna()`.\n"
   ]
  },
  {
   "cell_type": "code",
   "execution_count": 42,
   "metadata": {},
   "outputs": [
    {
     "name": "stdout",
     "output_type": "stream",
     "text": [
      "      Product  Price  Discount  Age\n",
      "0      Laptop   1000        10  NaN\n",
      "1      Tablet    500        15  NaN\n",
      "2  Smartphone    800        20  NaN\n",
      "   Product  Price  Discount   Age\n",
      "0    False  False     False  True\n",
      "1    False  False     False  True\n",
      "2    False  False     False  True\n",
      "Empty DataFrame\n",
      "Columns: [Product, Price, Discount, Age]\n",
      "Index: []\n",
      "      Product  Price  Discount  Age\n",
      "0      Laptop   1000        10  0.0\n",
      "1      Tablet    500        15  0.0\n",
      "2  Smartphone    800        20  0.0\n"
     ]
    }
   ],
   "source": [
    "import numpy as np\n",
    "\n",
    "# Adding missing data\n",
    "df.loc[2, 'Age'] = np.nan\n",
    "print(df)\n",
    "\n",
    "# Identifying missing data\n",
    "print(df.isnull())\n",
    "\n",
    "# Dropping rows with missing data\n",
    "df_dropped = df.dropna()\n",
    "print(df_dropped)\n",
    "\n",
    "# Filling missing data\n",
    "df_filled = df.fillna(0)\n",
    "print(df_filled)\n"
   ]
  },
  {
   "cell_type": "markdown",
   "metadata": {},
   "source": [
    "### Practice Problem 6: Handle Missing Data in Your DataFrame\n",
    "\n",
    "Introduce missing data into your DataFrame and practice dropping rows and filling missing values.\n",
    "\n",
    "**Solution:**\n"
   ]
  },
  {
   "cell_type": "code",
   "execution_count": 43,
   "metadata": {},
   "outputs": [
    {
     "name": "stdout",
     "output_type": "stream",
     "text": [
      "      Product   Price  Discount  Age\n",
      "0      Laptop  1000.0        10  NaN\n",
      "1      Tablet     NaN        15  NaN\n",
      "2  Smartphone   800.0        20  NaN\n",
      "   Product  Price  Discount   Age\n",
      "0    False  False     False  True\n",
      "1    False   True     False  True\n",
      "2    False  False     False  True\n",
      "Empty DataFrame\n",
      "Columns: [Product, Price, Discount, Age]\n",
      "Index: []\n",
      "      Product   Price  Discount  Age\n",
      "0      Laptop  1000.0        10  0.0\n",
      "1      Tablet     0.0        15  0.0\n",
      "2  Smartphone   800.0        20  0.0\n"
     ]
    }
   ],
   "source": [
    "import numpy as np\n",
    "\n",
    "# Introducing missing data\n",
    "df.loc[1, 'Price'] = np.nan\n",
    "print(df)\n",
    "\n",
    "# Identifying missing data\n",
    "print(df.isnull())\n",
    "\n",
    "# Dropping rows with missing data\n",
    "df_dropped = df.dropna()\n",
    "print(df_dropped)\n",
    "\n",
    "# Filling missing data\n",
    "df_filled = df.fillna(0)\n",
    "print(df_filled)\n"
   ]
  },
  {
   "cell_type": "markdown",
   "metadata": {},
   "source": [
    "### Grouping and Aggregating Data\n",
    "\n",
    "**Example 7: Grouping and Aggregating Data**\n",
    "\n",
    "**Instructions:**\n",
    "- Group data using `df.groupby()`.\n",
    "- Perform aggregation functions such as `sum()`, `mean()`, etc.\n"
   ]
  },
  {
   "cell_type": "code",
   "execution_count": 44,
   "metadata": {},
   "outputs": [
    {
     "name": "stdout",
     "output_type": "stream",
     "text": [
      "          Value\n",
      "Category       \n",
      "A            90\n",
      "B            60\n",
      "          Value\n",
      "Category       \n",
      "A          30.0\n",
      "B          30.0\n"
     ]
    }
   ],
   "source": [
    "# Sample data\n",
    "data = {\n",
    "    'Category': ['A', 'B', 'A', 'B', 'A'],\n",
    "    'Value': [10, 20, 30, 40, 50]\n",
    "}\n",
    "df = pd.DataFrame(data)\n",
    "\n",
    "# Grouping data by 'Category'\n",
    "grouped = df.groupby('Category')\n",
    "\n",
    "# Aggregating data\n",
    "sum_values = grouped.sum()\n",
    "print(sum_values)\n",
    "\n",
    "mean_values = grouped.mean()\n",
    "print(mean_values)\n"
   ]
  },
  {
   "cell_type": "markdown",
   "metadata": {},
   "source": [
    "### Practice Problem 7: Group and Aggregate Data in Your DataFrame\n",
    "\n",
    "Group your DataFrame by 'Product' and calculate the total and average price for each product.\n",
    "\n",
    "**Solution:**\n"
   ]
  },
  {
   "cell_type": "code",
   "execution_count": 45,
   "metadata": {},
   "outputs": [
    {
     "name": "stdout",
     "output_type": "stream",
     "text": [
      "Product\n",
      "Laptop        2200\n",
      "Smartphone     800\n",
      "Tablet         950\n",
      "Name: Price, dtype: int64\n",
      "Product\n",
      "Laptop        1100.0\n",
      "Smartphone     800.0\n",
      "Tablet         475.0\n",
      "Name: Price, dtype: float64\n"
     ]
    }
   ],
   "source": [
    "# Sample data\n",
    "data = {\n",
    "    'Product': ['Laptop', 'Tablet', 'Smartphone', 'Laptop', 'Tablet'],\n",
    "    'Price': [1000, 500, 800, 1200, 450],\n",
    "    'Quantity': [50, 30, 100, 70, 20]\n",
    "}\n",
    "df = pd.DataFrame(data)\n",
    "\n",
    "# Grouping data by 'Product'\n",
    "grouped = df.groupby('Product')\n",
    "\n",
    "# Aggregating data\n",
    "total_price = grouped['Price'].sum()\n",
    "average_price = grouped['Price'].mean()\n",
    "\n",
    "print(total_price)\n",
    "print(average_price)\n"
   ]
  },
  {
   "cell_type": "markdown",
   "metadata": {},
   "source": [
    "### Merging and Joining DataFrames\n",
    "\n",
    "#### Example 8: Merging DataFrames\n",
    "\n",
    "Instructions:\n",
    "- Merge two DataFrames using pd.merge().\n",
    "- Perform different types of merges: inner, outer, left, right.\n"
   ]
  },
  {
   "cell_type": "code",
   "execution_count": 46,
   "metadata": {},
   "outputs": [
    {
     "name": "stdout",
     "output_type": "stream",
     "text": [
      "   ID   Name  Age\n",
      "0   1  Alice   24\n",
      "1   2    Bob   27\n"
     ]
    }
   ],
   "source": [
    "# Sample data\n",
    "data1 = {\n",
    "    'ID': [1, 2, 3],\n",
    "    'Name': ['Alice', 'Bob', 'Charlie']\n",
    "}\n",
    "df1 = pd.DataFrame(data1)\n",
    "\n",
    "data2 = {\n",
    "    'ID': [1, 2, 4],\n",
    "    'Age': [24, 27, 30]\n",
    "}\n",
    "df2 = pd.DataFrame(data2)\n",
    "\n",
    "# Merging DataFrames\n",
    "merged_df = pd.merge(df1, df2, on='ID', how='inner')\n",
    "print(merged_df)\n"
   ]
  },
  {
   "cell_type": "markdown",
   "metadata": {},
   "source": [
    "### Practice Problem 8: Merge DataFrames\n",
    "\n",
    "Create two DataFrames with some common columns and merge them using different merge types.\n",
    "\n",
    "**Solution:**\n"
   ]
  },
  {
   "cell_type": "code",
   "execution_count": 47,
   "metadata": {},
   "outputs": [
    {
     "name": "stdout",
     "output_type": "stream",
     "text": [
      "   ID   Name  Age\n",
      "0   1  Alice   24\n",
      "1   2    Bob   27\n",
      "   ID     Name   Age\n",
      "0   1    Alice  24.0\n",
      "1   2      Bob  27.0\n",
      "2   3  Charlie   NaN\n",
      "3   4      NaN  30.0\n",
      "   ID     Name   Age\n",
      "0   1    Alice  24.0\n",
      "1   2      Bob  27.0\n",
      "2   3  Charlie   NaN\n",
      "   ID   Name  Age\n",
      "0   1  Alice   24\n",
      "1   2    Bob   27\n",
      "2   4    NaN   30\n"
     ]
    }
   ],
   "source": [
    "# Sample data for first DataFrame\n",
    "data1 = {\n",
    "    'ID': [1, 2, 3],\n",
    "    'Name': ['Alice', 'Bob', 'Charlie']\n",
    "}\n",
    "df1 = pd.DataFrame(data1)\n",
    "\n",
    "# Sample data for second DataFrame\n",
    "data2 = {\n",
    "    'ID': [1, 2, 4],\n",
    "    'Age': [24, 27, 30]\n",
    "}\n",
    "df2 = pd.DataFrame(data2)\n",
    "\n",
    "# Inner merge\n",
    "inner_merged_df = pd.merge(df1, df2, on='ID', how='inner')\n",
    "print(inner_merged_df)\n",
    "\n",
    "# Outer merge\n",
    "outer_merged_df = pd.merge(df1, df2, on='ID', how='outer')\n",
    "print(outer_merged_df)\n",
    "\n",
    "# Left merge\n",
    "left_merged_df = pd.merge(df1, df2, on='ID', how='left')\n",
    "print(left_merged_df)\n",
    "\n",
    "# Right merge\n",
    "right_merged_df = pd.merge(df1, df2, on='ID', how='right')\n",
    "print(right_merged_df)\n"
   ]
  },
  {
   "cell_type": "markdown",
   "metadata": {},
   "source": [
    "## Conclusion\n",
    "\n",
    "In this tutorial, you have learned how to:\n",
    "- Create and manipulate DataFrames using Pandas\n",
    "- Select, filter, add, and remove data\n",
    "- Handle missing data\n",
    "- Group and aggregate data\n",
    "- Merge and join DataFrames\n"
   ]
  },
  {
   "cell_type": "markdown",
   "metadata": {},
   "source": []
  }
 ],
 "metadata": {
  "kernelspec": {
   "display_name": "Python 3",
   "language": "python",
   "name": "python3"
  },
  "language_info": {
   "codemirror_mode": {
    "name": "ipython",
    "version": 3
   },
   "file_extension": ".py",
   "mimetype": "text/x-python",
   "name": "python",
   "nbconvert_exporter": "python",
   "pygments_lexer": "ipython3",
   "version": "3.11.5"
  }
 },
 "nbformat": 4,
 "nbformat_minor": 2
}
