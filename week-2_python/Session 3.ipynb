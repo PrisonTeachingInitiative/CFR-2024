{
 "cells": [
  {
   "cell_type": "markdown",
   "metadata": {},
   "source": [
    "# Session 3: Data Types and Data Conversions\n",
    "\n",
    "## Introduction\n",
    "Understanding data types and how to convert between them is crucial in Python programming. This tutorial will provide a comprehensive guide on different data types in Python and how to convert between these types. By the end of this tutorial, you'll be comfortable working with various data types and performing data conversions.\n",
    "\n",
    "### Objectives\n",
    "- Understand different data types in Python.\n",
    "- Learn how to convert between different data types.\n",
    "- Practice working with data types and conversions.\n",
    "\n",
    "### Prerequisites\n",
    "- Basic knowledge of Python variables and assignments.\n",
    "\n",
    "### Estimated Time: 1.5 hours\n",
    "\n",
    "---\n",
    "\n",
    "## Part 1: Introduction to Data Types (20 minutes)\n",
    "\n",
    "### What are Data Types?\n",
    "In Python, a data type is a classification that specifies the type of value a variable holds. The most common data types are:\n",
    "- Integers (int)\n",
    "- Floating-point numbers (float)\n",
    "- Strings (str)\n",
    "- Booleans (bool)\n",
    "\n",
    "### Integers\n",
    "Integers are whole numbers, positive or negative, without decimals.\n"
   ]
  },
  {
   "cell_type": "code",
   "execution_count": null,
   "metadata": {},
   "outputs": [],
   "source": []
  },
  {
   "cell_type": "markdown",
   "metadata": {},
   "source": [
    "### Floating-point Numbers\n",
    "Floating-point numbers are numbers with a decimal point.\n"
   ]
  },
  {
   "cell_type": "code",
   "execution_count": null,
   "metadata": {},
   "outputs": [],
   "source": [
    "\n"
   ]
  },
  {
   "cell_type": "markdown",
   "metadata": {},
   "source": [
    "### Strings\n",
    "Strings are sequences of characters enclosed in quotes.\n"
   ]
  },
  {
   "cell_type": "code",
   "execution_count": null,
   "metadata": {},
   "outputs": [],
   "source": []
  },
  {
   "cell_type": "markdown",
   "metadata": {},
   "source": [
    "### Booleans\n",
    "Booleans represent one of two values: True or False.\n"
   ]
  },
  {
   "cell_type": "code",
   "execution_count": null,
   "metadata": {},
   "outputs": [],
   "source": [
    "\n"
   ]
  },
  {
   "cell_type": "markdown",
   "metadata": {},
   "source": [
    "## Part 2: Data Conversions (40 minutes)\n",
    "\n",
    "### Why Convert Data Types?\n",
    "Sometimes, you may need to convert data from one type to another. This is common when you're working with user input, performing calculations, or preparing data for analysis.\n",
    "\n",
    "### Converting to Integer\n",
    "You can convert a value to an integer using the `int()` function.\n"
   ]
  },
  {
   "cell_type": "code",
   "execution_count": null,
   "metadata": {},
   "outputs": [],
   "source": [
    "\n"
   ]
  },
  {
   "cell_type": "markdown",
   "metadata": {},
   "source": [
    "### Converting to Float\n",
    "You can convert a value to a float using the `float()` function.\n"
   ]
  },
  {
   "cell_type": "code",
   "execution_count": null,
   "metadata": {},
   "outputs": [],
   "source": []
  },
  {
   "cell_type": "markdown",
   "metadata": {},
   "source": [
    "### Converting to String\n",
    "You can convert a value to a string using the `str()` function.\n"
   ]
  },
  {
   "cell_type": "code",
   "execution_count": null,
   "metadata": {},
   "outputs": [],
   "source": [
    "\n"
   ]
  },
  {
   "cell_type": "markdown",
   "metadata": {},
   "source": [
    "### Converting to Boolean\n",
    "You can convert a value to a boolean using the `bool()` function. Note that in Python, empty strings, 0, and `None` are considered `False`, while all other values are considered `True`.\n"
   ]
  },
  {
   "cell_type": "code",
   "execution_count": null,
   "metadata": {},
   "outputs": [],
   "source": [
    "\n"
   ]
  },
  {
   "cell_type": "markdown",
   "metadata": {},
   "source": [
    "## Part 3: Practice Problems and Solutions (30 minutes)\n",
    "\n",
    "### Practice Problem 1: Data Type Identification\n",
    "Identify the data type of the following variables:\n",
    "- a = 10\n",
    "- b = 3.14\n",
    "- c = \"Hello\"\n",
    "- d = True\n",
    "\n",
    "#### Solution:\n"
   ]
  },
  {
   "cell_type": "code",
   "execution_count": null,
   "metadata": {},
   "outputs": [],
   "source": [
    "\n"
   ]
  },
  {
   "cell_type": "markdown",
   "metadata": {},
   "source": [
    "### Practice Problem 2: Data Type Conversion\n",
    "Convert the following values to the specified data types:\n",
    "- Convert the string \"25\" to an integer.\n",
    "- Convert the integer 10 to a float.\n",
    "- Convert the float 9.99 to a string.\n",
    "- Convert the string \"False\" to a boolean.\n",
    "\n",
    "#### Solution:\n"
   ]
  },
  {
   "cell_type": "code",
   "execution_count": null,
   "metadata": {},
   "outputs": [],
   "source": [
    "\n"
   ]
  },
  {
   "cell_type": "markdown",
   "metadata": {},
   "source": [
    "### Practice Problem 3: Combining Data Types\n",
    "Create variables for your name (string), age (integer), and height (float). Combine these variables into a single string that introduces yourself.\n",
    "\n",
    "#### Solution:\n"
   ]
  },
  {
   "cell_type": "code",
   "execution_count": null,
   "metadata": {},
   "outputs": [],
   "source": []
  },
  {
   "cell_type": "markdown",
   "metadata": {},
   "source": [
    "### Practice Problem 4: User Input and Type Conversion\n",
    "Write a program that asks the user for their age and height. Convert these inputs to the appropriate data types and print them.\n",
    "\n",
    "#### Solution:\n"
   ]
  },
  {
   "cell_type": "code",
   "execution_count": null,
   "metadata": {},
   "outputs": [],
   "source": [
    "\n"
   ]
  },
  {
   "cell_type": "markdown",
   "metadata": {},
   "source": [
    "## Conclusion\n",
    "In this tutorial, you have learned about:\n",
    "- Different data types in Python: integers, floats, strings, and booleans.\n",
    "- How to convert between these data types using `int()`, `float()`, `str()`, and `bool()` functions.\n"
   ]
  },
  {
   "cell_type": "markdown",
   "metadata": {},
   "source": []
  }
 ],
 "metadata": {
  "kernelspec": {
   "display_name": "Python 3",
   "language": "python",
   "name": "python3"
  },
  "language_info": {
   "codemirror_mode": {
    "name": "ipython",
    "version": 3
   },
   "file_extension": ".py",
   "mimetype": "text/x-python",
   "name": "python",
   "nbconvert_exporter": "python",
   "pygments_lexer": "ipython3",
   "version": "3.11.5"
  }
 },
 "nbformat": 4,
 "nbformat_minor": 2
}
