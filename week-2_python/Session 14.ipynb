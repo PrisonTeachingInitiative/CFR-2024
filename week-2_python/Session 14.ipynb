{
 "cells": [
  {
   "cell_type": "markdown",
   "metadata": {},
   "source": [
    "# Session 14: Diving Deeper into Pandas and DataFrames\n",
    "\n",
    "## Introduction\n",
    "\n",
    "This tutorial dives deeper into the Pandas library, focusing on advanced DataFrame operations such as grouping, slicing, and selecting values. By the end of this tutorial, you will have a comprehensive understanding of how to manipulate and analyze data using Pandas.\n",
    "\n",
    "## Objectives\n",
    "\n",
    "- Advanced DataFrame manipulation techniques\n",
    "- Grouping and aggregating data\n",
    "- Slicing and selecting specific values\n",
    "\n",
    "## Prerequisites\n",
    "\n",
    "- Basic knowledge of Pandas and DataFrames\n",
    "- Understanding of Python functions, arrays, lists, NumPy, loops, and conditionals\n",
    "\n",
    "## Estimated Time\n",
    "\n",
    "1.5 hours\n",
    "\n",
    "## Part 1: Advanced DataFrame Manipulation (30 minutes)\n",
    "\n",
    "### Slicing DataFrames\n",
    "\n",
    "#### Example 1: Slicing Rows and Columns\n",
    "\n",
    "Instructions:\n",
    "- Use loc for label-based indexing.\n",
    "- Use iloc for position-based indexing.\n"
   ]
  },
  {
   "cell_type": "code",
   "execution_count": null,
   "metadata": {},
   "outputs": [],
   "source": []
  },
  {
   "cell_type": "markdown",
   "metadata": {},
   "source": [
    "### Practice Problem 1: Slice Your DataFrame\n",
    "\n",
    "Create a DataFrame and practice slicing rows and columns using `loc` and `iloc`.\n",
    "\n",
    "**Solution:** \n"
   ]
  },
  {
   "cell_type": "code",
   "execution_count": null,
   "metadata": {},
   "outputs": [],
   "source": []
  },
  {
   "cell_type": "markdown",
   "metadata": {},
   "source": [
    "### Selecting Specific Values\n",
    "#### Example 2: Selecting Specific Values\n",
    "\n",
    "**Instructions:**\n",
    "- Select a single value using `at` (label-based).\n",
    "- Select a single value using `iat` (position-based).\n"
   ]
  },
  {
   "cell_type": "code",
   "execution_count": null,
   "metadata": {},
   "outputs": [],
   "source": []
  },
  {
   "cell_type": "markdown",
   "metadata": {},
   "source": [
    "### Practice Problem 2: Explore Your DataFrame\n",
    "Explore the DataFrame you created in Practice Problem 1 using head(), info(), and describe().\n",
    "\n",
    "**Solution:**\n"
   ]
  },
  {
   "cell_type": "code",
   "execution_count": null,
   "metadata": {},
   "outputs": [],
   "source": []
  },
  {
   "cell_type": "markdown",
   "metadata": {},
   "source": [
    "## Part 2: Data Manipulation with Pandas (30 minutes)\n",
    "\n",
    "### Selecting Data\n",
    "\n",
    "#### Example 3: Selecting Columns and Rows\n",
    "**Instructions**:\n",
    "Select a single column using `df['column_name']`.\n",
    "Select multiple columns using `df[['column1', 'column2']]`.\n",
    "Select rows using `df.iloc[]` for integer-location based indexing.\n"
   ]
  },
  {
   "cell_type": "code",
   "execution_count": null,
   "metadata": {},
   "outputs": [],
   "source": []
  },
  {
   "cell_type": "markdown",
   "metadata": {},
   "source": [
    "### Practice Problem 3: Select Data from Your DataFrame\n",
    "Select the 'Product' and 'Price' columns from your DataFrame. Also, select the first two rows.\n",
    "\n",
    "\n",
    "**Solution:**\n"
   ]
  },
  {
   "cell_type": "code",
   "execution_count": null,
   "metadata": {},
   "outputs": [],
   "source": []
  },
  {
   "cell_type": "markdown",
   "metadata": {},
   "source": [
    "### Filtering Data\n",
    "\n",
    "#### Example 4: Filtering Data Based on Conditions\n",
    "\n",
    "**Instructions:**\n",
    "\n",
    "- Filter rows where a column meets a condition using boolean indexing.\n",
    "- Combine multiple conditions using & (and) and | (or).\n"
   ]
  },
  {
   "cell_type": "code",
   "execution_count": null,
   "metadata": {},
   "outputs": [],
   "source": []
  },
  {
   "cell_type": "markdown",
   "metadata": {},
   "source": [
    "### Practice Problem 4: Filter Data in Your DataFrame\n",
    "\n",
    "\n",
    "Filter rows where the 'Price' is greater than 600 and 'Quantity' is less than 100.\n",
    "\n",
    "**Solution:**\n"
   ]
  },
  {
   "cell_type": "code",
   "execution_count": null,
   "metadata": {},
   "outputs": [],
   "source": []
  },
  {
   "cell_type": "markdown",
   "metadata": {},
   "source": [
    "### Adding and Removing Data\n",
    "#### Example 5: Adding and Removing Columns\n",
    "\n",
    "**Instructions**\n",
    "- Add a new column to the DataFrame.\n",
    "- Remove a column using df.drop().\n"
   ]
  },
  {
   "cell_type": "code",
   "execution_count": null,
   "metadata": {},
   "outputs": [],
   "source": []
  },
  {
   "cell_type": "markdown",
   "metadata": {},
   "source": [
    "### Practice Problem 5: Add and Remove Columns in Your DataFrame\n",
    "Add a 'Discount' column to your DataFrame with values [10, 15, 20]. Then, remove the 'Quantity' column.\n",
    "\n",
    "**Solution:**\n"
   ]
  },
  {
   "cell_type": "code",
   "execution_count": null,
   "metadata": {},
   "outputs": [],
   "source": []
  },
  {
   "cell_type": "markdown",
   "metadata": {},
   "source": [
    "## Part 3: Advanced DataFrame Operations (40 minutes)\n",
    "\n",
    "### Handling Missing Data\n",
    "\n",
    "#### Example 6: Identifying and Handling Missing Data\n",
    "\n",
    "**Instructions**\n",
    "- Identify missing data using df.isnull().\n",
    "- Drop rows with missing data using df.dropna().\n",
    "- Fill missing data using df.fillna().\n",
    "\n"
   ]
  },
  {
   "cell_type": "code",
   "execution_count": null,
   "metadata": {},
   "outputs": [],
   "source": []
  },
  {
   "cell_type": "markdown",
   "metadata": {},
   "source": [
    "### Practice Problem 6: Handle Missing Data in Your DataFrame\n",
    "\n",
    "Introduce missing data into your DataFrame and practice dropping rows and filling missing values.\n",
    "\n",
    "**Solution:**\n"
   ]
  },
  {
   "cell_type": "code",
   "execution_count": null,
   "metadata": {},
   "outputs": [],
   "source": []
  },
  {
   "cell_type": "markdown",
   "metadata": {},
   "source": [
    "### Grouping and Aggregating Data\n",
    "\n",
    "#### Example 7: Grouping and Aggregating Data\n",
    "\n",
    "**Instructions:**\n",
    "- Group data using df.groupby().\n",
    "- Perform aggregation functions such as sum(), mean(), etc.\n",
    "\n"
   ]
  },
  {
   "cell_type": "code",
   "execution_count": null,
   "metadata": {},
   "outputs": [],
   "source": [
    "\n"
   ]
  },
  {
   "cell_type": "markdown",
   "metadata": {},
   "source": [
    "### Practice Problem 7: Group and Aggregate Data in Your DataFrame\n",
    "\n",
    "Group your DataFrame by 'Product' and calculate the total and average price for each product.\n",
    "\n",
    "`# Sample data\n",
    "data = {\n",
    "    'Product': ['Laptop', 'Tablet', 'Smartphone', 'Laptop', 'Tablet'],\n",
    "    'Price': [1000, 500, 800, 1200, 450],\n",
    "    'Quantity': [50, 30, 100, 70, 20]\n",
    "}`\n",
    "\n",
    "**Solution:**\n"
   ]
  },
  {
   "cell_type": "code",
   "execution_count": null,
   "metadata": {},
   "outputs": [],
   "source": [
    "\n",
    "\n"
   ]
  },
  {
   "cell_type": "markdown",
   "metadata": {},
   "source": [
    "### Merging and Joining DataFrames\n",
    "\n",
    "#### Example 8: Merging DataFrames\n",
    "\n",
    "**Instructions:**\n",
    "\n",
    "- Merge two DataFrames using pd.merge().\n",
    "- Perform different types of merges: inner, outer, left, right.\n"
   ]
  },
  {
   "cell_type": "code",
   "execution_count": null,
   "metadata": {},
   "outputs": [],
   "source": []
  },
  {
   "cell_type": "markdown",
   "metadata": {},
   "source": [
    "### Practice Problem 8: Merge DataFrames\n",
    "\n",
    "Create two DataFrames with some common columns and merge them using different merge types.\n",
    "\n",
    "**Solution:**\n"
   ]
  },
  {
   "cell_type": "code",
   "execution_count": null,
   "metadata": {},
   "outputs": [],
   "source": []
  },
  {
   "cell_type": "markdown",
   "metadata": {},
   "source": [
    "#### Conclusion\n",
    "\n",
    "In this tutorial, you have learned how to:\n",
    "\n",
    "- Create and manipulate DataFrames using Pandas\n",
    "- Select, filter, add, and remove data\n",
    "- Handle missing data\n",
    "- Group and aggregate data\n",
    "- Merge and join DataFrames\n"
   ]
  },
  {
   "cell_type": "markdown",
   "metadata": {},
   "source": []
  }
 ],
 "metadata": {
  "kernelspec": {
   "display_name": "Python 3",
   "language": "python",
   "name": "python3"
  },
  "language_info": {
   "codemirror_mode": {
    "name": "ipython",
    "version": 3
   },
   "file_extension": ".py",
   "mimetype": "text/x-python",
   "name": "python",
   "nbconvert_exporter": "python",
   "pygments_lexer": "ipython3",
   "version": "3.11.5"
  }
 },
 "nbformat": 4,
 "nbformat_minor": 2
}
