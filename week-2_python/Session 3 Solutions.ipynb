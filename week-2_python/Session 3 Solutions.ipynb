{
 "cells": [
  {
   "cell_type": "markdown",
   "metadata": {},
   "source": [
    "# Session 3: Data Types and Data Conversions\n",
    "\n",
    "## Introduction\n",
    "Understanding data types and how to convert between them is crucial in Python programming. This tutorial will provide a comprehensive guide on different data types in Python and how to convert between these types. By the end of this tutorial, you'll be comfortable working with various data types and performing data conversions.\n",
    "\n",
    "### Objectives\n",
    "- Understand different data types in Python.\n",
    "- Learn how to convert between different data types.\n",
    "- Practice working with data types and conversions.\n",
    "\n",
    "### Prerequisites\n",
    "- Basic knowledge of Python variables and assignments.\n",
    "\n",
    "### Estimated Time: 1.5 hours\n",
    "\n",
    "---\n",
    "\n",
    "## Part 1: Introduction to Data Types (20 minutes)\n",
    "\n",
    "### What are Data Types?\n",
    "In Python, a data type is a classification that specifies the type of value a variable holds. The most common data types are:\n",
    "- Integers (int)\n",
    "- Floating-point numbers (float)\n",
    "- Strings (str)\n",
    "- Booleans (bool)\n",
    "\n",
    "### Integers\n",
    "Integers are whole numbers, positive or negative, without decimals.\n"
   ]
  },
  {
   "cell_type": "code",
   "execution_count": 1,
   "metadata": {},
   "outputs": [
    {
     "name": "stdout",
     "output_type": "stream",
     "text": [
      "25 <class 'int'>\n"
     ]
    }
   ],
   "source": [
    "# Example of integer\n",
    "age = 25\n",
    "print(age, type(age))\n"
   ]
  },
  {
   "cell_type": "markdown",
   "metadata": {},
   "source": [
    "### Floating-point Numbers\n",
    "Floating-point numbers are numbers with a decimal point.\n"
   ]
  },
  {
   "cell_type": "code",
   "execution_count": 2,
   "metadata": {},
   "outputs": [
    {
     "name": "stdout",
     "output_type": "stream",
     "text": [
      "5.75 <class 'float'>\n"
     ]
    }
   ],
   "source": [
    "# Example of float\n",
    "height = 5.75\n",
    "print(height, type(height))\n"
   ]
  },
  {
   "cell_type": "markdown",
   "metadata": {},
   "source": [
    "### Strings\n",
    "Strings are sequences of characters enclosed in quotes.\n"
   ]
  },
  {
   "cell_type": "code",
   "execution_count": 3,
   "metadata": {},
   "outputs": [
    {
     "name": "stdout",
     "output_type": "stream",
     "text": [
      "Alice <class 'str'>\n"
     ]
    }
   ],
   "source": [
    "# Example of string\n",
    "name = \"Alice\"\n",
    "print(name, type(name))\n"
   ]
  },
  {
   "cell_type": "markdown",
   "metadata": {},
   "source": [
    "### Booleans\n",
    "Booleans represent one of two values: True or False.\n"
   ]
  },
  {
   "cell_type": "code",
   "execution_count": 5,
   "metadata": {},
   "outputs": [
    {
     "name": "stdout",
     "output_type": "stream",
     "text": [
      "True <class 'bool'>\n"
     ]
    }
   ],
   "source": [
    "# Example of boolean\n",
    "is_student = True\n",
    "print(is_student, type(is_student))\n"
   ]
  },
  {
   "cell_type": "markdown",
   "metadata": {},
   "source": [
    "## Part 2: Data Conversions (40 minutes)\n",
    "\n",
    "### Why Convert Data Types?\n",
    "Sometimes, you may need to convert data from one type to another. This is common when you're working with user input, performing calculations, or preparing data for analysis.\n",
    "\n",
    "### Converting to Integer\n",
    "You can convert a value to an integer using the `int()` function.\n"
   ]
  },
  {
   "cell_type": "code",
   "execution_count": 6,
   "metadata": {},
   "outputs": [
    {
     "name": "stdout",
     "output_type": "stream",
     "text": [
      "3 <class 'int'>\n",
      "100 <class 'int'>\n"
     ]
    }
   ],
   "source": [
    "# Converting float to int\n",
    "pi = 3.14\n",
    "pi_int = int(pi)\n",
    "print(pi_int, type(pi_int))\n",
    "\n",
    "# Converting string to int\n",
    "num_str = \"100\"\n",
    "num_int = int(num_str)\n",
    "print(num_int, type(num_int))\n"
   ]
  },
  {
   "cell_type": "markdown",
   "metadata": {},
   "source": [
    "### Converting to Float\n",
    "You can convert a value to a float using the `float()` function.\n"
   ]
  },
  {
   "cell_type": "code",
   "execution_count": 7,
   "metadata": {},
   "outputs": [
    {
     "name": "stdout",
     "output_type": "stream",
     "text": [
      "10.0 <class 'float'>\n",
      "10.5 <class 'float'>\n"
     ]
    }
   ],
   "source": [
    "# Converting int to float\n",
    "num = 10\n",
    "num_float = float(num)\n",
    "print(num_float, type(num_float))\n",
    "\n",
    "# Converting string to float\n",
    "num_str = \"10.5\"\n",
    "num_float = float(num_str)\n",
    "print(num_float, type(num_float))\n"
   ]
  },
  {
   "cell_type": "markdown",
   "metadata": {},
   "source": [
    "### Converting to String\n",
    "You can convert a value to a string using the `str()` function.\n"
   ]
  },
  {
   "cell_type": "code",
   "execution_count": 8,
   "metadata": {},
   "outputs": [
    {
     "name": "stdout",
     "output_type": "stream",
     "text": [
      "100 <class 'str'>\n",
      "3.14 <class 'str'>\n"
     ]
    }
   ],
   "source": [
    "# Converting int to string\n",
    "num = 100\n",
    "num_str = str(num)\n",
    "print(num_str, type(num_str))\n",
    "\n",
    "# Converting float to string\n",
    "pi = 3.14\n",
    "pi_str = str(pi)\n",
    "print(pi_str, type(pi_str))\n"
   ]
  },
  {
   "cell_type": "markdown",
   "metadata": {},
   "source": [
    "### Converting to Boolean\n",
    "You can convert a value to a boolean using the `bool()` function. Note that in Python, empty strings, 0, and `None` are considered `False`, while all other values are considered `True`.\n"
   ]
  },
  {
   "cell_type": "code",
   "execution_count": 9,
   "metadata": {},
   "outputs": [
    {
     "name": "stdout",
     "output_type": "stream",
     "text": [
      "False <class 'bool'>\n",
      "False <class 'bool'>\n"
     ]
    }
   ],
   "source": [
    "# Converting int to boolean\n",
    "num = 0\n",
    "num_bool = bool(num)\n",
    "print(num_bool, type(num_bool))\n",
    "\n",
    "# Converting string to boolean\n",
    "str_val = \"\"\n",
    "str_bool = bool(str_val)\n",
    "print(str_bool, type(str_bool))\n"
   ]
  },
  {
   "cell_type": "markdown",
   "metadata": {},
   "source": [
    "## Part 3: Practice Problems and Solutions (30 minutes)\n",
    "\n",
    "### Practice Problem 1: Data Type Identification\n",
    "Identify the data type of the following variables:\n",
    "- a = 10\n",
    "- b = 3.14\n",
    "- c = \"Hello\"\n",
    "- d = True\n",
    "\n",
    "#### Solution:\n"
   ]
  },
  {
   "cell_type": "code",
   "execution_count": 10,
   "metadata": {},
   "outputs": [
    {
     "name": "stdout",
     "output_type": "stream",
     "text": [
      "<class 'int'>\n",
      "<class 'float'>\n",
      "<class 'str'>\n",
      "<class 'bool'>\n"
     ]
    }
   ],
   "source": [
    "a = 10\n",
    "b = 3.14\n",
    "c = \"Hello\"\n",
    "d = True\n",
    "\n",
    "print(type(a))  # int\n",
    "print(type(b))  # float\n",
    "print(type(c))  # str\n",
    "print(type(d))  # bool\n"
   ]
  },
  {
   "cell_type": "markdown",
   "metadata": {},
   "source": [
    "### Practice Problem 2: Data Type Conversion\n",
    "Convert the following values to the specified data types:\n",
    "- Convert the string \"25\" to an integer.\n",
    "- Convert the integer 10 to a float.\n",
    "- Convert the float 9.99 to a string.\n",
    "- Convert the string \"False\" to a boolean.\n",
    "\n",
    "#### Solution:\n"
   ]
  },
  {
   "cell_type": "code",
   "execution_count": 11,
   "metadata": {},
   "outputs": [
    {
     "name": "stdout",
     "output_type": "stream",
     "text": [
      "25 <class 'int'>\n",
      "10.0 <class 'float'>\n",
      "9.99 <class 'str'>\n",
      "True <class 'bool'>\n"
     ]
    }
   ],
   "source": [
    "# Converting string to int\n",
    "str_val = \"25\"\n",
    "int_val = int(str_val)\n",
    "print(int_val, type(int_val))\n",
    "\n",
    "# Converting int to float\n",
    "int_val = 10\n",
    "float_val = float(int_val)\n",
    "print(float_val, type(float_val))\n",
    "\n",
    "# Converting float to string\n",
    "float_val = 9.99\n",
    "str_val = str(float_val)\n",
    "print(str_val, type(str_val))\n",
    "\n",
    "# Converting string to boolean\n",
    "str_val = \"False\"\n",
    "bool_val = bool(str_val)\n",
    "print(bool_val, type(bool_val))\n"
   ]
  },
  {
   "cell_type": "markdown",
   "metadata": {},
   "source": [
    "### Practice Problem 3: Combining Data Types\n",
    "Create variables for your name (string), age (integer), and height (float). Combine these variables into a single string that introduces yourself.\n",
    "\n",
    "#### Solution:\n"
   ]
  },
  {
   "cell_type": "code",
   "execution_count": 12,
   "metadata": {},
   "outputs": [
    {
     "name": "stdout",
     "output_type": "stream",
     "text": [
      "My name is Alice, I am 25 years old and 5.5 feet tall.\n"
     ]
    }
   ],
   "source": [
    "# Variables\n",
    "name = \"Alice\"\n",
    "age = 25\n",
    "height = 5.5\n",
    "\n",
    "# Combining into a single string\n",
    "introduction = \"My name is \" + name + \", I am \" + str(age) + \" years old and \" + str(height) + \" feet tall.\"\n",
    "print(introduction)\n"
   ]
  },
  {
   "cell_type": "markdown",
   "metadata": {},
   "source": [
    "### Practice Problem 4: User Input and Type Conversion\n",
    "Write a program that asks the user for their age and height. Convert these inputs to the appropriate data types and print them.\n",
    "\n",
    "#### Solution:\n"
   ]
  },
  {
   "cell_type": "code",
   "execution_count": 15,
   "metadata": {},
   "outputs": [
    {
     "name": "stdout",
     "output_type": "stream",
     "text": [
      "Your age is: 23 and your height is: 63.0\n"
     ]
    }
   ],
   "source": [
    "# User input\n",
    "age_str = input(\"Enter your age: \")\n",
    "height_str = input(\"Enter your height: \")\n",
    "\n",
    "# Converting to appropriate data types\n",
    "age = int(age_str)\n",
    "height = float(height_str)\n",
    "\n",
    "# Printing the values\n",
    "print(\"Your age is:\", age, \"and your height is:\", height)\n"
   ]
  },
  {
   "cell_type": "markdown",
   "metadata": {},
   "source": [
    "## Conclusion\n",
    "In this tutorial, you have learned about:\n",
    "- Different data types in Python: integers, floats, strings, and booleans.\n",
    "- How to convert between these data types using `int()`, `float()`, `str()`, and `bool()` functions.\n"
   ]
  },
  {
   "cell_type": "markdown",
   "metadata": {},
   "source": []
  }
 ],
 "metadata": {
  "kernelspec": {
   "display_name": "Python 3",
   "language": "python",
   "name": "python3"
  },
  "language_info": {
   "name": "python",
   "version": "3.11.5"
  }
 },
 "nbformat": 4,
 "nbformat_minor": 2
}
