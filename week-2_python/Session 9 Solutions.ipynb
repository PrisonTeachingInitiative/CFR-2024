{
 "cells": [
  {
   "cell_type": "markdown",
   "metadata": {},
   "source": [
    "# Session 9: Lists\n",
    "\n",
    "## Introduction\n",
    "\n",
    "In this tutorial, you will learn about lists in Python, an essential data structure that allows you to store and manipulate collections of items. Lists are more flexible than arrays, as they can store elements of different data types and can grow or shrink dynamically. This tutorial will cover the basics of lists, their operations, and how to use them effectively with loops, conditionals, and functions.\n",
    "\n",
    "### Objectives\n",
    "\n",
    "- Understand the basics of lists and how they differ from arrays\n",
    "- Learn how to create and manipulate lists\n",
    "- Use loops and conditionals to process lists\n",
    "- Implement functions that operate on lists\n",
    "- Solve practice problems to reinforce your understanding\n",
    "\n",
    "### Prerequisites\n",
    "\n",
    "Knowledge of Python variables, functions, conditionals, arrays, loops, and NumPy\n",
    "\n",
    "**Estimated Time:** 1.5 hours\n",
    "\n",
    "## 1. Basics of Lists (20 minutes)\n",
    "\n",
    "### 1.1 What are Lists? (5 minutes)\n",
    "\n",
    "Lists are ordered collections of items. They are mutable, meaning their elements can be changed after the list is created. Lists can contain elements of different data types, including other lists.\n",
    "\n",
    "**Example:**\n"
   ]
  },
  {
   "cell_type": "code",
   "execution_count": 2,
   "metadata": {},
   "outputs": [
    {
     "name": "stdout",
     "output_type": "stream",
     "text": [
      "['apple', 'banana', 'cherry']\n"
     ]
    }
   ],
   "source": [
    "# Creating a list\n",
    "fruits = [\"apple\", \"banana\", \"cherry\"]\n",
    "\n",
    "# Printing the list\n",
    "print(fruits)  # Output: ['apple', 'banana', 'cherry']\n"
   ]
  },
  {
   "cell_type": "markdown",
   "metadata": {},
   "source": [
    "### 1.2 Creating Lists (5 minutes)\n",
    "\n",
    "You can create lists using square brackets `[]` and separate elements with commas.\n",
    "\n",
    "**Examples:**"
   ]
  },
  {
   "cell_type": "code",
   "execution_count": 3,
   "metadata": {},
   "outputs": [
    {
     "name": "stdout",
     "output_type": "stream",
     "text": [
      "[1, 2, 3, 4, 5]\n",
      "[1, 'apple', 3.5, True]\n",
      "[[1, 2], [3, 4], [5, 6]]\n"
     ]
    }
   ],
   "source": [
    "# List of integers\n",
    "numbers = [1, 2, 3, 4, 5]\n",
    "\n",
    "# List of mixed data types\n",
    "mixed = [1, \"apple\", 3.5, True]\n",
    "\n",
    "# Nested lists\n",
    "nested = [[1, 2], [3, 4], [5, 6]]\n",
    "\n",
    "print(numbers)  # Output: [1, 2, 3, 4, 5]\n",
    "print(mixed)    # Output: [1, 'apple', 3.5, True]\n",
    "print(nested)   # Output: [[1, 2], [3, 4], [5, 6]]\n"
   ]
  },
  {
   "cell_type": "markdown",
   "metadata": {},
   "source": [
    "### 1.3 Accessing List Elements (5 minutes)\n",
    "\n",
    "You can access elements in a list using indexing. Lists are zero-indexed, meaning the first element has an index of 0.\n",
    "\n",
    "**Example:**"
   ]
  },
  {
   "cell_type": "code",
   "execution_count": 4,
   "metadata": {},
   "outputs": [
    {
     "name": "stdout",
     "output_type": "stream",
     "text": [
      "apple\n",
      "banana\n",
      "cherry\n"
     ]
    }
   ],
   "source": [
    "# Accessing elements\n",
    "print(fruits[0])  # Output: 'apple'\n",
    "print(fruits[1])  # Output: 'banana'\n",
    "print(fruits[2])  # Output: 'cherry'\n"
   ]
  },
  {
   "cell_type": "markdown",
   "metadata": {},
   "source": [
    "### Practice Problem 1: List Creation and Access (5 minutes)\n",
    "\n",
    "Create a list of your favorite movies and print the first and last movie in the list.\n",
    "\n",
    "**Solution:**"
   ]
  },
  {
   "cell_type": "code",
   "execution_count": 5,
   "metadata": {},
   "outputs": [
    {
     "name": "stdout",
     "output_type": "stream",
     "text": [
      "First movie: Inception\n",
      "Last movie: Pulp Fiction\n"
     ]
    }
   ],
   "source": [
    "# List of favorite movies\n",
    "movies = [\"Inception\", \"The Matrix\", \"Interstellar\", \"The Dark Knight\", \"Pulp Fiction\"]\n",
    "\n",
    "# Accessing the first and last movie\n",
    "print(\"First movie:\", movies[0])\n",
    "print(\"Last movie:\", movies[-1])\n"
   ]
  },
  {
   "cell_type": "markdown",
   "metadata": {},
   "source": [
    "## 2. Manipulating Lists (30 minutes)\n",
    "\n",
    "### 2.1 Adding Elements to Lists (10 minutes)\n",
    "\n",
    "You can add elements to a list using the `append()`, `insert()`, and `extend()` methods.\n",
    "\n",
    "**Examples:**"
   ]
  },
  {
   "cell_type": "code",
   "execution_count": 7,
   "metadata": {},
   "outputs": [
    {
     "name": "stdout",
     "output_type": "stream",
     "text": [
      "['apple', 'mango', 'banana', 'cherry', 'orange', 'grape', 'pineapple', 'orange']\n",
      "['apple', 'mango', 'mango', 'banana', 'cherry', 'orange', 'grape', 'pineapple', 'orange']\n",
      "['apple', 'mango', 'mango', 'banana', 'cherry', 'orange', 'grape', 'pineapple', 'orange', 'grape', 'pineapple']\n"
     ]
    }
   ],
   "source": [
    "# Append an element to the end of the list\n",
    "fruits.append(\"orange\")\n",
    "print(fruits)  # Output: ['apple', 'banana', 'cherry', 'orange']\n",
    "\n",
    "# Insert an element at a specific position\n",
    "fruits.insert(1, \"mango\")\n",
    "print(fruits)  # Output: ['apple', 'mango', 'banana', 'cherry', 'orange']\n",
    "\n",
    "# Extend the list with another list\n",
    "fruits.extend([\"grape\", \"pineapple\"])\n",
    "print(fruits)  # Output: ['apple', 'mango', 'banana', 'cherry', 'orange', 'grape', 'pineapple']\n"
   ]
  },
  {
   "cell_type": "markdown",
   "metadata": {},
   "source": [
    "### Practice Problem 2: Adding Elements (5 minutes)\n",
    "\n",
    "Create a list of your top 3 favorite books. Add another book to the end of the list, insert one at the second position, and extend the list with two more books.\n",
    "\n",
    "**Solution:**"
   ]
  },
  {
   "cell_type": "code",
   "execution_count": 8,
   "metadata": {},
   "outputs": [
    {
     "name": "stdout",
     "output_type": "stream",
     "text": [
      "['1984', 'Pride and Prejudice', 'To Kill a Mockingbird', 'The Great Gatsby', 'Moby Dick', 'War and Peace', 'The Catcher in the Rye']\n"
     ]
    }
   ],
   "source": [
    "# List of favorite books\n",
    "books = [\"1984\", \"To Kill a Mockingbird\", \"The Great Gatsby\"]\n",
    "\n",
    "# Adding elements\n",
    "books.append(\"Moby Dick\")\n",
    "books.insert(1, \"Pride and Prejudice\")\n",
    "books.extend([\"War and Peace\", \"The Catcher in the Rye\"])\n",
    "\n",
    "print(books)  # Output: ['1984', 'Pride and Prejudice', 'To Kill a Mockingbird', 'The Great Gatsby', 'Moby Dick', 'War and Peace', 'The Catcher in the Rye']\n"
   ]
  },
  {
   "cell_type": "markdown",
   "metadata": {},
   "source": [
    "### 2.2 Removing Elements from Lists (10 minutes)\n",
    "\n",
    "You can remove elements from a list using the `remove()`, `pop()`, and `del` methods.\n",
    "\n",
    "**Examples:**"
   ]
  },
  {
   "cell_type": "code",
   "execution_count": 9,
   "metadata": {},
   "outputs": [
    {
     "name": "stdout",
     "output_type": "stream",
     "text": [
      "['apple', 'mango', 'cherry', 'orange', 'grape', 'pineapple']\n",
      "['apple', 'mango', 'orange', 'grape', 'pineapple']\n",
      "['apple', 'orange', 'grape', 'pineapple']\n"
     ]
    }
   ],
   "source": [
    "# Remove an element by value\n",
    "fruits.remove(\"banana\")\n",
    "print(fruits)  # Output: ['apple', 'mango', 'cherry', 'orange', 'grape', 'pineapple']\n",
    "\n",
    "# Remove an element by index\n",
    "fruits.pop(2)\n",
    "print(fruits)  # Output: ['apple', 'mango', 'orange', 'grape', 'pineapple']\n",
    "\n",
    "# Remove an element by index using del\n",
    "del fruits[1]\n",
    "print(fruits)  # Output: ['apple', 'orange', 'grape', 'pineapple']\n"
   ]
  },
  {
   "cell_type": "markdown",
   "metadata": {},
   "source": [
    "### Practice Problem 3: Removing Elements (5 minutes)\n",
    "\n",
    "Create a list of 5 colors. Remove the third color by value, then remove the first color by index, and finally remove the last color using pop().\n",
    "\n",
    "**Solution:**"
   ]
  },
  {
   "cell_type": "code",
   "execution_count": 10,
   "metadata": {},
   "outputs": [
    {
     "name": "stdout",
     "output_type": "stream",
     "text": [
      "['blue', 'yellow']\n"
     ]
    }
   ],
   "source": [
    "# List of colors\n",
    "colors = [\"red\", \"blue\", \"green\", \"yellow\", \"purple\"]\n",
    "\n",
    "# Removing elements\n",
    "colors.remove(\"green\")\n",
    "del colors[0]\n",
    "colors.pop()\n",
    "\n",
    "print(colors)  # Output: ['blue', 'yellow']\n"
   ]
  },
  {
   "cell_type": "markdown",
   "metadata": {},
   "source": [
    "### 2.3 Modifying Elements in Lists (5 minutes)\n",
    "\n",
    "You can change the value of an element in a list by accessing it via its index.\n",
    "\n",
    "**Example:**"
   ]
  },
  {
   "cell_type": "code",
   "execution_count": 11,
   "metadata": {},
   "outputs": [
    {
     "name": "stdout",
     "output_type": "stream",
     "text": [
      "['kiwi', 'orange', 'grape', 'pineapple']\n"
     ]
    }
   ],
   "source": [
    "# Modifying elements\n",
    "fruits[0] = \"kiwi\"\n",
    "print(fruits)  # Output: ['kiwi', 'orange', 'grape', 'pineapple']\n"
   ]
  },
  {
   "cell_type": "markdown",
   "metadata": {},
   "source": [
    "### Practice Problem 4: Modifying Elements (5 minutes)\n",
    "\n",
    "Create a list of 4 cities. Change the second city to a new city and the last city to another new city.\n",
    "\n",
    "**Solution:**"
   ]
  },
  {
   "cell_type": "code",
   "execution_count": 12,
   "metadata": {},
   "outputs": [
    {
     "name": "stdout",
     "output_type": "stream",
     "text": [
      "['New York', 'Berlin', 'Paris', 'Sydney']\n"
     ]
    }
   ],
   "source": [
    "# List of cities\n",
    "cities = [\"New York\", \"London\", \"Paris\", \"Tokyo\"]\n",
    "\n",
    "# Modifying elements\n",
    "cities[1] = \"Berlin\"\n",
    "cities[-1] = \"Sydney\"\n",
    "\n",
    "print(cities)  # Output: ['New York', 'Berlin', 'Paris', 'Sydney']\n"
   ]
  },
  {
   "cell_type": "markdown",
   "metadata": {},
   "source": [
    "## 3. Using Loops with Lists (30 minutes)\n",
    "\n",
    "### 3.1 Iterating Over Lists with for Loops (10 minutes)\n",
    "\n",
    "You can use a for loop to iterate over each element in a list.\n",
    "\n",
    "**Example:**"
   ]
  },
  {
   "cell_type": "code",
   "execution_count": 13,
   "metadata": {},
   "outputs": [
    {
     "name": "stdout",
     "output_type": "stream",
     "text": [
      "kiwi\n",
      "orange\n",
      "grape\n",
      "pineapple\n"
     ]
    }
   ],
   "source": [
    "# Iterating over a list\n",
    "for fruit in fruits:\n",
    "    print(fruit)\n"
   ]
  },
  {
   "cell_type": "markdown",
   "metadata": {},
   "source": [
    "### Practice Problem 5: Iterating Over Lists (5 minutes)\n",
    "\n",
    "Create a list of 5 animals and use a for loop to print each animal in the list.\n",
    "\n",
    "**Solution:**"
   ]
  },
  {
   "cell_type": "code",
   "execution_count": 14,
   "metadata": {},
   "outputs": [
    {
     "name": "stdout",
     "output_type": "stream",
     "text": [
      "dog\n",
      "cat\n",
      "elephant\n",
      "giraffe\n",
      "lion\n"
     ]
    }
   ],
   "source": [
    "# List of animals\n",
    "animals = [\"dog\", \"cat\", \"elephant\", \"giraffe\", \"lion\"]\n",
    "\n",
    "# Iterating over the list\n",
    "for animal in animals:\n",
    "    print(animal)\n"
   ]
  },
  {
   "cell_type": "markdown",
   "metadata": {},
   "source": [
    "### 3.2 Iterating Over Lists with while Loops (10 minutes)\n",
    "\n",
    "You can also use a while loop to iterate over a list, using an index to keep track of your position.\n",
    "\n",
    "**Example:**"
   ]
  },
  {
   "cell_type": "code",
   "execution_count": 15,
   "metadata": {},
   "outputs": [
    {
     "name": "stdout",
     "output_type": "stream",
     "text": [
      "kiwi\n",
      "orange\n",
      "grape\n",
      "pineapple\n"
     ]
    }
   ],
   "source": [
    "# Iterating over a list with a while loop\n",
    "index = 0\n",
    "while index < len(fruits):\n",
    "    print(fruits[index])\n",
    "    index += 1\n"
   ]
  },
  {
   "cell_type": "markdown",
   "metadata": {},
   "source": [
    "### Practice Problem 6: Iterating with while Loops (5 minutes)\n",
    "\n",
    "Create a list of 4 car brands and use a while loop to print each brand in the list.\n",
    "\n",
    "**Solution:**"
   ]
  },
  {
   "cell_type": "code",
   "execution_count": 16,
   "metadata": {},
   "outputs": [
    {
     "name": "stdout",
     "output_type": "stream",
     "text": [
      "Toyota\n",
      "Ford\n",
      "BMW\n",
      "Tesla\n"
     ]
    }
   ],
   "source": [
    "# List of car brands\n",
    "cars = [\"Toyota\", \"Ford\", \"BMW\", \"Tesla\"]\n",
    "\n",
    "# Iterating over the list with a while loop\n",
    "index = 0\n",
    "while index < len(cars):\n",
    "    print(cars[index])\n",
    "    index += 1\n"
   ]
  },
  {
   "cell_type": "markdown",
   "metadata": {},
   "source": [
    "## 4. Lists and Functions (20 minutes)\n",
    "\n",
    "### 4.1 Passing Lists to Functions (10 minutes)\n",
    "\n",
    "You can pass lists as arguments to functions and perform operations on them.\n",
    "\n",
    "**Example:**"
   ]
  },
  {
   "cell_type": "code",
   "execution_count": 17,
   "metadata": {},
   "outputs": [
    {
     "name": "stdout",
     "output_type": "stream",
     "text": [
      "kiwi\n",
      "orange\n",
      "grape\n",
      "pineapple\n"
     ]
    }
   ],
   "source": [
    "# Function to print all elements in a list\n",
    "def print_list(elements):\n",
    "    for element in elements:\n",
    "        print(element)\n",
    "\n",
    "# Test the function\n",
    "print_list(fruits)\n"
   ]
  },
  {
   "cell_type": "markdown",
   "metadata": {},
   "source": [
    "### Practice Problem 7: Functions with Lists (10 minutes)\n",
    "\n",
    "Write a function `sum_list` that takes a list of numbers as an argument and returns the sum of the numbers.\n",
    "\n",
    "**Solution:**"
   ]
  },
  {
   "cell_type": "code",
   "execution_count": 18,
   "metadata": {},
   "outputs": [
    {
     "name": "stdout",
     "output_type": "stream",
     "text": [
      "Sum of numbers: 15\n"
     ]
    }
   ],
   "source": [
    "def sum_list(numbers):\n",
    "    total = 0\n",
    "    for number in numbers:\n",
    "        total += number\n",
    "    return total\n",
    "\n",
    "# Test the function\n",
    "numbers = [1, 2, 3, 4, 5]\n",
    "print(\"Sum of numbers:\", sum_list(numbers))  # Output: 15\n"
   ]
  },
  {
   "cell_type": "markdown",
   "metadata": {},
   "source": [
    "## Summary\n",
    "\n",
    "In this tutorial, you learned:\n",
    "- The basics of lists and how they differ from arrays\n",
    "- How to create, access, modify, and remove elements in lists\n",
    "- How to iterate over lists using for and while loops\n",
    "- How to use lists with functions\n",
    "\n",
    "By working through these examples and practice problems, you have gained a solid understanding of how to work with lists in Python.\n",
    "\n",
    "### Additional Practice Problems\n",
    "\n",
    "#### Filtering Even Numbers\n",
    "Write a function `filter_even_numbers` that takes a list of integers and returns a new list containing only the even numbers.\n",
    "\n",
    "**Solution:**"
   ]
  },
  {
   "cell_type": "code",
   "execution_count": 19,
   "metadata": {},
   "outputs": [],
   "source": [
    "def filter_even_numbers(numbers):\n",
    "    even_numbers = []\n",
    "    for num in numbers:\n",
    "        if num % 2 == 0:\n",
    "            even_numbers.append(num)\n",
    "    return even_numbers"
   ]
  },
  {
   "cell_type": "markdown",
   "metadata": {},
   "source": [
    "### Reversing a List\n",
    "\n",
    "Write a function `reverse_list` that takes a list and returns a new list with the elements in reverse order.\n",
    "\n",
    "**Solution:**"
   ]
  },
  {
   "cell_type": "code",
   "execution_count": 20,
   "metadata": {},
   "outputs": [],
   "source": [
    "def reverse_list(input_list):\n",
    "    return input_list[::-1]"
   ]
  },
  {
   "cell_type": "markdown",
   "metadata": {},
   "source": [
    "### Finding the Maximum Value\n",
    "\n",
    "Write a function `find_max_value` that takes a list of numbers and returns the maximum value in the list.\n",
    "\n",
    "**Solution:**"
   ]
  },
  {
   "cell_type": "code",
   "execution_count": 21,
   "metadata": {},
   "outputs": [],
   "source": [
    "def find_max_value(numbers):\n",
    "    if not numbers:\n",
    "        return None\n",
    "    max_value = numbers[0]\n",
    "    for num in numbers[1:]:\n",
    "        if num > max_value:\n",
    "            max_value = num\n",
    "    return max_value"
   ]
  },
  {
   "cell_type": "markdown",
   "metadata": {},
   "source": []
  }
 ],
 "metadata": {
  "kernelspec": {
   "display_name": "Python 3 (ipykernel)",
   "language": "python",
   "name": "python3"
  },
  "language_info": {
   "codemirror_mode": {
    "name": "ipython",
    "version": 3
   },
   "file_extension": ".py",
   "mimetype": "text/x-python",
   "name": "python",
   "nbconvert_exporter": "python",
   "pygments_lexer": "ipython3",
   "version": "3.9.13"
  }
 },
 "nbformat": 4,
 "nbformat_minor": 2
}
