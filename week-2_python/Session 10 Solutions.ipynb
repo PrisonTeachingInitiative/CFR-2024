{
 "cells": [
  {
   "cell_type": "markdown",
   "metadata": {},
   "source": [
    "# Session 10: Dictionaries\n",
    "\n",
    "## Introduction\n",
    "\n",
    "In this tutorial, you will learn about dictionaries in Python, a powerful data structure that allows you to store and manipulate key-value pairs. Dictionaries are used when you need to associate values with unique keys and quickly retrieve them. This tutorial will cover the basics of dictionaries, their operations, and how to use them effectively with loops, conditionals, and functions.\n",
    "\n",
    "### Objectives\n",
    "\n",
    "- Understand the basics of dictionaries and how they differ from lists\n",
    "- Learn how to create and manipulate dictionaries\n",
    "- Use loops and conditionals to process dictionaries\n",
    "- Implement functions that operate on dictionaries\n",
    "- Solve practice problems to reinforce your understanding\n",
    "\n",
    "### Prerequisites\n",
    "\n",
    "Knowledge of Python variables, functions, conditionals, arrays, loops, and lists\n",
    "\n",
    "**Estimated Time:** 1.5 hours\n",
    "\n",
    "## 1. Basics of Dictionaries (20 minutes)\n",
    "\n",
    "### 1.1 What are Dictionaries? (5 minutes)\n",
    "\n",
    "Dictionaries are unordered collections of key-value pairs. Each key in a dictionary must be unique and immutable (such as strings, numbers, or tuples), while values can be of any data type and can be duplicated.\n",
    "\n",
    "**Example:**"
   ]
  },
  {
   "cell_type": "code",
   "execution_count": 3,
   "metadata": {},
   "outputs": [
    {
     "name": "stdout",
     "output_type": "stream",
     "text": [
      "{'name': 'John', 'age': 30, 'city': 'New York'}\n"
     ]
    }
   ],
   "source": [
    "# Creating a dictionary\n",
    "person = {\n",
    "    \"name\": \"John\",\n",
    "    \"age\": 30,\n",
    "    \"city\": \"New York\"\n",
    "}\n",
    "\n",
    "# Printing the dictionary\n",
    "print(person)  # Output: {'name': 'John', 'age': 30, 'city': 'New York'}\n"
   ]
  },
  {
   "cell_type": "markdown",
   "metadata": {},
   "source": [
    "### 1.2 Creating Dictionaries (5 minutes)\n",
    "\n",
    "You can create dictionaries using curly braces `{}` with key-value pairs separated by colons `:` and pairs separated by commas `,`.\n",
    "\n",
    "**Examples:**"
   ]
  },
  {
   "cell_type": "code",
   "execution_count": 4,
   "metadata": {},
   "outputs": [
    {
     "name": "stdout",
     "output_type": "stream",
     "text": [
      "{'name': 'Alice', 'grade': 'A', 'age': 20}\n",
      "{'id': 101, 'name': 'Laptop', 2021: 'New Model'}\n"
     ]
    }
   ],
   "source": [
    "# Dictionary with string keys\n",
    "student = {\n",
    "    \"name\": \"Alice\",\n",
    "    \"grade\": \"A\",\n",
    "    \"age\": 20\n",
    "}\n",
    "\n",
    "# Dictionary with mixed keys\n",
    "product = {\n",
    "    \"id\": 101,\n",
    "    \"name\": \"Laptop\",\n",
    "    2021: \"New Model\"\n",
    "}\n",
    "\n",
    "print(student)  # Output: {'name': 'Alice', 'grade': 'A', 'age': 20}\n",
    "print(product)  # Output: {'id': 101, 'name': 'Laptop', 2021: 'New Model'}\n"
   ]
  },
  {
   "cell_type": "markdown",
   "metadata": {},
   "source": [
    "### 1.3 Accessing Dictionary Elements (5 minutes)\n",
    "\n",
    "You can access values in a dictionary by using their keys inside square brackets `[]`.\n",
    "\n",
    "**Example:**"
   ]
  },
  {
   "cell_type": "code",
   "execution_count": 5,
   "metadata": {},
   "outputs": [
    {
     "name": "stdout",
     "output_type": "stream",
     "text": [
      "John\n",
      "30\n"
     ]
    }
   ],
   "source": [
    "# Accessing elements\n",
    "print(person[\"name\"])  # Output: 'John'\n",
    "print(person[\"age\"])   # Output: 30\n"
   ]
  },
  {
   "cell_type": "markdown",
   "metadata": {},
   "source": [
    "### Practice Problem 1: Dictionary Creation and Access (5 minutes)\n",
    "\n",
    "Create a dictionary representing a book with keys title, author, and year. Access and print each value.\n",
    "\n",
    "**Solution:**"
   ]
  },
  {
   "cell_type": "code",
   "execution_count": 6,
   "metadata": {},
   "outputs": [
    {
     "name": "stdout",
     "output_type": "stream",
     "text": [
      "Title: 1984\n",
      "Author: George Orwell\n",
      "Year: 1949\n"
     ]
    }
   ],
   "source": [
    "# Dictionary representing a book\n",
    "book = {\n",
    "    \"title\": \"1984\",\n",
    "    \"author\": \"George Orwell\",\n",
    "    \"year\": 1949\n",
    "}\n",
    "\n",
    "# Accessing values\n",
    "print(\"Title:\", book[\"title\"])\n",
    "print(\"Author:\", book[\"author\"])\n",
    "print(\"Year:\", book[\"year\"])\n"
   ]
  },
  {
   "cell_type": "markdown",
   "metadata": {},
   "source": [
    "## 2. Manipulating Dictionaries (30 minutes)\n",
    "\n",
    "### 2.1 Adding and Modifying Elements (10 minutes)\n",
    "\n",
    "You can add new key-value pairs to a dictionary or modify existing ones by using the assignment operator `=`.\n",
    "\n",
    "**Examples:**"
   ]
  },
  {
   "cell_type": "code",
   "execution_count": 7,
   "metadata": {},
   "outputs": [
    {
     "name": "stdout",
     "output_type": "stream",
     "text": [
      "{'name': 'John', 'age': 30, 'city': 'New York', 'email': 'john@example.com'}\n",
      "{'name': 'John', 'age': 31, 'city': 'New York', 'email': 'john@example.com'}\n"
     ]
    }
   ],
   "source": [
    "# Adding a new key-value pair\n",
    "person[\"email\"] = \"john@example.com\"\n",
    "print(person)  # Output: {'name': 'John', 'age': 30, 'city': 'New York', 'email': 'john@example.com'}\n",
    "\n",
    "# Modifying an existing value\n",
    "person[\"age\"] = 31\n",
    "print(person)  # Output: {'name': 'John', 'age': 31, 'city': 'New York', 'email': 'john@example.com'}\n"
   ]
  },
  {
   "cell_type": "markdown",
   "metadata": {},
   "source": [
    "### Practice Problem 2: Adding and Modifying Elements (5 minutes)\n",
    "\n",
    "Create a dictionary representing a car with keys make, model, and year. Add a new key color and modify the value of year.\n",
    "\n",
    "**Solution:**"
   ]
  },
  {
   "cell_type": "code",
   "execution_count": 8,
   "metadata": {},
   "outputs": [
    {
     "name": "stdout",
     "output_type": "stream",
     "text": [
      "{'make': 'Toyota', 'model': 'Corolla', 'year': 2018, 'color': 'Blue'}\n"
     ]
    }
   ],
   "source": [
    "# Dictionary representing a car\n",
    "car = {\n",
    "    \"make\": \"Toyota\",\n",
    "    \"model\": \"Corolla\",\n",
    "    \"year\": 2015\n",
    "}\n",
    "\n",
    "# Adding a new key-value pair\n",
    "car[\"color\"] = \"Blue\"\n",
    "\n",
    "# Modifying an existing value\n",
    "car[\"year\"] = 2018\n",
    "\n",
    "print(car)  # Output: {'make': 'Toyota', 'model': 'Corolla', 'year': 2018, 'color': 'Blue'}\n"
   ]
  },
  {
   "cell_type": "markdown",
   "metadata": {},
   "source": [
    "### 2.2 Removing Elements from Dictionaries (10 minutes)\n",
    "\n",
    "You can remove key-value pairs from a dictionary using the `del` keyword or the `pop()` method.\n",
    "\n",
    "**Examples:**"
   ]
  },
  {
   "cell_type": "code",
   "execution_count": 9,
   "metadata": {},
   "outputs": [
    {
     "name": "stdout",
     "output_type": "stream",
     "text": [
      "{'name': 'John', 'age': 31, 'city': 'New York'}\n",
      "{'name': 'John', 'city': 'New York'}\n",
      "Removed age: 31\n"
     ]
    }
   ],
   "source": [
    "# Using del to remove a key-value pair\n",
    "del person[\"email\"]\n",
    "print(person)  # Output: {'name': 'John', 'age': 31, 'city': 'New York'}\n",
    "\n",
    "# Using pop() to remove a key-value pair and get its value\n",
    "age = person.pop(\"age\")\n",
    "print(person)  # Output: {'name': 'John', 'city': 'New York'}\n",
    "print(\"Removed age:\", age)  # Output: Removed age: 31\n"
   ]
  },
  {
   "cell_type": "markdown",
   "metadata": {},
   "source": [
    "### Practice Problem 3: Removing Elements (5 minutes)\n",
    "\n",
    "Create a dictionary representing a laptop with keys brand, model, year, and price. Remove the price key using pop() and print the removed value and the modified dictionary.\n",
    "\n",
    "**Solution:**"
   ]
  },
  {
   "cell_type": "code",
   "execution_count": 10,
   "metadata": {},
   "outputs": [
    {
     "name": "stdout",
     "output_type": "stream",
     "text": [
      "Removed price: 999\n",
      "{'brand': 'Dell', 'model': 'XPS 13', 'year': 2020}\n"
     ]
    }
   ],
   "source": [
    "# Dictionary representing a laptop\n",
    "laptop = {\n",
    "    \"brand\": \"Dell\",\n",
    "    \"model\": \"XPS 13\",\n",
    "    \"year\": 2020,\n",
    "    \"price\": 999\n",
    "}\n",
    "\n",
    "# Removing a key-value pair using pop()\n",
    "removed_price = laptop.pop(\"price\")\n",
    "\n",
    "print(\"Removed price:\", removed_price)  # Output: Removed price: 999\n",
    "print(laptop)  # Output: {'brand': 'Dell', 'model': 'XPS 13', 'year': 2020}\n",
    "\n"
   ]
  },
  {
   "cell_type": "markdown",
   "metadata": {},
   "source": [
    "### 2.3 Checking for Keys in Dictionaries (5 minutes)\n",
    "\n",
    "You can check if a key exists in a dictionary using the `in` keyword.\n",
    "\n",
    "**Example:**"
   ]
  },
  {
   "cell_type": "code",
   "execution_count": 11,
   "metadata": {},
   "outputs": [
    {
     "name": "stdout",
     "output_type": "stream",
     "text": [
      "True\n",
      "False\n"
     ]
    }
   ],
   "source": [
    "# Checking if a key exists\n",
    "print(\"name\" in person)  # Output: True\n",
    "print(\"email\" in person)  # Output: False\n"
   ]
  },
  {
   "cell_type": "markdown",
   "metadata": {},
   "source": [
    "### Practice Problem 4: Checking for Keys (5 minutes)\n",
    "\n",
    "Create a dictionary representing a smartphone with keys brand, model, and storage. Check if the key battery exists in the dictionary.\n",
    "\n",
    "**Solution:**"
   ]
  },
  {
   "cell_type": "code",
   "execution_count": 12,
   "metadata": {},
   "outputs": [
    {
     "name": "stdout",
     "output_type": "stream",
     "text": [
      "False\n"
     ]
    }
   ],
   "source": [
    "# Dictionary representing a smartphone\n",
    "smartphone = {\n",
    "    \"brand\": \"Apple\",\n",
    "    \"model\": \"iPhone 12\",\n",
    "    \"storage\": \"128GB\"\n",
    "}\n",
    "\n",
    "# Checking if a key exists\n",
    "print(\"battery\" in smartphone)  # Output: False\n"
   ]
  },
  {
   "cell_type": "markdown",
   "metadata": {},
   "source": [
    "## 3. Using Loops with Dictionaries (30 minutes)\n",
    "\n",
    "### 3.1 Iterating Over Keys (10 minutes)\n",
    "\n",
    "You can use a for loop to iterate over the keys in a dictionary.\n",
    "\n",
    "**Example:**"
   ]
  },
  {
   "cell_type": "code",
   "execution_count": 13,
   "metadata": {},
   "outputs": [
    {
     "name": "stdout",
     "output_type": "stream",
     "text": [
      "name John\n",
      "city New York\n"
     ]
    }
   ],
   "source": [
    "# Iterating over keys\n",
    "for key in person:\n",
    "    print(key, person[key])\n"
   ]
  },
  {
   "cell_type": "markdown",
   "metadata": {},
   "source": [
    "### Practice Problem 5: Iterating Over Keys (5 minutes)\n",
    "\n",
    "Create a dictionary representing a movie with keys title, director, year, and rating. Use a for loop to print each key and its value.\n",
    "\n",
    "**Solution:**"
   ]
  },
  {
   "cell_type": "code",
   "execution_count": 14,
   "metadata": {},
   "outputs": [
    {
     "name": "stdout",
     "output_type": "stream",
     "text": [
      "title : Inception\n",
      "director : Christopher Nolan\n",
      "year : 2010\n",
      "rating : 8.8\n"
     ]
    }
   ],
   "source": [
    "# Dictionary representing a movie\n",
    "movie = {\n",
    "    \"title\": \"Inception\",\n",
    "    \"director\": \"Christopher Nolan\",\n",
    "    \"year\": 2010,\n",
    "    \"rating\": 8.8\n",
    "}\n",
    "\n",
    "# Iterating over keys\n",
    "for key in movie:\n",
    "    print(key, \":\", movie[key])\n"
   ]
  },
  {
   "cell_type": "markdown",
   "metadata": {},
   "source": [
    "### 3.2 Iterating Over Key-Value Pairs (10 minutes)\n",
    "\n",
    "You can use the items() method to iterate over key-value pairs in a dictionary.\n",
    "\n",
    "**Example:**"
   ]
  },
  {
   "cell_type": "code",
   "execution_count": 15,
   "metadata": {},
   "outputs": [
    {
     "name": "stdout",
     "output_type": "stream",
     "text": [
      "name John\n",
      "city New York\n"
     ]
    }
   ],
   "source": [
    "# Iterating over key-value pairs\n",
    "for key, value in person.items():\n",
    "    print(key, value)\n"
   ]
  },
  {
   "cell_type": "markdown",
   "metadata": {},
   "source": [
    "### Practice Problem 6: Iterating Over Key-Value Pairs (5 minutes)\n",
    "\n",
    "Create a dictionary representing a song with keys title, artist, album, and year. Use a for loop to iterate over key-value pairs and print them.\n",
    "\n",
    "**Solution:**"
   ]
  },
  {
   "cell_type": "code",
   "execution_count": 16,
   "metadata": {},
   "outputs": [
    {
     "name": "stdout",
     "output_type": "stream",
     "text": [
      "title : Imagine\n",
      "artist : John Lennon\n",
      "album : Imagine\n",
      "year : 1971\n"
     ]
    }
   ],
   "source": [
    "# Dictionary representing a song\n",
    "song = {\n",
    "    \"title\": \"Imagine\",\n",
    "    \"artist\": \"John Lennon\",\n",
    "    \"album\": \"Imagine\",\n",
    "    \"year\": 1971\n",
    "}\n",
    "\n",
    "# Iterating over key-value pairs\n",
    "for key, value in song.items():\n",
    "    print(key, \":\", value)\n"
   ]
  },
  {
   "cell_type": "markdown",
   "metadata": {},
   "source": [
    "## 4. Dictionaries and Functions (20 minutes)\n",
    "\n",
    "### 4.1 Passing Dictionaries to Functions (10 minutes)\n",
    "\n",
    "You can pass dictionaries as arguments to functions and perform operations on them.\n",
    "\n",
    "**Example:**"
   ]
  },
  {
   "cell_type": "code",
   "execution_count": 17,
   "metadata": {},
   "outputs": [
    {
     "name": "stdout",
     "output_type": "stream",
     "text": [
      "name John\n",
      "city New York\n"
     ]
    }
   ],
   "source": [
    "# Function to print all key-value pairs in a dictionary\n",
    "def print_dictionary(d):\n",
    "    for key, value in d.items():\n",
    "        print(key, value)\n",
    "\n",
    "# Test the function\n",
    "print_dictionary(person)\n"
   ]
  },
  {
   "cell_type": "markdown",
   "metadata": {},
   "source": [
    "### Practice Problem 7: Functions with Dictionaries (10 minutes)\n",
    "\n",
    "Write a function `calculate_average_rating` that takes a dictionary of movie ratings (movie title as key and rating as value) and returns the average rating.\n",
    "\n",
    "**Solution:**"
   ]
  },
  {
   "cell_type": "code",
   "execution_count": 18,
   "metadata": {},
   "outputs": [
    {
     "name": "stdout",
     "output_type": "stream",
     "text": [
      "Average Rating: 8.575\n"
     ]
    }
   ],
   "source": [
    "def calculate_average_rating(ratings):\n",
    "    total = 0\n",
    "    count = 0\n",
    "    for rating in ratings.values():\n",
    "        total += rating\n",
    "        count += 1\n",
    "    return total / count\n",
    "\n",
    "# Test the function\n",
    "ratings = {\n",
    "    \"Inception\": 8.8,\n",
    "    \"The Dark Knight\": 9.0,\n",
    "    \"Interstellar\": 8.6,\n",
    "    \"Dunkirk\": 7.9\n",
    "}\n",
    "\n",
    "average_rating = calculate_average_rating(ratings)\n",
    "print(\"Average Rating:\", average_rating)  # Output: Average Rating: 8.575\n"
   ]
  },
  {
   "cell_type": "markdown",
   "metadata": {},
   "source": [
    "## Conclusion\n",
    "\n",
    "In this tutorial, you learned about:\n",
    "- The basics of dictionaries and how they differ from lists\n",
    "- Creating, accessing, and modifying dictionaries\n",
    "- Removing elements and checking for keys in dictionaries\n",
    "- Iterating over dictionaries using loops\n",
    "- Using dictionaries with functions\n",
    "\n",
    "By working through these examples and practice problems, you now have a solid understanding of dictionaries in Python.\n",
    "\n",
    "### Additional Practice Problems\n",
    "\n",
    "#### Merging Dictionaries\n",
    "\n",
    "Write a function `merge_dictionaries` that takes two dictionaries and merges them into a single dictionary.\n",
    "\n",
    "**Solution:**"
   ]
  },
  {
   "cell_type": "code",
   "execution_count": 19,
   "metadata": {},
   "outputs": [
    {
     "name": "stdout",
     "output_type": "stream",
     "text": [
      "Merged Dictionary: {'a': 1, 'b': 2, 'c': 3, 'd': 4}\n"
     ]
    }
   ],
   "source": [
    "def merge_dictionaries(dict1, dict2):\n",
    "    merged_dict = dict1.copy()\n",
    "    merged_dict.update(dict2)\n",
    "    return merged_dict\n",
    "\n",
    "# Example dictionaries\n",
    "dict1 = {\"a\": 1, \"b\": 2}\n",
    "dict2 = {\"c\": 3, \"d\": 4}\n",
    "\n",
    "# Calling the function and printing the result\n",
    "print(\"Merged Dictionary:\", merge_dictionaries(dict1, dict2))"
   ]
  },
  {
   "cell_type": "markdown",
   "metadata": {},
   "source": [
    "## Finding Key with Maximum Value:\n",
    "\n",
    "Write a function `find_max_value_key` that takes a dictionary and returns the key with the highest value.\n",
    "\n",
    "**Solution:**"
   ]
  },
  {
   "cell_type": "code",
   "execution_count": 20,
   "metadata": {},
   "outputs": [
    {
     "name": "stdout",
     "output_type": "stream",
     "text": [
      "Movie with the highest rating: The Shawshank Redemption\n"
     ]
    }
   ],
   "source": [
    "def find_max_value_key(dictionary):\n",
    "    if not dictionary:\n",
    "        return None\n",
    "    max_key = max(dictionary, key=dictionary.get)\n",
    "    return max_key\n",
    "\n",
    "# Example usage:\n",
    "movie_ratings = {\"The Shawshank Redemption\": 9.3, \"The Godfather\": 9.2, \"The Dark Knight\": 9.0}\n",
    "print(\"Movie with the highest rating:\", find_max_value_key(movie_ratings))"
   ]
  },
  {
   "cell_type": "markdown",
   "metadata": {},
   "source": [
    "## Counting Occurrences:\n",
    "\n",
    "Write a function `count_occurrences` that takes a list of words and returns a dictionary with the words as keys and their occurrences as values.\n",
    "\n",
    "**Solution:**"
   ]
  },
  {
   "cell_type": "code",
   "execution_count": 21,
   "metadata": {},
   "outputs": [
    {
     "name": "stdout",
     "output_type": "stream",
     "text": [
      "{'apple': 3, 'banana': 2, 'orange': 1}\n"
     ]
    }
   ],
   "source": [
    "def count_occurrences(words):\n",
    "    occurrences = {}\n",
    "    for word in words:\n",
    "        if word in occurrences:\n",
    "            occurrences[word] += 1\n",
    "        else:\n",
    "            occurrences[word] = 1\n",
    "    return occurrences\n",
    "\n",
    "# Example usage:\n",
    "word_list = [\"apple\", \"banana\", \"apple\", \"orange\", \"banana\", \"apple\"]\n",
    "print(count_occurrences(word_list))\n"
   ]
  },
  {
   "cell_type": "code",
   "execution_count": null,
   "metadata": {},
   "outputs": [],
   "source": []
  }
 ],
 "metadata": {
  "kernelspec": {
   "display_name": "Python 3",
   "language": "python",
   "name": "python3"
  },
  "language_info": {
   "codemirror_mode": {
    "name": "ipython",
    "version": 3
   },
   "file_extension": ".py",
   "mimetype": "text/x-python",
   "name": "python",
   "nbconvert_exporter": "python",
   "pygments_lexer": "ipython3",
   "version": "3.11.5"
  }
 },
 "nbformat": 4,
 "nbformat_minor": 2
}
