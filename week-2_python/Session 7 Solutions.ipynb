{
 "cells": [
  {
   "cell_type": "markdown",
   "metadata": {},
   "source": [
    "# Session 7: Loops and Conditionals\n",
    "## Tutorial: Loops and Conditionals in Python\n",
    "\n",
    "### Introduction\n",
    "In this tutorial, you will learn how to use loops and conditionals in Python. Loops allow you to execute a block of code multiple times, and conditionals allow you to make decisions in your code. By combining loops, conditionals, and NumPy arrays, you can perform complex operations efficiently.\n",
    "\n",
    "### Objectives\n",
    "- Understand `for` and `while` loops\n",
    "- Use conditionals (`if`, `elif`, `else`) to make decisions\n",
    "- Apply loops and conditionals to arrays with NumPy\n",
    "- Solve practice problems to reinforce your understanding\n",
    "\n",
    "### Prerequisites\n",
    "- Basic knowledge of Python variables, functions, and arrays\n",
    "- Familiarity with NumPy\n",
    "\n",
    "### Estimated Time: 1.5 hours\n",
    "\n",
    "## 1. Loops in Python\n",
    "\n",
    "### 1.1 `for` Loop\n",
    "The `for` loop is used to iterate over a sequence (such as a list, tuple, or array).\n",
    "\n",
    "**Syntax:**\n",
    "```python\n",
    "for variable in sequence:\n",
    "    # code to execute in each iteration\n"
   ]
  },
  {
   "cell_type": "markdown",
   "metadata": {},
   "source": [
    "#### Example:"
   ]
  },
  {
   "cell_type": "code",
   "execution_count": 2,
   "metadata": {},
   "outputs": [
    {
     "name": "stdout",
     "output_type": "stream",
     "text": [
      "1\n",
      "2\n",
      "3\n",
      "4\n",
      "5\n"
     ]
    }
   ],
   "source": [
    "import numpy as np\n",
    "\n",
    "array = np.array([1, 2, 3, 4, 5])\n",
    "\n",
    "for element in array:\n",
    "    print(element)"
   ]
  },
  {
   "cell_type": "markdown",
   "metadata": {},
   "source": [
    "This will output each element of the array.\n",
    "\n",
    "## Practice Problem 1: Sum of Elements\n",
    "\n",
    "Write a function `sum_array` that takes a NumPy array and returns the sum of its elements.\n",
    "\n",
    "**Solution:**"
   ]
  },
  {
   "cell_type": "code",
   "execution_count": 3,
   "metadata": {},
   "outputs": [
    {
     "name": "stdout",
     "output_type": "stream",
     "text": [
      "Sum of array elements: 15\n"
     ]
    }
   ],
   "source": [
    "def sum_array(array):\n",
    "    total = 0\n",
    "    for element in array:\n",
    "        total += element\n",
    "    return total\n",
    "\n",
    "# Test the function\n",
    "array = np.array([1, 2, 3, 4, 5])\n",
    "print(\"Sum of array elements:\", sum_array(array))  # Output should be 15\n"
   ]
  },
  {
   "cell_type": "markdown",
   "metadata": {},
   "source": [
    "### 1.2 While Loop\n",
    "\n",
    "The while loop repeats as long as a condition is true.\n",
    "\n",
    "**Syntax:**\n",
    "\n",
    "```python\n",
    "while condition:\n",
    "    # code to execute while the condition is true\n"
   ]
  },
  {
   "cell_type": "markdown",
   "metadata": {},
   "source": [
    "#### Example"
   ]
  },
  {
   "cell_type": "code",
   "execution_count": 4,
   "metadata": {},
   "outputs": [
    {
     "name": "stdout",
     "output_type": "stream",
     "text": [
      "0\n",
      "1\n",
      "2\n",
      "3\n",
      "4\n"
     ]
    }
   ],
   "source": [
    "count = 0\n",
    "while count < 5:\n",
    "    print(count)\n",
    "    count += 1\n"
   ]
  },
  {
   "cell_type": "markdown",
   "metadata": {},
   "source": [
    "This will print numbers from 0 to 4.\n",
    "\n",
    "## Practice Problem 2: Count Elements\n",
    "\n",
    "Write a function `count_elements` that takes a NumPy array and a value, and returns the count of how many times the value appears in the array.\n",
    "\n",
    "**Solution:**\n"
   ]
  },
  {
   "cell_type": "code",
   "execution_count": 5,
   "metadata": {},
   "outputs": [
    {
     "name": "stdout",
     "output_type": "stream",
     "text": [
      "Count of value in array: 3\n"
     ]
    }
   ],
   "source": [
    "def count_elements(array, value):\n",
    "    count = 0\n",
    "    for element in array:\n",
    "        if element == value:\n",
    "            count += 1\n",
    "    return count\n",
    "\n",
    "# Test the function\n",
    "array = np.array([1, 2, 3, 4, 5, 3, 3])\n",
    "value = 3\n",
    "print(\"Count of value in array:\", count_elements(array, value))  # Output should be 3\n"
   ]
  },
  {
   "cell_type": "markdown",
   "metadata": {},
   "source": [
    "# 2. Conditionals in Python"
   ]
  },
  {
   "cell_type": "markdown",
   "metadata": {},
   "source": [
    "### 2.1 if, elif, else\n",
    "\n",
    "Conditionals allow you to execute certain pieces of code based on conditions.\n",
    "\n",
    "**Syntax:**\n"
   ]
  },
  {
   "cell_type": "markdown",
   "metadata": {},
   "source": [
    "```python\n",
    "\n",
    "if condition:\n",
    "    # code to execute if condition is true\n",
    "elif another_condition:\n",
    "    # code to execute if another_condition is true\n",
    "else:\n",
    "    # code to execute if none of the above conditions are true\n"
   ]
  },
  {
   "cell_type": "markdown",
   "metadata": {},
   "source": [
    "#### Example"
   ]
  },
  {
   "cell_type": "code",
   "execution_count": 7,
   "metadata": {},
   "outputs": [
    {
     "name": "stdout",
     "output_type": "stream",
     "text": [
      "x is positive\n"
     ]
    }
   ],
   "source": [
    "x = 10\n",
    "\n",
    "if x > 0:\n",
    "    print(\"x is positive\")\n",
    "elif x < 0:\n",
    "    print(\"x is negative\")\n",
    "else:\n",
    "    print(\"x is zero\")\n"
   ]
  },
  {
   "cell_type": "markdown",
   "metadata": {},
   "source": [
    "## Practice Problem 3: Classify Numbers\n",
    "\n",
    "Write a function `classify_numbers` that takes a NumPy array and returns an array of strings where each number is classified as \"positive\", \"negative\", or \"zero\".\n",
    "\n",
    "**Solution:**\n"
   ]
  },
  {
   "cell_type": "code",
   "execution_count": 8,
   "metadata": {},
   "outputs": [
    {
     "name": "stdout",
     "output_type": "stream",
     "text": [
      "Classifications: ['negative' 'zero' 'positive' 'positive' 'negative']\n"
     ]
    }
   ],
   "source": [
    "def classify_numbers(array):\n",
    "    classifications = []\n",
    "    for number in array:\n",
    "        if number > 0:\n",
    "            classifications.append(\"positive\")\n",
    "        elif number < 0:\n",
    "            classifications.append(\"negative\")\n",
    "        else:\n",
    "            classifications.append(\"zero\")\n",
    "    return np.array(classifications)\n",
    "\n",
    "# Test the function\n",
    "array = np.array([-1, 0, 1, 2, -2])\n",
    "print(\"Classifications:\", classify_numbers(array))\n",
    "# Output should be: ['negative' 'zero' 'positive' 'positive' 'negative']\n"
   ]
  },
  {
   "cell_type": "markdown",
   "metadata": {},
   "source": [
    "# 3. Combining Loops and Conditionals with NumPy\n",
    "\n",
    "Combining loops and conditionals allows for more complex operations on arrays.\n",
    "\n",
    "**Example: Calculate Mean and Classify**\n",
    "\n",
    "Write a function `mean_and_classify` that calculates the mean of a NumPy array and classifies each element as \"above mean\" or \"below mean\".\n",
    "\n",
    "**Solution:**\n"
   ]
  },
  {
   "cell_type": "code",
   "execution_count": 9,
   "metadata": {},
   "outputs": [
    {
     "name": "stdout",
     "output_type": "stream",
     "text": [
      "Mean value: 3.0\n",
      "Classifications: ['below mean' 'below mean' 'below mean' 'above mean' 'above mean']\n"
     ]
    }
   ],
   "source": [
    "def mean_and_classify(array):\n",
    "    mean_value = np.mean(array)\n",
    "    classifications = []\n",
    "    for number in array:\n",
    "        if number > mean_value:\n",
    "            classifications.append(\"above mean\")\n",
    "        else:\n",
    "            classifications.append(\"below mean\")\n",
    "    return mean_value, np.array(classifications)\n",
    "\n",
    "# Test the function\n",
    "array = np.array([1, 2, 3, 4, 5])\n",
    "mean_value, classifications = mean_and_classify(array)\n",
    "print(\"Mean value:\", mean_value)\n",
    "print(\"Classifications:\", classifications)\n",
    "# Output should be: Mean value: 3.0\n",
    "# Classifications: ['below mean' 'below mean' 'below mean' 'above mean' 'above mean']\n"
   ]
  },
  {
   "cell_type": "markdown",
   "metadata": {},
   "source": [
    "## Practice Problem 4: Identify Peaks\n",
    "\n",
    "Write a function `identify_peaks` that takes a NumPy array and returns an array of indices where the elements are greater than their neighbors.\n",
    "\n",
    "**Solution:**\n"
   ]
  },
  {
   "cell_type": "code",
   "execution_count": 11,
   "metadata": {},
   "outputs": [
    {
     "name": "stdout",
     "output_type": "stream",
     "text": [
      "Peak indices: [2 5]\n"
     ]
    }
   ],
   "source": [
    "def identify_peaks(array):\n",
    "    peaks = []\n",
    "    for i in range(1, len(array) - 1):\n",
    "        if array[i] > array[i - 1] and array[i] > array[i + 1]:\n",
    "            peaks.append(i)\n",
    "    return np.array(peaks)\n",
    "\n",
    "# Test the function\n",
    "array = np.array([1, 3, 7, 1, 2, 6, 0, 1])\n",
    "print(\"Peak indices:\", identify_peaks(array))\n",
    "# Output should be: [2, 5]"
   ]
  },
  {
   "cell_type": "markdown",
   "metadata": {},
   "source": [
    "## Conclusion\n",
    "\n",
    "In this tutorial, you have learned how to:\n",
    "\n",
    "- Use for and while loops to iterate over arrays\n",
    "- Apply conditionals (if, elif, else) to make decisions within loops\n",
    "- Combine loops and conditionals to perform complex operations on NumPy arrays\n",
    "\n",
    "**Practice Problems Summary:**\n",
    "\n",
    "1. **Sum of Elements:** Write a function to sum elements of an array.\n",
    "2. **Count Elements:** Write a function to count occurrences of a value in an array.\n",
    "3. **Classify Numbers:** Write a function to classify numbers as \"positive\", \"negative\", or \"zero\".\n",
    "4. **Mean and Classify:** Write a function to calculate the mean and classify elements as \"above mean\" or \"below mean\".\n",
    "5. **Identify Peaks:** Write a function to identify peak elements in an array.\n",
    "\n",
    "By solving these practice problems, you will reinforce your understanding of loops and conditionals in Python, especially in the context of arrays and NumPy.\n"
   ]
  },
  {
   "cell_type": "markdown",
   "metadata": {},
   "source": []
  }
 ],
 "metadata": {
  "kernelspec": {
   "display_name": "Python 3 (ipykernel)",
   "language": "python",
   "name": "python3"
  },
  "language_info": {
   "codemirror_mode": {
    "name": "ipython",
    "version": 3
   },
   "file_extension": ".py",
   "mimetype": "text/x-python",
   "name": "python",
   "nbconvert_exporter": "python",
   "pygments_lexer": "ipython3",
   "version": "3.9.13"
  }
 },
 "nbformat": 4,
 "nbformat_minor": 2
}
