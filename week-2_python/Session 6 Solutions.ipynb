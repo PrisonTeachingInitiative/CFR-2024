{
 "cells": [
  {
   "cell_type": "markdown",
   "metadata": {},
   "source": [
    "# Practical Exercise: DNA Sequence Analysis\n",
    "\n",
    "### Scenario\n",
    "You are a bioinformatician analyzing DNA sequences. You need to write a Python program to calculate various properties of DNA sequences and perform some common bioinformatics tasks using variables, functions, and NumPy.\n",
    "\n",
    "### Objectives\n",
    "- Store DNA sequences in variables\n",
    "- Write functions to compute the GC content of a DNA sequence\n",
    "- Use NumPy to perform statistical analysis on sequence lengths\n",
    "- Solve a simple biological equation related to DNA sequence analysis\n",
    "\n",
    "---\n",
    "\n",
    "## Step 1: Define Variables\n",
    "\n",
    "**Task**: Store multiple DNA sequences and their names using variables.\n"
   ]
  },
  {
   "cell_type": "code",
   "execution_count": 2,
   "metadata": {},
   "outputs": [
    {
     "name": "stdout",
     "output_type": "stream",
     "text": [
      "Seq1: ATGCGTAACGTA\n",
      "Seq2: CGTACGTAGCTA\n",
      "Seq3: TACGATCGTACG\n",
      "Seq4: GCTAGCTAGCTA\n",
      "Seq5: ATCGTACGATCG\n"
     ]
    }
   ],
   "source": [
    "# Step 1: Define Variables\n",
    "\n",
    "# DNA sequences\n",
    "sequence_1 = \"ATGCGTAACGTA\"\n",
    "sequence_2 = \"CGTACGTAGCTA\"\n",
    "sequence_3 = \"TACGATCGTACG\"\n",
    "sequence_4 = \"GCTAGCTAGCTA\"\n",
    "sequence_5 = \"ATCGTACGATCG\"\n",
    "\n",
    "# Sequence names\n",
    "name_1 = \"Seq1\"\n",
    "name_2 = \"Seq2\"\n",
    "name_3 = \"Seq3\"\n",
    "name_4 = \"Seq4\"\n",
    "name_5 = \"Seq5\"\n",
    "\n",
    "# Print the sequences and their names to verify\n",
    "print(f\"{name_1}: {sequence_1}\")\n",
    "print(f\"{name_2}: {sequence_2}\")\n",
    "print(f\"{name_3}: {sequence_3}\")\n",
    "print(f\"{name_4}: {sequence_4}\")\n",
    "print(f\"{name_5}: {sequence_5}\")\n"
   ]
  },
  {
   "cell_type": "markdown",
   "metadata": {},
   "source": [
    "---\n",
    "\n",
    "## Step 2: Write Functions\n",
    "\n",
    "### Task 1: Calculate GC Content\n",
    "\n",
    "Write a function to calculate the GC content of a DNA sequence. The GC content is the percentage of bases that are either G or C.\n"
   ]
  },
  {
   "cell_type": "code",
   "execution_count": 3,
   "metadata": {},
   "outputs": [
    {
     "name": "stdout",
     "output_type": "stream",
     "text": [
      "GC Content of Seq1: 41.67%\n",
      "GC Content of Seq2: 50.00%\n",
      "GC Content of Seq3: 50.00%\n",
      "GC Content of Seq4: 50.00%\n",
      "GC Content of Seq5: 50.00%\n"
     ]
    }
   ],
   "source": [
    "# Step 2: Write Functions\n",
    "\n",
    "def gc_content(sequence):\n",
    "    \"\"\"\n",
    "    Calculate the GC content of a DNA sequence.\n",
    "\n",
    "    Parameters:\n",
    "    sequence (str): The DNA sequence.\n",
    "\n",
    "    Returns:\n",
    "    float: The GC content as a percentage.\n",
    "    \"\"\"\n",
    "    # Count the occurrences of G and C\n",
    "    g_count = sequence.count('G')\n",
    "    c_count = sequence.count('C')\n",
    "    gc_count = g_count + c_count\n",
    "    \n",
    "    # Calculate the percentage\n",
    "    gc_percentage = (gc_count / len(sequence)) * 100\n",
    "    return gc_percentage\n",
    "\n",
    "# Test the gc_content function on each sequence individually\n",
    "gc_content_1 = gc_content(sequence_1)\n",
    "gc_content_2 = gc_content(sequence_2)\n",
    "gc_content_3 = gc_content(sequence_3)\n",
    "gc_content_4 = gc_content(sequence_4)\n",
    "gc_content_5 = gc_content(sequence_5)\n",
    "\n",
    "print(f\"GC Content of {name_1}: {gc_content_1:.2f}%\")\n",
    "print(f\"GC Content of {name_2}: {gc_content_2:.2f}%\")\n",
    "print(f\"GC Content of {name_3}: {gc_content_3:.2f}%\")\n",
    "print(f\"GC Content of {name_4}: {gc_content_4:.2f}%\")\n",
    "print(f\"GC Content of {name_5}: {gc_content_5:.2f}%\")\n"
   ]
  },
  {
   "cell_type": "markdown",
   "metadata": {},
   "source": [
    "### Task 2: Calculate AT Content\n",
    "\n",
    "Write a function to calculate the AT content of a DNA sequence. The AT content is the percentage of bases that are either A or T.\n"
   ]
  },
  {
   "cell_type": "code",
   "execution_count": 4,
   "metadata": {},
   "outputs": [
    {
     "name": "stdout",
     "output_type": "stream",
     "text": [
      "AT Content of Seq1: 58.33%\n",
      "AT Content of Seq2: 50.00%\n",
      "AT Content of Seq3: 50.00%\n",
      "AT Content of Seq4: 50.00%\n",
      "AT Content of Seq5: 50.00%\n"
     ]
    }
   ],
   "source": [
    "def at_content(sequence):\n",
    "    \"\"\"\n",
    "    Calculate the AT content of a DNA sequence.\n",
    "\n",
    "    Parameters:\n",
    "    sequence (str): The DNA sequence.\n",
    "\n",
    "    Returns:\n",
    "    float: The AT content as a percentage.\n",
    "    \"\"\"\n",
    "    # Count the occurrences of A and T\n",
    "    a_count = sequence.count('A')\n",
    "    t_count = sequence.count('T')\n",
    "    at_count = a_count + t_count\n",
    "    \n",
    "    # Calculate the percentage\n",
    "    at_percentage = (at_count / len(sequence)) * 100\n",
    "    return at_percentage\n",
    "\n",
    "# Test the at_content function on each sequence individually\n",
    "at_content_1 = at_content(sequence_1)\n",
    "at_content_2 = at_content(sequence_2)\n",
    "at_content_3 = at_content(sequence_3)\n",
    "at_content_4 = at_content(sequence_4)\n",
    "at_content_5 = at_content(sequence_5)\n",
    "\n",
    "print(f\"AT Content of {name_1}: {at_content_1:.2f}%\")\n",
    "print(f\"AT Content of {name_2}: {at_content_2:.2f}%\")\n",
    "print(f\"AT Content of {name_3}: {at_content_3:.2f}%\")\n",
    "print(f\"AT Content of {name_4}: {at_content_4:.2f}%\")\n",
    "print(f\"AT Content of {name_5}: {at_content_5:.2f}%\")\n"
   ]
  },
  {
   "cell_type": "markdown",
   "metadata": {},
   "source": [
    "---\n",
    "\n",
    "## Step 3: Statistical Analysis with NumPy\n",
    "\n",
    "**Task**: Calculate Mean and Standard Deviation\n",
    "\n",
    "Use NumPy to calculate the mean and standard deviation of the lengths of the DNA sequences.\n"
   ]
  },
  {
   "cell_type": "code",
   "execution_count": 5,
   "metadata": {},
   "outputs": [
    {
     "name": "stdout",
     "output_type": "stream",
     "text": [
      "Mean Length: 12.0\n",
      "Standard Deviation of Lengths: 0.0\n"
     ]
    }
   ],
   "source": [
    "# Step 3: Statistical Analysis with NumPy\n",
    "\n",
    "import numpy as np\n",
    "\n",
    "# Calculate lengths of sequences\n",
    "length_1 = len(sequence_1)\n",
    "length_2 = len(sequence_2)\n",
    "length_3 = len(sequence_3)\n",
    "length_4 = len(sequence_4)\n",
    "length_5 = len(sequence_5)\n",
    "\n",
    "# Convert lengths to NumPy array\n",
    "lengths_array = np.array([length_1, length_2, length_3, length_4, length_5])\n",
    "\n",
    "# Calculate mean and standard deviation\n",
    "mean_length = np.mean(lengths_array)\n",
    "std_dev_length = np.std(lengths_array)\n",
    "\n",
    "print(f\"Mean Length: {mean_length}\")\n",
    "print(f\"Standard Deviation of Lengths: {std_dev_length}\")\n"
   ]
  },
  {
   "cell_type": "markdown",
   "metadata": {},
   "source": [
    "---\n",
    "\n",
    "## Step 4: Solve a Biological Equation\n",
    "\n",
    "**Task**: Calculate DNA Concentration Over Time\n",
    "\n",
    "In a DNA sample, the concentration of a DNA fragment can be modeled using the equation:\n",
    "`C(t) = C_0 * e^(-kt)`\n",
    "where `C(t)` is the concentration at time `t`, `C_0` is the initial concentration, and `k` is the decay constant.\n"
   ]
  },
  {
   "cell_type": "code",
   "execution_count": 6,
   "metadata": {},
   "outputs": [
    {
     "name": "stdout",
     "output_type": "stream",
     "text": [
      "At time 0: Concentration = 100.00\n",
      "At time 1: Concentration = 90.48\n",
      "At time 2: Concentration = 81.87\n",
      "At time 3: Concentration = 74.08\n",
      "At time 4: Concentration = 67.03\n",
      "At time 5: Concentration = 60.65\n"
     ]
    }
   ],
   "source": [
    "# Step 4: Solve a Biological Equation\n",
    "\n",
    "import numpy as np\n",
    "\n",
    "def concentration(C0, k, t):\n",
    "    \"\"\"\n",
    "    Calculate the concentration of a DNA fragment at time t.\n",
    "\n",
    "    Parameters:\n",
    "    C0 (float): Initial concentration.\n",
    "    k (float): Decay constant.\n",
    "    t (float or np.array): Time.\n",
    "\n",
    "    Returns:\n",
    "    float or np.array: Concentration at time t.\n",
    "    \"\"\"\n",
    "    return C0 * np.exp(-k * t)\n",
    "\n",
    "# Define parameters\n",
    "C0 = 100  # Initial concentration\n",
    "k = 0.1   # Decay constant\n",
    "time_points = np.array([0, 1, 2, 3, 4, 5])  # Time points\n",
    "\n",
    "# Calculate concentrations at each time point\n",
    "concentrations = concentration(C0, k, time_points)\n",
    "\n",
    "# Print results\n",
    "for i in range(len(time_points)):\n",
    "    print(f\"At time {time_points[i]}: Concentration = {concentrations[i]:.2f}\")\n"
   ]
  },
  {
   "cell_type": "markdown",
   "metadata": {},
   "source": [
    "---\n",
    "\n",
    "# Conclusion\n",
    "By completing this exercise, you have:\n",
    "- Stored and manipulated DNA sequences using variables\n",
    "- Written functions to calculate GC content and AT content of DNA sequences\n",
    "- Used NumPy for statistical analysis and solving equations\n"
   ]
  },
  {
   "cell_type": "markdown",
   "metadata": {},
   "source": []
  }
 ],
 "metadata": {
  "kernelspec": {
   "display_name": "Python 3 (ipykernel)",
   "language": "python",
   "name": "python3"
  },
  "language_info": {
   "codemirror_mode": {
    "name": "ipython",
    "version": 3
   },
   "file_extension": ".py",
   "mimetype": "text/x-python",
   "name": "python",
   "nbconvert_exporter": "python",
   "pygments_lexer": "ipython3",
   "version": "3.9.13"
  }
 },
 "nbformat": 4,
 "nbformat_minor": 2
}
